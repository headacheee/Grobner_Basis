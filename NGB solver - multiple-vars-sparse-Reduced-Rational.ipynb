{
 "cells": [
  {
   "cell_type": "code",
   "execution_count": 17,
   "metadata": {
    "collapsed": false
   },
   "outputs": [
    {
     "name": "stdout",
     "output_type": "stream",
     "text": [
      "The memory_profiler extension is already loaded. To reload it, use:\n",
      "  %reload_ext memory_profiler\n"
     ]
    }
   ],
   "source": [
    "from sympy import *\n",
    "import numpy as np\n",
    "import scipy as sp\n",
    "from scipy.linalg import lu\n",
    "from scipy.sparse.linalg import spilu\n",
    "import math\n",
    "import sympy \n",
    "import itertools\n",
    "import sys\n",
    "import time\n",
    "import multiprocessing\n",
    "\n",
    "from __future__ import print_function\n",
    "\n",
    "\n",
    "from copy import deepcopy\n",
    "import time\n",
    "import fractions\n",
    "import timeit\n",
    "from fractions import Fraction\n",
    "\n",
    "import matplotlib.pyplot as plt\n",
    "\n",
    "%matplotlib inline\n",
    "\n",
    "%load_ext memory_profiler"
   ]
  },
  {
   "cell_type": "markdown",
   "metadata": {},
   "source": [
    "# print function"
   ]
  },
  {
   "cell_type": "code",
   "execution_count": 18,
   "metadata": {
    "collapsed": false
   },
   "outputs": [],
   "source": [
    "def print_row(row,symbols,nvar,precision,cal=False,tol = 10**-5 ):\n",
    "    # nvar  \n",
    "    plus_flag = False\n",
    "    \n",
    "    for ele in row:\n",
    "        mul_flag = False\n",
    "        if ele[0] == 0:\n",
    "            continue\n",
    "        constant_flag = True\n",
    "        for i in range(nvar+1):\n",
    "            if i==0:\n",
    "                if plus_flag and ele[i]>0:\n",
    "                    print('+',end ='')\n",
    "                if ele[i]==-1.:\n",
    "                    print('-',end ='')\n",
    "                    continue\n",
    "                if ele[i] != 1.:\n",
    "                    if cal or precision:\n",
    "                        if cal:\n",
    "                            mul_flag = True\n",
    "                        print(ele[i],end=\"\")\n",
    "                    else:\n",
    "                        print(\"%2.2f\"%ele[i],end=\"\")\n",
    "                plus_flag = True\n",
    "                continue\n",
    "            if ele[i] != 0:\n",
    "                if mul_flag:\n",
    "                    print('*',end = \"\")\n",
    "                if cal :\n",
    "                    mul_flag = True\n",
    "                print(symbols[i-1],end = \"\")\n",
    "                if ele[i] > 1:\n",
    "                    if cal:\n",
    "                        print(\"**\",end=\"\")\n",
    "                    else:\n",
    "                        print(\"^\",end=\"\")\n",
    "                    print(int(ele[i]),end=\"\")\n",
    "                constant_flag = False\n",
    "        \n",
    "        if constant_flag and ele[0]==1 :\n",
    "            if cal or precision:\n",
    "                print(ele[0],end=\"\")\n",
    "            else:\n",
    "                print(\"%2.2f\"%ele[0],end=\"\")\n",
    "        if constant_flag and ele[0]==-1 :\n",
    "            if cal or precision:\n",
    "                print(1,end=\"\")\n",
    "            else:\n",
    "                print(\"%2.2f\"%1,end=\"\")\n",
    "        plus_flag = True\n",
    "    if cal:\n",
    "        print(\",\")\n",
    "    else:\n",
    "        print(\"\\\\\\\\\")\n",
    "            \n",
    "def print_all(M,nvar,symbols=[],cal=False,precision = False):\n",
    "    if len(symbols) == 0:\n",
    "        symbols = ['x0','x1','x2','x3','x4','x5','x6','x7'][:nvar]\n",
    "    for row in M:\n",
    "        if len(row)!=0:\n",
    "            print_row(row,symbols,nvar,precision,cal)\n",
    "    print(\"\")"
   ]
  },
  {
   "cell_type": "markdown",
   "metadata": {},
   "source": [
    "## Generate Gauissian Quaduature "
   ]
  },
  {
   "cell_type": "code",
   "execution_count": 52,
   "metadata": {
    "collapsed": false
   },
   "outputs": [],
   "source": [
    "# nomal Gaussian Quaduature\n",
    "def GQ(n=2,Float = False):\n",
    "    result = []\n",
    "    for i in range(2*n):\n",
    "        p = []\n",
    "        for j in range(n):\n",
    "            p_s = np.zeros(2*n+1,dtype = int)\n",
    "            p_s[0] = 1\n",
    "            p_s[2*j+1] = 1\n",
    "            p_s[2*j+2] = i\n",
    "            p.append(p_s.tolist())\n",
    "        if i-i/2*2 == 0 and Float:\n",
    "            p_s = np.zeros(2*n+1)\n",
    "            p_s[0] = -2./(i+1)\n",
    "            p.append(p_s.tolist())\n",
    "        elif i-i/2*2 == 0:\n",
    "            p_s = np.zeros(2*n+1,dtype = object)\n",
    "            p_s[0] = Fraction(-2,i+1)\n",
    "            p.append(p_s.tolist())\n",
    "            \n",
    "        result.append(p)\n",
    "    return result\n",
    "\n",
    "def GQ_sym(n=2,Latex = False):        \n",
    "    result = []\n",
    "    \n",
    "    if Latex:\n",
    "        for i in range(2*n):\n",
    "            if i-i/2*2 == 0:\n",
    "                c = \"w_%d\"%(i/2)\n",
    "                result.append(c)\n",
    "            else:\n",
    "                c = \"x_%d\"%(i/2)\n",
    "                result.append(c)\n",
    "        return result\n",
    "    \n",
    "    for i in range(2*n):\n",
    "        if i-i/2*2 == 0:\n",
    "            c = \"w%d\"%(i/2)\n",
    "            result.append(c)\n",
    "        else:\n",
    "            c = \"x%d\"%(i/2)\n",
    "            result.append(c)\n",
    "    return result"
   ]
  },
  {
   "cell_type": "code",
   "execution_count": 20,
   "metadata": {
    "collapsed": false
   },
   "outputs": [],
   "source": [
    "def GQS(n=2):\n",
    "    odd = False\n",
    "    if n-n/2*2 == 1:\n",
    "        odd = True\n",
    "    result = []\n",
    "    if True:\n",
    "        for i in range(2*n):\n",
    "            p = []\n",
    "            for j in range(n/2):\n",
    "                p_s = np.zeros(2*n - n/2*2+1,dtype = int)\n",
    "                p_s[0] = 1\n",
    "                p_s[2*j+1] = 1\n",
    "                p_s[2*j+2] = i\n",
    "                p.append(p_s.tolist())\n",
    "                \n",
    "                p_s = np.zeros(2*n - n/2*2+1,dtype = int)\n",
    "                p_s[0] = 1\n",
    "                if i-i/2*2 >0:\n",
    "                    p_s[0] = -1\n",
    "                p_s[2*j+1] = 1\n",
    "                p_s[2*j+2] = i\n",
    "                p.append(p_s.tolist())\n",
    "            if odd:\n",
    "                p_s = np.zeros(2*n - n/2*2+1,dtype = int)\n",
    "                p_s[0] = 1\n",
    "                p_s[2*n - n/2*2-1] = 1\n",
    "                p_s[2*n - n/2*2] = i\n",
    "                p.append(p_s.tolist())\n",
    "            \n",
    "            if i-i/2*2 == 0 :\n",
    "                p_s = np.zeros(2*n - n/2*2+1)\n",
    "                p_s[0] = -2./(i+1)\n",
    "                p.append(p_s.tolist())\n",
    "            \n",
    "            result.append(p)\n",
    "        return result\n",
    "    for i in range(2*n):\n",
    "        p = []\n",
    "        for j in range(n/2):\n",
    "            p_s = np.zeros(2*n+1,dtype = int)\n",
    "            p_s[0] = 1\n",
    "            p_s[2*j+1] = 1\n",
    "            p_s[2*j+2] = i             \n",
    "            p.append(p_s.tolist())\n",
    "                \n",
    "            p_s = np.zeros(2*n+1,dtype = int)\n",
    "            p_s[0] = 1\n",
    "            if i-i/2*2 >0:\n",
    "                p_s[0] = -1\n",
    "            p_s[2*j+1] = 1\n",
    "            p_s[2*j+2] = i\n",
    "            p.append(p_s.tolist())\n",
    "        if i-i/2*2 == 0:\n",
    "            p_s = np.zeros(n+1)\n",
    "            p_s[0] = -2./(i+1)\n",
    "            p.append(p_s.tolist())\n",
    "        result.append(p)\n",
    "    return result\n"
   ]
  },
  {
   "cell_type": "markdown",
   "metadata": {},
   "source": [
    "# formation of the coefficient matri for multi-variable"
   ]
  },
  {
   "cell_type": "code",
   "execution_count": 22,
   "metadata": {
    "collapsed": false
   },
   "outputs": [],
   "source": [
    "class CSR:\n",
    "    \n",
    "    def __init__(self, arg1,shape):\n",
    "        if len(arg1) == 3:\n",
    "            self.data = np.array(arg1[0])\n",
    "            self.indices = np.array(arg1[1])\n",
    "            self.indptr = np.array(arg1[2])\n",
    "            self.shape = shape\n",
    "            self.nnz = len(self.data)\n",
    "            self.eliminate_zeros()\n",
    "            \n",
    "            if len(self.data) != len(self.indices):\n",
    "                print(\"indices does not match\")\n",
    "            if len(self.data) != self.indptr[-1]:\n",
    "                print(\"indptr does not match\")\n",
    "            \n",
    "            \n",
    "        if len(arg1) == 2:\n",
    "            self.data =[]\n",
    "            self.indices = []\n",
    "            self.indptr = []\n",
    "            row_data = arg1[0]\n",
    "            ind = arg1[1]\n",
    "            self.shape = shape\n",
    "            \n",
    "            n = np.array(row_data).shape[0]\n",
    "            if (np.array(ind[0]).shape[0] != n):\n",
    "                print(\"Row index does not match\")\n",
    "            if (np.array(ind[1]).shape[0] != n):\n",
    "                print(\"Column index does not match\")\n",
    "\n",
    "            # Sort\n",
    "            for j in range(n):\n",
    "                for i in range(j,n):\n",
    "                    if ind[0][i] < ind[0][0]:\n",
    "                        a = deepcopy(row_data[0])\n",
    "                        b = deepcopy(ind[0][0])\n",
    "                        c = deepcopy(ind[1][0])\n",
    "                        \n",
    "                        ind[0][0] = deepcopy(ind[0][i])\n",
    "                        ind[1][0] = deepcopy(ind[1][i])\n",
    "                        row_data[0] = row_data[i]\n",
    "                        \n",
    "                        row_data[i] = a\n",
    "                        ind[0][i] = b\n",
    "                        ind[1][i] = c\n",
    "                    \n",
    "                    else:\n",
    "                        if ind[0][i] == ind[0][0] and ind[1][i]<ind[1][0]:\n",
    "                            a = deepcopy(row_data[0])\n",
    "                            b = deepcopy(ind[0][0])\n",
    "                            c = deepcopy(ind[1][0])\n",
    "\n",
    "                            ind[0][0] = deepcopy(ind[0][i])\n",
    "                            ind[1][0] = deepcopy(ind[1][i])\n",
    "                            row_data[0] = row_data[i]\n",
    "\n",
    "                            row_data[i] = a\n",
    "                            ind[0][i] = b\n",
    "                            ind[1][i] = c\n",
    "            \n",
    "            self.data = []\n",
    "            ind_new = [[],[]]      \n",
    "            \n",
    "            # item in same position\n",
    "            if np.array(row_data).shape[0] == 0:\n",
    "                self.indices = []\n",
    "                self.indptr = []\n",
    "                for j in range(shape[0]+1):\n",
    "                    self.indptr.append(0)\n",
    "                return\n",
    "            i = 1\n",
    "            row_no = ind[0][0]\n",
    "            col_no = ind[1][0]\n",
    "            same_no = 1\n",
    "            while i < np.array(row_data).shape[0]:    \n",
    "                if ind[0][i] == row_no and ind[1][i] == col_no:\n",
    "                    same_no += 1\n",
    "                else:\n",
    "                    s = row_data[i-1]\n",
    "                    for j in range(same_no-1):\n",
    "                        s += row_data[i - j - 2]\n",
    "                    self.data.append(s)\n",
    "                    ind_new[0].append(row_no)\n",
    "                    ind_new[1].append(col_no)\n",
    "                    same_no = 1\n",
    "                    row_no = ind[0][i]\n",
    "                    col_no = ind[1][i]\n",
    "                i += 1\n",
    "            \n",
    "            s = row_data[i-1]\n",
    "            for j in range(same_no-1):\n",
    "                s += row_data[i - j - 2]\n",
    "            self.data.append(s)\n",
    "            ind_new[0].append(row_no)\n",
    "            ind_new[1].append(col_no)\n",
    "                    \n",
    "            \n",
    "            for e in ind_new[1]:\n",
    "                self.indices.append(int(e))\n",
    "            self.indptr.append(0)\n",
    "            \n",
    "            current_row = 0\n",
    "            for i in range(np.array(self.data).shape[0]):\n",
    "                if ind_new[0][i] != current_row:\n",
    "                    for j in range(ind_new[0][i]-current_row):\n",
    "                        self.indptr.append(i)\n",
    "                    current_row = ind_new[0][i]\n",
    "            self.indptr.append(np.array(self.data).shape[0]) \n",
    "            \n",
    "            self.indptr = np.array(self.indptr)\n",
    "            self.indices = np.array(self.indices)\n",
    "            self.data = np.array(self.data)\n",
    "            self.nnz = len(self.data)\n",
    "            \n",
    "            for row in range(self.shape[0]):\n",
    "                array_sort(self.data,self.indices,self.indptr[row],self.indptr[row+1])\n",
    "            \n",
    "    \n",
    "    def array_sort(data,indices,start,end):\n",
    "        for i in range(start,end):\n",
    "            for j in range(i,end):\n",
    "                if indices[j] < indices[i]:\n",
    "                    a = indices[j]\n",
    "                    indices[j] = indices[i]\n",
    "                    indices[i] = a\n",
    "                    \n",
    "                    b = data[j]\n",
    "                    data[j] = data[i]\n",
    "                    data[i] = b\n",
    "    \n",
    "    def __add__(self, other):\n",
    "        if self.shape[0] != other.shape[0] or self.shape[1] != other.shape[1]:\n",
    "            print(\"CSR addition shape does not match\")\n",
    "            return\n",
    "        \n",
    "        shape = deepcopy(self.shape)\n",
    "        \n",
    "        new_data = []\n",
    "        new_indptr = []\n",
    "        new_indices = []\n",
    "        new_indptr.append(0)\n",
    "        ele_num = 0\n",
    "        for row in range(shape[0]):\n",
    "            self_start = self.indptr[row]\n",
    "            self_end = self.indptr[row+1]\n",
    "            other_start = other.indptr[row]\n",
    "            other_end = other.indptr[row+1]\n",
    "            \n",
    "            self_ele = self_end-self_start\n",
    "            other_ele = other_end-other_start\n",
    "            s_p = self_start\n",
    "            o_p = other_start\n",
    "            \n",
    "            while s_p < self_end or o_p < other_end:\n",
    "                if s_p == self_end:\n",
    "                    for i in range(other_end - o_p):\n",
    "                        new_data.append(other.data[o_p + i])\n",
    "                        new_indices.append(other.indices[o_p + i])\n",
    "                    ele_num += other_end - o_p\n",
    "                    break\n",
    "                if o_p == other_end:\n",
    "                    for i in range(self_end - s_p):\n",
    "                        new_data.append(self.data[s_p + i])\n",
    "                        new_indices.append(self.indices[s_p + i])\n",
    "                    ele_num += self_end - s_p\n",
    "                    break \n",
    "                if self.indices[s_p] < other.indices[o_p]:\n",
    "                    new_data.append(self.data[s_p])\n",
    "                    new_indices.append(self.indices[s_p])\n",
    "                    s_p += 1\n",
    "                elif self.indices[s_p] > other.indices[o_p]:\n",
    "                    new_data.append(other.data[o_p])\n",
    "                    new_indices.append(other.indices[o_p])\n",
    "                    o_p += 1\n",
    "                else:\n",
    "                    new_data.append(self.data[s_p] + other.data[o_p])\n",
    "                    new_indices.append(self.indices[s_p])\n",
    "                    o_p += 1\n",
    "                    s_p += 1\n",
    "                ele_num += 1\n",
    "            new_indptr.append(ele_num)\n",
    "            \n",
    "        return CSR((new_data,new_indices,new_indptr),shape)\n",
    "    \n",
    "    def __sub__(self, other):\n",
    "        if self.shape[0] != other.shape[0] or self.shape[1] != other.shape[1]:\n",
    "            print(\"CSR addition shape does not match\")\n",
    "            return\n",
    "        \n",
    "        shape = deepcopy(self.shape)\n",
    "        \n",
    "        new_data = []\n",
    "        new_indptr = []\n",
    "        new_indices = []\n",
    "        new_indptr.append(0)\n",
    "        ele_num = 0\n",
    "        for row in range(shape[0]):\n",
    "            self_start = self.indptr[row]\n",
    "            self_end = self.indptr[row+1]\n",
    "            other_start = other.indptr[row]\n",
    "            other_end = other.indptr[row+1]\n",
    "            \n",
    "            self_ele = self_end-self_start\n",
    "            other_ele = other_end-other_start\n",
    "            s_p = self_start\n",
    "            o_p = other_start\n",
    "            \n",
    "            while s_p < self_end or o_p < other_end:\n",
    "                if s_p == self_end:\n",
    "                    for i in range(other_end - o_p):\n",
    "                        new_data.append(-other.data[o_p + i])\n",
    "                        new_indices.append(other.indices[o_p + i])\n",
    "                    ele_num += other_end - o_p\n",
    "                    break\n",
    "                if o_p == other_end:\n",
    "                    for i in range(self_end - s_p):\n",
    "                        new_data.append(self.data[s_p + i])\n",
    "                        new_indices.append(self.indices[s_p + i])\n",
    "                    ele_num += self_end - s_p\n",
    "                    break \n",
    "                if self.indices[s_p] < other.indices[o_p]:\n",
    "                    new_data.append(self.data[s_p])\n",
    "                    new_indices.append(self.indices[s_p])\n",
    "                    s_p += 1\n",
    "                elif self.indices[s_p] > other.indices[o_p]:\n",
    "                    new_data.append(-other.data[o_p])\n",
    "                    new_indices.append(other.indices[o_p])\n",
    "                    o_p += 1\n",
    "                else:\n",
    "                    new_data.append(self.data[s_p] - other.data[o_p])\n",
    "                    new_indices.append(self.indices[s_p])\n",
    "                    o_p += 1\n",
    "                    s_p += 1\n",
    "                ele_num += 1\n",
    "            new_indptr.append(ele_num)\n",
    "        return CSR((new_data,new_indices,new_indptr),shape)\n",
    "    \n",
    "    def __neg__(self):\n",
    "        d = []\n",
    "        for e in self.data:\n",
    "            d.append(-e)\n",
    "        return CSR((d,self.indices,self.indptr),self.shape)\n",
    "    \n",
    "    def __getitem__(self,tup):\n",
    "        if type(tup) is tuple:\n",
    "            row , col = tup\n",
    "            if row == -1:\n",
    "                row = self.shape[0] - 1\n",
    "            if col == -1:\n",
    "                col = self.shape[1] - 1\n",
    "\n",
    "            start = self.indptr[row]\n",
    "            end = self.indptr[row+1]\n",
    "            for i in range(start,end):\n",
    "                if self.indices[i] == col:\n",
    "                    return self.data[i]\n",
    "            return 0\n",
    "        \n",
    "        row = tup\n",
    "        if row == -1:\n",
    "            row = self.shape[0]-1\n",
    "        \n",
    "        if row > self.shape[0]:\n",
    "            print(\"get item row overflow\")\n",
    "            return\n",
    "        \n",
    "        shape = (1,self.shape[1])\n",
    "        data = []\n",
    "        indptr = []\n",
    "        indices = []\n",
    "        indptr.append(0)\n",
    "        \n",
    "        start = self.indptr[row]\n",
    "        end = self.indptr[row+1]\n",
    "        for i in range(start,end):\n",
    "            data.append(self.data[i])\n",
    "            indices.append(self.indices[i])\n",
    "        indptr.append(end-start)\n",
    "        return CSR((data,indices,indptr),shape)\n",
    "    \n",
    "    def __setitem__(self,tup,value):\n",
    "        if tup is tuple:\n",
    "            if len(tup) == 2:\n",
    "                row , col = tup\n",
    "                if row == -1:\n",
    "                    row = self.shape[0] - 1\n",
    "                if col == -1:\n",
    "                    col = self.shape[1] - 1\n",
    "                start = self.indptr[row]\n",
    "                end = self.indptr[row+1]\n",
    "                for i in range(start,end):\n",
    "                    if self.indices[i] == col:\n",
    "                        self.data[i] = value\n",
    "                        return\n",
    "        #print(\"set item failed\")\n",
    "        \n",
    "    def to_matrix(self):\n",
    "        row_data = deepcopy(self.data)\n",
    "        ind = []\n",
    "        for i in range(self.shape[0]):\n",
    "            start = self.indptr[i]\n",
    "            end = self.indptr[i+1]\n",
    "            num = end - start\n",
    "            for j in range(num):\n",
    "                ind.append([i,self.indices[start+j]])\n",
    "        return (row_data,ind)\n",
    "    \n",
    "    def toarray(self):\n",
    "        data, ind = self.to_matrix()\n",
    "        M = np.zeros(self.shape, dtype = object)\n",
    "        for i in range(len(data)):\n",
    "            M[ind[i][0],ind[i][1]] = data[i]\n",
    "        return M\n",
    "    \n",
    "    def show(self):\n",
    "        print(\"shape: (%d,%d)\"%(self.shape[0],self.shape[1]))\n",
    "        row_data ,ind = self.to_matrix()\n",
    "        for i in range(len(row_data)):\n",
    "            print(ind[i],row_data[i])\n",
    "    \n",
    "    def renew_nnz(self):\n",
    "        num = 0\n",
    "        for e in self.data:\n",
    "            if e != 0:\n",
    "                num += 1\n",
    "        self.nnz = num\n",
    "    \n",
    "    def eliminate_zeros(self):\n",
    "        n = len(self.data)\n",
    "        p = n-1\n",
    "        indptr = []\n",
    "        indptr.append(0)\n",
    "        row_ele = np.zeros(n,dtype=int)\n",
    "        current_row = self.shape[0] - 1\n",
    "        \n",
    "        for i in range(n):\n",
    "            while self.indptr[current_row] > p:\n",
    "                current_row -= 1\n",
    "            \n",
    "            if self.data[p] == 0:\n",
    "                self.data = np.delete(self.data,[p],None)\n",
    "                self.indices = np.delete(self.indices,[p],None)\n",
    "            else:\n",
    "                row_ele[current_row] += 1\n",
    "            p -= 1\n",
    "         \n",
    "        s = 0\n",
    "        for i in range(n):\n",
    "            s += row_ele[i]\n",
    "            indptr.append(s)\n",
    "        self.indptr = indptr\n",
    "        self.nnz = len(self.data)\n",
    "        \n",
    "    def __rmul__(self,other):\n",
    "        data = deepcopy(self.data)\n",
    "        data = other*data\n",
    "        indptr = deepcopy(self.indptr)\n",
    "        indices = deepcopy(self.indices)\n",
    "        shape = deepcopy(self.shape)\n",
    "        return CSR((data,indices,indptr),shape)\n",
    "    \n",
    "    def __mul__(self,other):\n",
    "        data = deepcopy(self.data)\n",
    "        data = data*other\n",
    "        indptr = deepcopy(self.indptr)\n",
    "        indices = deepcopy(self.indices)\n",
    "        shape = deepcopy(self.shape)\n",
    "        return CSR((data,indices,indptr),shape)\n",
    "    \n",
    "    def __div__(self,other):\n",
    "        data = deepcopy(self.data)\n",
    "        data = data/other\n",
    "        indptr = deepcopy(self.indptr)\n",
    "        indices = deepcopy(self.indices)\n",
    "        shape = deepcopy(self.shape)\n",
    "        return CSR((data,indices,indptr),shape)\n",
    "    \n",
    "    def tocsr(self):\n",
    "        return self\n",
    "    \n",
    "    def vstack(self,other):\n",
    "        if self.shape[1] != other.shape[1]:\n",
    "            print(\"vstack shape does not match\")\n",
    "            return\n",
    "        \n",
    "        data = np.hstack((self.data,other.data))\n",
    "        indices = np.hstack((self.indices,other.indices))\n",
    "        indptr = deepcopy(self.indptr)\n",
    "        indptr_add = np.delete(other.indptr,0,None) + indptr[-1]\n",
    "        indptr = np.hstack((indptr,indptr_add))\n",
    "        \n",
    "        shape = (self.shape[0]+other.shape[0], self.shape[1])\n",
    "        return CSR((data,indices,indptr),shape)\n",
    "        \n",
    "        "
   ]
  },
  {
   "cell_type": "code",
   "execution_count": 49,
   "metadata": {
    "collapsed": false
   },
   "outputs": [],
   "source": [
    "def matC_sparse(polynomials, mdeg,nvar=2, Float = False ):\n",
    "    row = []\n",
    "    col =[]\n",
    "    ele = []\n",
    "    \n",
    "    rows = len(polynomials)\n",
    "    cols = mdeg**nvar\n",
    "    \n",
    "    for i in range(rows):\n",
    "        for monomial in polynomials[i]:\n",
    "            s = cols-1\n",
    "            for j in range(nvar):\n",
    "                s -= monomial[j+1]*mdeg**(nvar-1-j)\n",
    "            row.append(i)\n",
    "            col.append(s)\n",
    "            if Float:\n",
    "                ele.append(1.0*monomial[0])\n",
    "            else:\n",
    "                ele.append(Fraction(1,1)*monomial[0])\n",
    "    #M = sp.sparse.csr_matrix((ele, (row, col)), shape=(rows, cols))\n",
    "    M1 = CSR((ele, (row, col)), shape=(rows, cols))\n",
    "    return M1\n",
    "    # return M,M1\n"
   ]
  },
  {
   "cell_type": "code",
   "execution_count": 24,
   "metadata": {
    "collapsed": false
   },
   "outputs": [
    {
     "data": {
      "text/plain": [
       "array([Fraction(1, 2), Fraction(3, 2), Fraction(2, 1), Fraction(5, 2)], dtype=object)"
      ]
     },
     "execution_count": 24,
     "metadata": {},
     "output_type": "execute_result"
    }
   ],
   "source": [
    "a = np.array([1,2,3,4,5])\n",
    "a = np.delete(a,1,None)\n",
    "a/Fraction(2,1)"
   ]
  },
  {
   "cell_type": "markdown",
   "metadata": {},
   "source": [
    "# Gaussian Elimination"
   ]
  },
  {
   "cell_type": "code",
   "execution_count": 25,
   "metadata": {
    "collapsed": false
   },
   "outputs": [],
   "source": [
    "def GEPP_sparse(C):    \n",
    "    M1 = C.copy()\n",
    "    M1 = M1.tocsc()\n",
    "    n = M1.shape[0]  ## number of rows\n",
    "    m = M1.shape[1]  ## number of columns\n",
    "\n",
    "    currentrow = 0\n",
    "    for i in range(m):\n",
    "        if M1[currentrow:,i].nnz==0:\n",
    "            pass  ## do nothing if we have a column of zeros\n",
    "        else:\n",
    "            if currentrow < (n-1):\n",
    "                    #print(i)\n",
    "                    ## first find index of (abs) maximum value\n",
    "                non_zero_row = M1[currentrow:n,i]\n",
    "                sub_index = np.argmax(abs(sp.sparse.find(non_zero_row)[2]))\n",
    "                index = sp.sparse.find(non_zero_row)[0][sub_index]+currentrow  #### n\\n-1 \n",
    "                    #print(M[currentrow:n,i])\n",
    "                    #print(index)\n",
    "                    #print(\"index is\", index,\"\\n\")\n",
    "                # swap rows\n",
    "                a_idx = np.where(M1.indices == index)\n",
    "                b_idx = np.where(M1.indices == currentrow)\n",
    "                M1.indices[a_idx] = currentrow\n",
    "                M1.indices[b_idx] = index    \n",
    "                          ####\n",
    "                #print(\"the matrix is now \\n\",M,\"\\n\")\n",
    "                #print(M)\n",
    "\n",
    "                    ## running the elimination step\n",
    "                for j in range(currentrow+1,n):\n",
    "                    if M1[j,i]!=0:\n",
    "                            #print(\"currentrow column entry is\", M[currentrow,i],\"\\n\")\n",
    "                        multiplier = M1[j,i]/M1[currentrow,i]\n",
    "                            #print(\"multiplier is\", multiplier,\"\\n\")\n",
    "                        M1[j,i:] = M1[j,i:] - multiplier*M1[currentrow,i:]\n",
    "                    else:\n",
    "                        pass\n",
    "                    #print(\"the matrix is after elimination \\n\",M,\"\\n\")\n",
    "\n",
    "                    ## incrementing row so the algorithm stops when we have a triangular system\n",
    "    \n",
    "                currentrow = currentrow + 1\n",
    "    \n",
    "    M1=M1.tocsr()\n",
    "    \n",
    "    for j in range(n):\n",
    "        if M1[j,:].nnz==0:\n",
    "            continue  ## do nothing if we have a row of zeros\n",
    "        else:\n",
    "       \n",
    "\n",
    "            indptr = M1.indptr\n",
    "            a = indptr[j]\n",
    "            b = indptr[j+1]\n",
    "            M1.data[a:b] = M1.data[a:b]/M1.data[a] \n",
    "      \n",
    "\n",
    "    return M1.tocsr()\n"
   ]
  },
  {
   "cell_type": "markdown",
   "metadata": {},
   "source": [
    "# Buchberger's algorithm for multi-variable"
   ]
  },
  {
   "cell_type": "code",
   "execution_count": 26,
   "metadata": {
    "collapsed": false
   },
   "outputs": [],
   "source": [
    "## sparse\n",
    "\n",
    "# input the start th leading\n",
    "def leading_sparse(row,start=0):\n",
    "    if row.nnz==0:\n",
    "        return -1\n",
    "    if start >= row.nnz:\n",
    "        return -1\n",
    "        \n",
    "        print(\"leading term overflow\")\n",
    "        print(row)\n",
    "        print(start)\n",
    "        sys.exit()\n",
    "    \n",
    "    \n",
    "    return row.indices[start]\n",
    "    # return sp.sparse.find(row)[1][start]\n",
    "    \n",
    "\n",
    "def leading_term_sparse(arg,mdeg,nvar):\n",
    "    # return leading term without coefficient\n",
    "    \n",
    "    result = np.zeros(nvar)\n",
    "    a = arg\n",
    "    b = 0\n",
    "    for i in range(nvar):\n",
    "        div = mdeg**(nvar-1-i)\n",
    "        b = a - a/div*div\n",
    "        a = a/div\n",
    "        result[i]=mdeg-1-a\n",
    "        a = b\n",
    "    return result\n",
    "\n",
    "def check_multiple_sparse(lead_1,lead_2,nvar):\n",
    "    # check lead_1 is a multiple of lead_2\n",
    "    for i in range(nvar):\n",
    "        if lead_1[i]<lead_2[i]:\n",
    "            return False\n",
    "    return True\n",
    "\n",
    "def shift_col_sparse(lcm,deg_i,mdeg,nvar):\n",
    "    a = lcm[:-1]-deg_i\n",
    "    shift_column = 0\n",
    "    for i in range(nvar):\n",
    "        shift_column += mdeg**(nvar-1-i)*a[i]\n",
    "    return int(shift_column)\n",
    "\n",
    "# input sparse matirx\n",
    "def shift_sparse(lcm,deg_i,mdeg,nvar,row=-1,leading=-1,S=(-1,-1)):\n",
    "    row = row.tocsr()\n",
    "    row_copy = deepcopy(row)\n",
    "    shift_column = shift_col_sparse(lcm,deg_i,mdeg,nvar)\n",
    "    if leading-shift_column < 0:\n",
    "        print(S,leading,shift_column)\n",
    "        row.show()\n",
    "        print(\"degree overflow\")\n",
    "        sys.exit()\n",
    "    row_copy.indices[:] -= shift_column\n",
    "\n",
    "    return row_copy\n",
    "\n",
    "def get_lcm_sparse(a,b): \n",
    "    return abs(a * b) / fractions.gcd(a,b) if a and b else 0\n",
    "\n",
    "def check_multiple_sparse(lead_1,lead_2,nvar):\n",
    "    # check lead_1 is a multiple of lead_2\n",
    "    for i in range(nvar):\n",
    "        if lead_1[i]<lead_2[i]:\n",
    "            return False\n",
    "    return True\n",
    "\n",
    "def remainder_sparse(M,new_row,mdeg, nvar):\n",
    "    M = M.tocsr()\n",
    "    flag = True\n",
    "    m = M.shape[0]\n",
    "    while flag:\n",
    "        flag = False\n",
    "        new_lead = leading_sparse(new_row)\n",
    "\n",
    "        if new_lead==-1:\n",
    "            break\n",
    "        new_lead_term = leading_term_sparse(new_lead,mdeg,nvar)\n",
    "        for i in range(m):\n",
    "            row_lead = leading_sparse(M[i])\n",
    "            row_lead_term = leading_term_sparse(row_lead,mdeg,nvar)\n",
    "            if check_multiple_sparse(new_lead_term,row_lead_term,nvar):\n",
    "                #print(i)\n",
    "                lcm = np.hstack((new_lead_term,[1]))\n",
    "                old_shifted = shift_col_sparse(lcm,row_lead_term,mdeg,nvar)\n",
    "                coeff = new_row[0,new_lead]\n",
    "                \n",
    "                current_row = deepcopy(M[i])\n",
    "                #print(current_row)\n",
    "                current_row.indices[:] -= old_shifted\n",
    "                #print(current_row)\n",
    "                \n",
    "                new_row -= coeff * current_row\n",
    "                flag = True\n",
    "                break\n",
    "    return new_row\n",
    "\n",
    "def Buchberger_sparse(M, mdeg, nvar, S):\n",
    "    # check leading term\n",
    "    a = M[S[0]]\n",
    "    b = M[S[1]]\n",
    "    \n",
    "    arg_a = leading_sparse(a)\n",
    "    arg_b = leading_sparse(b)\n",
    "    \n",
    "    if arg_a==-1 or arg_b==-1:\n",
    "        return 0,M\n",
    "        \n",
    "        print(\"0 row occur\")\n",
    "        print(S)\n",
    "        print(M)\n",
    "        sys.exit()\n",
    "    \n",
    "    deg_a = leading_term_sparse(arg_a,mdeg,nvar)\n",
    "    deg_b = leading_term_sparse(arg_b,mdeg,nvar)\n",
    "    \n",
    "\n",
    "    lcm = np.zeros(nvar+1)\n",
    "    for i in range(nvar):\n",
    "        lcm[i] = max(deg_a[i],deg_b[i])\n",
    "        \n",
    "    if(a[0,arg_a]<0):\n",
    "        a *= -1\n",
    "        \n",
    "    if(b[0,arg_b]<0):\n",
    "        b *= -1\n",
    "\n",
    "    lcm[nvar] = get_lcm_sparse(a[0,arg_a],b[0,arg_b])\n",
    "    \n",
    "\n",
    "    a_shifted = shift_sparse(lcm,deg_a,mdeg,nvar,a,arg_a,S)\n",
    "    b_shifted = shift_sparse(lcm,deg_b,mdeg,nvar,b,arg_b,S)\n",
    "    \n",
    "    \"\"\"\n",
    "    a_shifted.show()\n",
    "    b_shifted.show()\n",
    "    print(a[0,arg_a], b[0,arg_b])\n",
    "    \"\"\"\n",
    "    \"\"\"   \n",
    "    if a[0,arg_a]!=1 or b[0,arg_b]!=1:\n",
    "        print(\"Normalization in Gaussian Elimination Failed\")\n",
    "        print(M)\n",
    "        sys.exit()\n",
    "    \"\"\"\n",
    "    if a[0,arg_a]> b[0,arg_b]:\n",
    "        new_row = a_shifted - (a[0,arg_a]/ b[0,arg_b])*b_shifted\n",
    "    else:\n",
    "        new_row = (b[0,arg_b]/a[0,arg_a])*a_shifted - b_shifted\n",
    "    \n",
    "    \n",
    "    new_row = remainder_sparse(M,new_row,mdeg, nvar)\n",
    "\n",
    "    \n",
    "    if new_row.nnz == 0:\n",
    "        return 0,M\n",
    "    \n",
    "    # normalize new column\n",
    "    arg_c = leading_sparse(new_row)\n",
    "    \n",
    "    if new_row[0,arg_c]!=1:\n",
    "        new_row.data[:] /= new_row[0,arg_c]\n",
    "    M = M.vstack(new_row)\n",
    "    return 1,M\n",
    "\n",
    "\n"
   ]
  },
  {
   "cell_type": "code",
   "execution_count": 27,
   "metadata": {
    "collapsed": false
   },
   "outputs": [
    {
     "name": "stdout",
     "output_type": "stream",
     "text": [
      "[[2 0 0]\n",
      " [0 3 0]\n",
      " [4 0 5]]\n",
      "[[1 0 2]\n",
      " [0 3 0]\n",
      " [4 0 5]]\n",
      "2\n"
     ]
    },
    {
     "data": {
      "text/plain": [
       "0"
      ]
     },
     "execution_count": 27,
     "metadata": {},
     "output_type": "execute_result"
    }
   ],
   "source": [
    "indptr = [0,1,2,4]\n",
    "indices = [0,1,0,2]\n",
    "data = [2,3,4,5]\n",
    "ptr = [0,2,3,5]\n",
    "dic = [0,2,1,0,2]\n",
    "d = [1,2,3,4,5]\n",
    "A =CSR((data, indices, indptr), shape=(3, 3))\n",
    "B = CSR((d, dic, ptr), shape=(3, 3))\n",
    "print(A.toarray())\n",
    "print(B.toarray())\n",
    "print((A[2]).nnz)\n",
    "leading_sparse(A[2])"
   ]
  },
  {
   "cell_type": "markdown",
   "metadata": {},
   "source": [
    "# Reduced "
   ]
  },
  {
   "cell_type": "code",
   "execution_count": 28,
   "metadata": {
    "collapsed": false
   },
   "outputs": [],
   "source": [
    "def find_largest(lead_v):\n",
    "    # l is the largest\n",
    "    l = -1\n",
    "    arg = -1\n",
    "    \n",
    "    m = lead_v.shape[0]\n",
    "    \n",
    "    for row in range(m):\n",
    "        if l == -1:\n",
    "            l = lead_v[row,-1]\n",
    "            arg = row\n",
    "            continue\n",
    "        if lead_v[row,-1] != -1 and lead_v[row,-1]<l:\n",
    "            l = lead_v[row,-1]\n",
    "            arg = row\n",
    "    if l == -1:\n",
    "        return -1\n",
    "    return arg\n",
    "\n",
    "def renew_lead_v(M,mdeg,nvar,lead_v,row,starts,tol=10**-4):\n",
    "    m = M.shape[0]\n",
    "    \n",
    "    lead_v[row,-1] = leading_sparse(M[row],starts[row])\n",
    "    while abs(M[row,lead_v[row,-1]]) < tol:\n",
    "        \n",
    "        M[row,lead_v[row,-1]]=0\n",
    "        M.eliminate_zeros()\n",
    "        lead_v[row,-1] = leading_sparse(M[row],starts[row])\n",
    "\n",
    "        if lead_v[row,-1] == -1:\n",
    "            return M,lead_v    \n",
    "    if lead_v[row,-1] == -1:\n",
    "        return M,lead_v   \n",
    "    monomial = leading_term_sparse(lead_v[row,-1],mdeg,nvar)\n",
    "    for j in range(nvar):\n",
    "        lead_v[row,j] = monomial[j]\n",
    "    return M,lead_v\n",
    "    \n",
    "def reduced_form(M,mdeg,nvar,tol):\n",
    "    m,n = M.shape\n",
    "    \n",
    "    # the vector store the leading term\n",
    "    lead_v = np.zeros((m,nvar+1),dtype = int)\n",
    "    \n",
    "    # vector stores the i the leading term\n",
    "    starts = np.zeros(m,dtype = int)\n",
    "    \n",
    "    # initialization leading_vector\n",
    "    for row in range(m):\n",
    "        M,lead_v = renew_lead_v(M,mdeg,nvar,lead_v,row,starts,tol)\n",
    "    \n",
    "    large_row = find_largest(lead_v)\n",
    "    while large_row != -1:\n",
    "        flag = False\n",
    "        for row in range(m):\n",
    "            if row != large_row and starts[row] == 0:\n",
    "                lead_arg = leading_sparse(M[row])\n",
    "                lead_term = leading_term_sparse(lead_arg,mdeg,nvar)\n",
    "                if check_multiple_sparse(lead_v[large_row,:-1],lead_term,nvar):\n",
    "\n",
    "                    shift_col = shift_col_sparse(lead_v[large_row],lead_term,mdeg,nvar)\n",
    "                    indices = deepcopy(M[row].indices) - shift_col\n",
    "                    indptr = np.zeros(m+1,dtype = int)\n",
    "                    for i in range(large_row+1,m+1):\n",
    "                        indptr[i] = indices.shape[0]\n",
    "                    data = deepcopy(M[row].data)\n",
    "                    M_subtrac = sp.sparse.csr_matrix((data, indices, indptr), shape=(m, n))\n",
    "                    c = M[large_row,lead_v[large_row,-1]]/M[row,lead_v[row,-1]]\n",
    "                    M -= c*M_subtrac\n",
    "                    flag = True\n",
    "                    break\n",
    "        if flag == False:\n",
    "            starts[large_row]+=1\n",
    "\n",
    "        M,lead_v=renew_lead_v(M,mdeg,nvar,lead_v,large_row,starts,tol)\n",
    "        large_row = find_largest(lead_v)\n",
    "    \n",
    "    return M\n",
    "    #print_all(matrix_to_array_sparse(M,mdeg,nvar),['A0','x0','A1','x1'],nvar)\n",
    "\n",
    "    "
   ]
  },
  {
   "cell_type": "markdown",
   "metadata": {},
   "source": [
    "# Combine them together"
   ]
  },
  {
   "cell_type": "code",
   "execution_count": 29,
   "metadata": {
    "collapsed": true
   },
   "outputs": [],
   "source": [
    "def delete_row_csr(mat, i):\n",
    "    if not isinstance(mat, sp.sparse.csr_matrix):\n",
    "        raise ValueError(\"works only for CSR format -- use .tocsr() first\")\n",
    "    n = mat.indptr[i+1] - mat.indptr[i]\n",
    "    if n > 0:\n",
    "        mat.data[mat.indptr[i]:-n] = mat.data[mat.indptr[i+1]:]\n",
    "        mat.data = mat.data[:-n]\n",
    "        mat.indices[mat.indptr[i]:-n] = mat.indices[mat.indptr[i+1]:]\n",
    "        mat.indices = mat.indices[:-n]\n",
    "    mat.indptr[i:-1] = mat.indptr[i+1:]\n",
    "    mat.indptr[i:] -= n\n",
    "    mat.indptr = mat.indptr[:-1]\n",
    "    mat._shape = (mat._shape[0]-1, mat._shape[1])\n",
    "\n",
    "def trun_zero_sparse(M):\n",
    "    while M[-1,:].nnz==0:\n",
    "        M = M[:-1,:]\n",
    "    return M\n",
    "\n",
    "def normalize_leading_sparse(M):\n",
    "    m = M.shape[0]\n",
    "    for i in range(m):\n",
    "        lead = leading_sparse(M[i])\n",
    "        if lead == -1:\n",
    "            #delete_row_csr(M, i)\n",
    "            continue\n",
    "        indptr = M.indptr\n",
    "        a = indptr[i]\n",
    "        b = indptr[i+1]\n",
    "        M.data[a:b] = M.data[a:b]/M.data[a]\n",
    "    return M"
   ]
  },
  {
   "cell_type": "code",
   "execution_count": 30,
   "metadata": {
    "collapsed": false
   },
   "outputs": [],
   "source": [
    "def check_nvar(row):\n",
    "    ele = 0\n",
    "    arg = -1\n",
    "    nvar = row.shape[0]\n",
    "    for i in range(nvar):\n",
    "        if row[i] == 1:\n",
    "            ele += 1\n",
    "            arg = i\n",
    "    if ele == 1:\n",
    "        return arg\n",
    "    if ele == 0:\n",
    "        return -2\n",
    "    return -1\n",
    "\n",
    "def check_terminate(M,mdeg,nvar):\n",
    "    M.eliminate_zeros()\n",
    "    m = M.shape[0]\n",
    "    \n",
    "    Var = np.zeros((m,nvar))\n",
    "    for i in range(m):\n",
    "        for j in range(M[i].nnz):\n",
    "            lead = leading_sparse(M[i],j)\n",
    "            if lead == -1:\n",
    "                print(\"check_terminate problem\")\n",
    "                sys.exit()\n",
    "            term = leading_term_sparse(lead,mdeg,nvar)\n",
    "            for k in range(nvar):\n",
    "                if term[k] != 0:\n",
    "                    Var[i,k] = 1.\n",
    "    C_E = np.zeros(nvar,dtype = int)\n",
    "    flag = True\n",
    "    \n",
    "    #print(Var)\n",
    "    while(flag):\n",
    "        flag = False\n",
    "        row_num = 0\n",
    "        while row_num<Var.shape[0]:\n",
    "            c = check_nvar(Var[row_num])\n",
    "            #print(row_num,c)\n",
    "            #print(Var)\n",
    "            if c > -1:\n",
    "                C_E[c] = 1\n",
    "                Var[:,c] = 0\n",
    "                Var=np.delete(Var, row_num, 0)\n",
    "                flag = True\n",
    "                break\n",
    "            if c == -2:\n",
    "                Var=np.delete(Var, row_num, 0)\n",
    "                continue\n",
    "            row_num += 1\n",
    "    #print(C_E)\n",
    "    if sum(C_E) == nvar:\n",
    "        return True\n",
    "    return False"
   ]
  },
  {
   "cell_type": "code",
   "execution_count": 31,
   "metadata": {
    "collapsed": true
   },
   "outputs": [],
   "source": [
    "# details is for debug or process, combined with symbols\n",
    "def run_sparse(M, mdeg, nvar,tol = 10**-14,details = False,cal = False,Gro = False,Red = True,symbols = []):\n",
    "    #M = GEPP_sparse(M)\n",
    "    \n",
    "    max_row = M.shape[0]-1\n",
    "    current_row = 0\n",
    "    flag = -1\n",
    "    M=reduced_form(M,mdeg,nvar,tol)\n",
    "    if details:\n",
    "        print_all(matrix_to_array_sparse(M,mdeg,nvar),nvar,symbols,cal)\n",
    "        print(\"\")\n",
    "    #M=normalize_leading_sparse(M)\n",
    "    while current_row != max_row:\n",
    "        #print(current_row,max_row)\n",
    "        current_row +=1\n",
    "        #M = GEPP(M)\n",
    "        for i in range(current_row):\n",
    "            M=normalize_leading_sparse(M)\n",
    "            flag,M = Buchberger_sparse(M, mdeg, nvar, [current_row,i])\n",
    "            if flag == 1 and Red:\n",
    "                M=reduced_form(M,mdeg,nvar,tol)\n",
    "                if details:\n",
    "                    print_all(matrix_to_array_sparse(M,mdeg,nvar),nvar,symbols,cal)\n",
    "                    print(\"\")\n",
    "                if Gro == False:\n",
    "                    if check_terminate(M,mdeg,nvar):\n",
    "                        M=normalize_leading_sparse(M)\n",
    "                        return M\n",
    "        #time.sleep(1)\n",
    "        #M = GEPP(M)\n",
    "        #M = trun_zero(M)\n",
    "        M=normalize_leading_sparse(M)\n",
    "        #print(M)\n",
    "        max_row = M.shape[0]-1\n",
    "    M=normalize_leading_sparse(M)\n",
    "    return M\n"
   ]
  },
  {
   "cell_type": "code",
   "execution_count": 32,
   "metadata": {
    "collapsed": true
   },
   "outputs": [],
   "source": [
    "def matrix_to_array_sparse(M,mdeg,nvar):\n",
    "    array = []\n",
    "    m = M.shape[0]\n",
    "    for i in range(m):\n",
    "        array.append([])\n",
    "        index = 0\n",
    "        nnz = M[i].nnz\n",
    "        for j in range(nnz):\n",
    "            index = leading_sparse(M[i],j)\n",
    "            L_T = leading_term_sparse(index,mdeg,nvar)\n",
    "            add = [M[i,index]]\n",
    "            add.extend(L_T)\n",
    "            array[i].append(add)\n",
    "\n",
    "    return array\n",
    "\n",
    "def print_array_sparse(array):\n",
    "    for p in array:\n",
    "        print(p)\n",
    "        "
   ]
  },
  {
   "cell_type": "markdown",
   "metadata": {},
   "source": [
    "# Testing"
   ]
  },
  {
   "cell_type": "code",
   "execution_count": 33,
   "metadata": {
    "collapsed": false
   },
   "outputs": [
    {
     "name": "stdout",
     "output_type": "stream",
     "text": [
      "xy+y^2\\\\\n",
      "x^2+xy+y^2\\\\\n",
      "\n",
      "xy+y^2\\\\\n",
      "x^2+xy+y^2\\\\\n",
      "y^3\\\\\n",
      "\n"
     ]
    }
   ],
   "source": [
    "p1 = [(1,2,0)]\n",
    "\n",
    "p2 = [(1,1,1),(1,0,2)]\n",
    "p4 = [(1,2,0),(1,1,1),(1,0,2)]\n",
    "polynomials = [p1,p2,p4]\n",
    "mdeg = 6\n",
    "nvar = 2\n",
    "M=matC_sparse(polynomials,mdeg,nvar,Float=True)\n",
    "M=reduced_form(M,mdeg,nvar,tol = 10**-5)\n",
    "print_all(matrix_to_array_sparse(M,mdeg,nvar),2,['x','y']) \n",
    "M=normalize_leading_sparse(M)\n",
    "#print_all(matrix_to_array_sparse(M,mdeg,nvar),2,['x','y']) \n",
    "flag,M = Buchberger_sparse(M, mdeg, nvar, [2,1])\n",
    "print_all(matrix_to_array_sparse(M,mdeg,nvar),2,['x','y']) \n"
   ]
  },
  {
   "cell_type": "markdown",
   "metadata": {},
   "source": [
    "Here we test $p_1=x^2$ and $p_2=xy+y^2$. And get Grobner basis $g_1=x^2, g_2=xy+y^2, g_3 = y^3$."
   ]
  },
  {
   "cell_type": "code",
   "execution_count": 34,
   "metadata": {
    "collapsed": false
   },
   "outputs": [
    {
     "name": "stdout",
     "output_type": "stream",
     "text": [
      "x^2\\\\\n",
      "xy+y^2\\\\\n",
      "y^3\\\\\n",
      "\n"
     ]
    }
   ],
   "source": [
    "p1 = [(1,2,0)]\n",
    "p2 = [(1,1,1),(1,0,2)]\n",
    "polynomials = [p1,p2]\n",
    "mdeg = 5\n",
    "nvar = 2\n",
    "M=matC_sparse(polynomials,mdeg,nvar,Float=True)\n",
    "#print(M)\n",
    "M = run_sparse(M, mdeg,nvar,Gro=True,Red=False)\n",
    "#M.toarray()\n",
    "print_all(matrix_to_array_sparse(M,mdeg,nvar),2,['x','y']) \n"
   ]
  },
  {
   "cell_type": "code",
   "execution_count": 35,
   "metadata": {
    "collapsed": false
   },
   "outputs": [
    {
     "name": "stdout",
     "output_type": "stream",
     "text": [
      "100 loops, best of 3: 2.55 ms per loop\n"
     ]
    }
   ],
   "source": [
    "%%timeit\n",
    "p1 = [(1,2,0)]\n",
    "p2 = [(1,1,1),(1,0,2)]\n",
    "polynomials = [p1,p2]\n",
    "mdeg = 5\n",
    "nvar = 2\n",
    "M=matC_sparse(polynomials,mdeg,nvar)\n",
    "#print(M)\n",
    "M = run_sparse(M, mdeg,nvar,Gro=True)\n",
    "#M.toarray()\n",
    "\n"
   ]
  },
  {
   "cell_type": "markdown",
   "metadata": {
    "collapsed": true
   },
   "source": [
    "Here we test $p_1=xyz+xy$ and $p_2=x^2y^2z+yz$. And get Grobner basis $g_1=x^2y^2z+yz, g_2=xyz+xy, g_3=x^2y^2-2yz, g_4 = yz^2+yz$."
   ]
  },
  {
   "cell_type": "code",
   "execution_count": 60,
   "metadata": {
    "collapsed": false
   },
   "outputs": [
    {
     "name": "stdout",
     "output_type": "stream",
     "text": [
      "xyz+xy\\\\\n",
      "-x^2y^2+2.00yz\\\\\n",
      "\n",
      "\n",
      "xyz+xy\\\\\n",
      "x^2y^2-2.00yz\\\\\n",
      "yz^2+yz\\\\\n",
      "\n"
     ]
    }
   ],
   "source": [
    "p1 = [(1,1,1,1),(1,1,1,0)]\n",
    "p2 = [(2,0,1,1),(1,2,2,1)]\n",
    "polynomials = [p1,p2]\n",
    "mdeg = 5\n",
    "nvar = 3\n",
    "M=matC_sparse(polynomials,mdeg,nvar)\n",
    "#print(M)\n",
    "M = run_sparse(M, mdeg,nvar,Gro=True,Red=False,details = True, symbols = ['x','y','z'])\n",
    "#M.toarray()\n",
    "print_all(matrix_to_array_sparse(M,mdeg,nvar),3,['x','y','z']) \n"
   ]
  },
  {
   "cell_type": "markdown",
   "metadata": {},
   "source": [
    "# Solving Gaussian Quadrature for $n=2$"
   ]
  },
  {
   "cell_type": "code",
   "execution_count": 51,
   "metadata": {
    "collapsed": false
   },
   "outputs": [
    {
     "name": "stdout",
     "output_type": "stream",
     "text": [
      "shape: (5,10000)\n",
      "[0, 8999] 1\n",
      "[0, 9999] -1\n",
      "[2, 9997] 1\n",
      "[2, 9999] -1/3\n",
      "[3, 9899] 1\n",
      "[3, 9998] 1\n",
      "[4, 9989] 1\n",
      "[4, 9997] 3\n",
      "[4, 9999] -2\n",
      "A0-1.00\\\\\n",
      "x1^2-0.33\\\\\n",
      "x0+x1\\\\\n",
      "A1+3.00x1^2-2.00\\\\\n",
      "\n"
     ]
    }
   ],
   "source": [
    "p1= [(1,1,0,0,0),(1,0,0,1,0),(-2,0,0,0,0)]\n",
    "p2= [(1,1,1,0,0),(1,0,0,1,1)]\n",
    "p3= [(1,1,2,0,0),(1,0,0,1,2),(-2.0/3,0,0,0,0)]\n",
    "p4= [(1,1,3,0,0),(1,0,0,1,3)]\n",
    "\n",
    "p1= [(1,1,0,0,0),(1,0,0,1,0),(-2,0,0,0,0)]\n",
    "p2= [(1,1,1,0,0),(1,0,0,1,1)]\n",
    "p3= [(1,1,2,0,0),(1,0,0,1,2),(Fraction(-2,3),0,0,0,0)]\n",
    "p4= [(1,1,3,0,0),(1,0,0,1,3)]\n",
    "polynomials = [p1,p2,p3,p4]\n",
    "mdeg = 10\n",
    "nvar = 4\n",
    "M=matC_sparse(polynomials,mdeg,nvar)\n",
    "#print(M)\n",
    "M = run_sparse(M, mdeg,nvar)\n",
    "#M.toarray()\n",
    "#print_array_sparse(matrix_to_array_sparse(M,mdeg,nvar)) \n",
    "M.show()\n",
    "print_all(matrix_to_array_sparse(M,mdeg,nvar),nvar,['A0','x0','A1','x1'])"
   ]
  },
  {
   "cell_type": "code",
   "execution_count": null,
   "metadata": {
    "collapsed": false
   },
   "outputs": [],
   "source": [
    "%memit matC_sparse(polynomials,mdeg,nvar)\n"
   ]
  },
  {
   "cell_type": "code",
   "execution_count": null,
   "metadata": {
    "collapsed": false
   },
   "outputs": [],
   "source": [
    "M = matC_sparse(polynomials,mdeg,nvar)\n",
    "\n",
    "def T(M,mdeg,nvar,loop=50):\n",
    "    for i in range(loop):\n",
    "        M = matC_sparse(polynomials,mdeg,nvar)\n",
    "        run_sparse(M, mdeg,nvar)\n",
    "%memit run_sparse(M, mdeg,nvar)\n"
   ]
  },
  {
   "cell_type": "code",
   "execution_count": null,
   "metadata": {
    "collapsed": false
   },
   "outputs": [],
   "source": [
    "M = matC_sparse(polynomials,mdeg,nvar)\n",
    "%timeit run_sparse(M, mdeg,nvar) \n"
   ]
  },
  {
   "cell_type": "markdown",
   "metadata": {},
   "source": [
    "# Symmetric Gaussian Quadrature"
   ]
  },
  {
   "cell_type": "markdown",
   "metadata": {},
   "source": [
    "## n = 3"
   ]
  },
  {
   "cell_type": "code",
   "execution_count": 43,
   "metadata": {
    "collapsed": false
   },
   "outputs": [
    {
     "name": "stdout",
     "output_type": "stream",
     "text": [
      "2.0*w0-1.11111111111,\n",
      "0.888888888889*x1,\n",
      "-0.6*w1+0.533333333333,\n",
      "0.666666666667*x0**2-0.4,\n",
      "\n",
      "\n",
      "w_0-0.555555555556\\\\\n",
      "x_1\\\\\n",
      "w_1-0.888888888889\\\\\n",
      "x_0^2-0.6\\\\\n",
      "\n"
     ]
    }
   ],
   "source": [
    "n = 3\n",
    "polynomials = GQS(n)\n",
    "#print_array_sparse(polynomials)\n",
    "mdeg = 20\n",
    "nvar = 2*n-n/2*2\n",
    "M=matC_sparse(polynomials,mdeg,nvar,Float = True)\n",
    "#print_all(matrix_to_array_sparse(M,mdeg,nvar),nvar,GQ_sym(n),cal = True)\n",
    "#print(M)\n",
    "M = run_sparse(M, mdeg,nvar,tol=10**-5,details = True,cal=True,Gro=True,symbols=GQ_sym(n))\n",
    "#M.toarray()\n",
    "#print_array_sparse(matrix_to_array_sparse(M,mdeg,nvar)) \n",
    "\n",
    "print_all(matrix_to_array_sparse(M,mdeg,nvar),nvar,GQ_sym(n,True),cal = False,precision = True)"
   ]
  },
  {
   "cell_type": "code",
   "execution_count": null,
   "metadata": {
    "collapsed": false
   },
   "outputs": [],
   "source": [
    "%%timeit\n",
    "n = 3\n",
    "polynomials = GQS(n)\n",
    "#print_array_sparse(polynomials)\n",
    "mdeg = 20\n",
    "nvar = 2*n-n/2*2\n",
    "M=matC_sparse(polynomials,mdeg,nvar)\n",
    "#print(M)\n",
    "M = run_sparse(M, mdeg,nvar,tol=10**-5,details = False,cal=True)\n",
    "#M.toarray()"
   ]
  },
  {
   "cell_type": "code",
   "execution_count": null,
   "metadata": {
    "collapsed": false
   },
   "outputs": [],
   "source": [
    "%%memit\n",
    "n = 3\n",
    "polynomials = GQS(n)\n",
    "#print_array_sparse(polynomials)\n",
    "mdeg = 20\n",
    "nvar = 2*n-n/2*2\n",
    "M=matC_sparse(polynomials,mdeg,nvar)\n",
    "#print(M)\n",
    "M = run_sparse(M, mdeg,nvar,tol=10**-5,details = False,cal=True)"
   ]
  },
  {
   "cell_type": "markdown",
   "metadata": {},
   "source": [
    "## n = 4"
   ]
  },
  {
   "cell_type": "code",
   "execution_count": null,
   "metadata": {
    "collapsed": false
   },
   "outputs": [],
   "source": [
    "n = 4\n",
    "polynomials = GQS(n)\n",
    "#print_array_sparse(polynomials)\n",
    "mdeg = 20\n",
    "nvar = 2*n-n/2*2\n",
    "M=matC_sparse(polynomials,mdeg,nvar)\n",
    "print_all(matrix_to_array_sparse(M,mdeg,nvar),nvar,GQ_sym(n,Latex=True),cal = False, precision = True)\n",
    "#print(M)\n",
    "M = run_sparse(M, mdeg,nvar,tol=10**-5,details = True,cal=True,symbols=GQ_sym(n))\n",
    "#M.toarray()\n",
    "#print_array_sparse(matrix_to_array_sparse(M,mdeg,nvar)) \n",
    "\n",
    "#print_all(matrix_to_array_sparse(M,mdeg,nvar),nvar,GQ_sym(n),cal = True)\n",
    "M = normalize_leading_sparse(M)\n",
    "print_all(matrix_to_array_sparse(M,mdeg,nvar),nvar,GQ_sym(n,Latex=True),cal = False,precision= True)"
   ]
  },
  {
   "cell_type": "code",
   "execution_count": null,
   "metadata": {
    "collapsed": false
   },
   "outputs": [],
   "source": [
    "%%timeit\n",
    "n = 4\n",
    "polynomials = GQS(n)\n",
    "#print_array_sparse(polynomials)\n",
    "mdeg = 20\n",
    "nvar = 2*n-n/2*2\n",
    "M=matC_sparse(polynomials,mdeg,nvar)\n",
    "#print(M)\n",
    "M = run_sparse(M, mdeg,nvar,tol=10**-5,details = False,cal=True)"
   ]
  },
  {
   "cell_type": "code",
   "execution_count": null,
   "metadata": {
    "collapsed": false
   },
   "outputs": [],
   "source": [
    "%%memit\n",
    "n = 4\n",
    "polynomials = GQS(n)\n",
    "#print_array_sparse(polynomials)\n",
    "mdeg = 20\n",
    "nvar = 2*n-n/2*2\n",
    "M=matC_sparse(polynomials,mdeg,nvar)\n",
    "#print(M)\n",
    "M = run_sparse(M, mdeg,nvar,tol=10**-5,details = False,cal=True)\n"
   ]
  },
  {
   "cell_type": "code",
   "execution_count": null,
   "metadata": {
    "collapsed": false
   },
   "outputs": [],
   "source": [
    "A0=0.6521451548625461\n",
    "x0=-0.3399810435848563\n",
    "A1=0.3478548451374538\n",
    "x1=0.8611363115940526\n",
    "print(A0+A1-1.0,\n",
    "x0**2.0*A1+0.6*A1+x1**2.0-0.990476190476,\n",
    "-0.444444444444*x1**4.0+0.380952380952*x1**2.0-0.0380952380952,\n",
    "-0.2*x0**2.0-0.333333333333*x1**4.0+0.0857142857143*x1**2.0+0.142857142857,\n",
    "0.190476190476*A1*x1**2.0+0.114285714286*A1-0.0888888888889)"
   ]
  },
  {
   "cell_type": "markdown",
   "metadata": {},
   "source": [
    "# n = 5"
   ]
  },
  {
   "cell_type": "code",
   "execution_count": null,
   "metadata": {
    "collapsed": false
   },
   "outputs": [],
   "source": [
    "n = 5\n",
    "polynomials = GQS(n)\n",
    "#print_array_sparse(polynomials)\n",
    "mdeg = 20\n",
    "nvar = 2*n-n/2*2\n",
    "M=matC_sparse(polynomials,mdeg,nvar)\n",
    "print_all(matrix_to_array_sparse(M,mdeg,nvar),nvar,GQ_sym(n,Latex=True),cal = False, precision = True)\n",
    "#print(M)\n",
    "M = run_sparse(M, mdeg,nvar,tol=10**-5,details = True,cal=True,symbols=GQ_sym(n))\n",
    "#M.toarray()\n",
    "#print_array_sparse(matrix_to_array_sparse(M,mdeg,nvar)) \n",
    "#print_all(matrix_to_array_sparse(M,mdeg,nvar),nvar,GQ_sym(n),cal = True)\n",
    "M = normalize_leading_sparse(M)\n",
    "print_all(matrix_to_array_sparse(M,mdeg,nvar),nvar,GQ_sym(n,Latex=True),cal = False,precision= True)"
   ]
  },
  {
   "cell_type": "code",
   "execution_count": null,
   "metadata": {
    "collapsed": false
   },
   "outputs": [],
   "source": [
    "%%timeit\n",
    "n = 5\n",
    "polynomials = GQS(n)\n",
    "#print_array_sparse(polynomials)\n",
    "mdeg = 20\n",
    "nvar = 2*n-n/2*2\n",
    "M=matC_sparse(polynomials,mdeg,nvar)\n",
    "#print(M)\n",
    "M = run_sparse(M, mdeg,nvar,tol=10**-5,details = False,cal=True)"
   ]
  },
  {
   "cell_type": "code",
   "execution_count": null,
   "metadata": {
    "collapsed": false
   },
   "outputs": [],
   "source": [
    "%%memit\n",
    "n = 5\n",
    "polynomials = GQS(n)\n",
    "#print_array_sparse(polynomials)\n",
    "mdeg = 20\n",
    "nvar = 2*n-n/2*2\n",
    "M=matC_sparse(polynomials,mdeg,nvar)\n",
    "#print(M)\n",
    "M = run_sparse(M, mdeg,nvar,tol=10**-5,details = False,cal=True)"
   ]
  },
  {
   "cell_type": "code",
   "execution_count": null,
   "metadata": {
    "collapsed": false
   },
   "outputs": [],
   "source": [
    "A2=0.5688888888888889\n",
    "x2=0.0000000000000000\n",
    "A1=0.4786286704993665\n",
    "x1=-0.5384693101056831\n",
    "A0=0.2369268850561891\n",
    "x0=-0.9061798459386640\n",
    "print(A0+A1-0.715555555556,\n",
    "0.568888888889*x2,\n",
    "x0**2.0*A1+0.230769230769*A1+0.715555555556*x1**2.0-0.710959164292,\n",
    "0.238095238095*A2-0.13544973545,\n",
    "0.106666666667*x1**4.0-0.118518518519*x1**2.0+0.0253968253968,\n",
    "0.285714285714*x0**2.0+0.4*x1**4.0-0.15873015873*x1**2.0-0.222222222222,\n",
    "-0.256790123457*A1*x1**2.0-0.0592592592593*A1-0.2*A2+0.177777777778)"
   ]
  },
  {
   "cell_type": "code",
   "execution_count": null,
   "metadata": {
    "collapsed": false
   },
   "outputs": [],
   "source": [
    "%%timeit\n",
    "n = 1\n",
    "polynomials = GQS(n)\n",
    "#print_array_sparse(polynomials)\n",
    "mdeg = 20\n",
    "nvar = 2*n-n/2*2\n",
    "M=matC_sparse(polynomials,mdeg,nvar)\n",
    "#print(M)\n",
    "M = run_sparse(M, mdeg,nvar,tol=10**-5,details = False,cal=True)"
   ]
  },
  {
   "cell_type": "code",
   "execution_count": null,
   "metadata": {
    "collapsed": false
   },
   "outputs": [],
   "source": [
    "plt.ylabel('ms')\n",
    "plt.xlabel('number of points')\n",
    "plt.title('Time cost of Guassian Qudrature')\n",
    "plt.axis([1, 6,0,150])\n",
    "plt.plot([1,2,3,4,5],[3.8,7.88,34.1,49.4,101])"
   ]
  },
  {
   "cell_type": "markdown",
   "metadata": {},
   "source": [
    "# Solving Gaussian Quadrature without symmetry"
   ]
  },
  {
   "cell_type": "code",
   "execution_count": null,
   "metadata": {
    "collapsed": false
   },
   "outputs": [],
   "source": [
    "n = 2\n",
    "polynomials = [[[1, 1, 0, 0, 0], [1, 0, 0, 1, 0], [-2.0, 0.0, 0.0, 0.0, 0.0]], [[1, 1, 1, 0, 0], [1, 0, 0, 1, 1]], [[1, 1, 2, 0, 0], [1, 0, 0, 1, 2], [Fraction(-2,3), 0.0, 0.0, 0.0, 0.0]], [[1, 1, 3, 0, 0], [1, 0, 0, 1, 3]]]\n",
    "mdeg = 20\n",
    "nvar = n*2\n",
    "M=matC_sparse(polynomials,mdeg,nvar)\n",
    "print_all(matrix_to_array_sparse(M,mdeg,nvar),nvar,GQ_sym(n,Latex=False),cal = False,precision = True)\n",
    "#print(M)\n",
    "M = run_sparse(M, mdeg,nvar,tol=10**-5,details = False,cal=True)\n",
    "#M.toarray()\n",
    "#print_array_sparse(matrix_to_array_sparse(M,mdeg,nvar)) \n",
    "#print_all(matrix_to_array_sparse(M,mdeg,nvar),nvar,GQ_sym(n),cal = True)\n",
    "print_all(matrix_to_array_sparse(M,mdeg,nvar),nvar,GQ_sym(n,Latex=True),cal = False,precision = True)"
   ]
  },
  {
   "cell_type": "markdown",
   "metadata": {},
   "source": [
    "## n = 2"
   ]
  },
  {
   "cell_type": "code",
   "execution_count": 61,
   "metadata": {
    "collapsed": false
   },
   "outputs": [
    {
     "name": "stdout",
     "output_type": "stream",
     "text": [
      "w0+w1-2\\\\\n",
      "w0x0+w1x1\\\\\n",
      "w0x0^2+w1x1^2-2/3\\\\\n",
      "w0x0^3+w1x1^3\\\\\n",
      "\n",
      "w_0-1,\n",
      "x_1**2-1/3,\n",
      "x_0+x_1,\n",
      "w_1+3*x_1**2-2,\n",
      "\n"
     ]
    }
   ],
   "source": [
    "n = 2\n",
    "polynomials = GQ(n)\n",
    "mdeg = 20\n",
    "nvar = n*2\n",
    "M=matC_sparse(polynomials,mdeg,nvar)\n",
    "print_all(matrix_to_array_sparse(M,mdeg,nvar),nvar,GQ_sym(n,Latex=False),cal = False,precision = True)\n",
    "#print(M)\n",
    "M = run_sparse(M, mdeg,nvar,tol=10**-5,details = False,cal=True)\n",
    "#M.toarray()\n",
    "#print_array_sparse(matrix_to_array_sparse(M,mdeg,nvar)) \n",
    "#print_all(matrix_to_array_sparse(M,mdeg,nvar),nvar,GQ_sym(n),cal = True)\n",
    "print_all(matrix_to_array_sparse(M,mdeg,nvar),nvar,GQ_sym(n,Latex=True),cal = True,precision = True)\n",
    "#print(M)"
   ]
  },
  {
   "cell_type": "code",
   "execution_count": null,
   "metadata": {
    "collapsed": false
   },
   "outputs": [],
   "source": [
    "%%timeit\n",
    "n = 2\n",
    "polynomials = GQ(n)\n",
    "mdeg = 20\n",
    "nvar = n*2\n",
    "M=matC_sparse(polynomials,mdeg,nvar)\n",
    "#print_all(matrix_to_array_sparse(M,mdeg,nvar),nvar,GQ_sym(n,Latex=True),cal = False,precision = True)\n",
    "#print(M)\n",
    "M = run_sparse(M, mdeg,nvar,tol=10**-5,details = False,cal=True)\n",
    "#M.toarray()\n",
    "#print_array_sparse(matrix_to_array_sparse(M,mdeg,nvar)) \n",
    "#print_all(matrix_to_array_sparse(M,mdeg,nvar),nvar,GQ_sym(n),cal = True)\n"
   ]
  },
  {
   "cell_type": "code",
   "execution_count": null,
   "metadata": {
    "collapsed": false
   },
   "outputs": [],
   "source": [
    "%%memit\n",
    "n = 2\n",
    "polynomials = GQ(n)\n",
    "mdeg = 20\n",
    "nvar = n*2\n",
    "M=matC_sparse(polynomials,mdeg,nvar)\n",
    "#print_all(matrix_to_array_sparse(M,mdeg,nvar),nvar,GQ_sym(n,Latex=True),cal = False,precision = True)\n",
    "#print(M)\n",
    "M = run_sparse(M, mdeg,nvar,tol=10**-5,details = False,cal=True)\n",
    "#M.toarray()\n",
    "#print_array_sparse(matrix_to_array_sparse(M,mdeg,nvar)) \n",
    "#print_all(matrix_to_array_sparse(M,mdeg,nvar),nvar,GQ_sym(n),cal = True)"
   ]
  },
  {
   "cell_type": "markdown",
   "metadata": {},
   "source": [
    "## n = 3"
   ]
  },
  {
   "cell_type": "code",
   "execution_count": null,
   "metadata": {
    "collapsed": false
   },
   "outputs": [],
   "source": [
    "Fraction(2,9)+Fraction(1,9)*2.0"
   ]
  },
  {
   "cell_type": "code",
   "execution_count": null,
   "metadata": {
    "collapsed": false
   },
   "outputs": [],
   "source": [
    "n = 3\n",
    "polynomials = [[[1, 1, 0, 0, 0, 0, 0], [1, 0, 0, 1, 0, 0, 0], [1, 0, 0, 0, 0, 1, 0], [-2, 0, 0, 0, 0, 0, 0]], [[1, 1, 1, 0, 0, 0, 0], [1, 0, 0, 1, 1, 0, 0], [1, 0, 0, 0, 0, 1, 1]], [[1, 1, 2, 0, 0, 0, 0], [1, 0, 0, 1, 2, 0, 0], [1, 0, 0, 0, 0, 1, 2], [Fraction(-2,3), 0, 0, 0, 0, 0, 0]], [[1, 1, 3, 0, 0, 0, 0], [1, 0, 0, 1, 3, 0, 0], [1, 0, 0, 0, 0, 1, 3]], [[1, 1, 4, 0, 0, 0, 0], [1, 0, 0, 1, 4, 0, 0], [1, 0, 0, 0, 0, 1, 4], [Fraction(-2,5), 0, 0, 0, 0, 0, 0]], [[1, 1, 5, 0, 0, 0, 0], [1, 0, 0, 1, 5, 0, 0], [1, 0, 0, 0, 0, 1, 5]]]\n",
    "mdeg = 20\n",
    "nvar = n*2\n",
    "M=matC_sparse(polynomials,mdeg,nvar)\n",
    "print(M)\n",
    "M = run_sparse(M, mdeg,nvar,tol=10**-5,details = False,cal=True)\n",
    "#M.toarray()\n",
    "#print_array_sparse(matrix_to_array_sparse(M,mdeg,nvar)) \n",
    "print_all(matrix_to_array_sparse(M,mdeg,nvar),nvar,GQ_sym(n),cal = True)"
   ]
  },
  {
   "cell_type": "code",
   "execution_count": 64,
   "metadata": {
    "collapsed": false
   },
   "outputs": [
    {
     "name": "stdout",
     "output_type": "stream",
     "text": [
      "w0+w1-0.555555555556*x2**2-1.11111111111,\n",
      "w1*x2+2.0*x1*w2+0.555555555556*x1*x2**2-1.77777777778*x1-0.888888888889*x2,\n",
      "x2**3-0.6*x2,\n",
      "x1**2+x1*x2+x2**2-0.6,\n",
      "x0+x1+1.66666666667*x2**3,\n",
      "w1*w2-1.87654320988*w1-2.96296296296*x1**2+1.11111111111*x1*w2**2*x2-6.2962962963*x1*w2*x2+0.925925925926*x1*x2+w2**2-1.11796982167*x2**2+1.53635116598,\n",
      "w1*x1+0.5*w1*x2+1.0625*x1*w2+0.3125*x1*x2**2-1.5*x1-0.555555555556*x2**3-0.111111111111*x2,\n",
      "w2+0.555555555556*x2**2-0.888888888889,\n",
      "\n"
     ]
    }
   ],
   "source": [
    "n = 3\n",
    "polynomials = GQ(n)\n",
    "mdeg = 20\n",
    "nvar = n*2\n",
    "M=matC_sparse(polynomials,mdeg,nvar)\n",
    "#print(M)\n",
    "M = run_sparse(M, mdeg,nvar,tol=10**-5,details = False,cal=True)\n",
    "#M.toarray()\n",
    "#print_array_sparse(matrix_to_array_sparse(M,mdeg,nvar))\n",
    "M = 1. *M\n",
    "print_all(matrix_to_array_sparse(M,mdeg,nvar),nvar,GQ_sym(n),cal = True)\n"
   ]
  },
  {
   "cell_type": "code",
   "execution_count": 65,
   "metadata": {
    "collapsed": false
   },
   "outputs": [
    {
     "name": "stdout",
     "output_type": "stream",
     "text": [
      "8.44213587925e-13 1.42852396579e-12 5.55111512313e-17 1.11022302463e-16 1.54920520856e-12 2.57327492648e-12 -1.20625731626e-13 1.55653268052e-13\n"
     ]
    }
   ],
   "source": [
    "w0=0.8888888888888888\n",
    "x0=0.0000000000000000\n",
    "w1=0.5555555555555556\n",
    "x1=-0.7745966692414834\n",
    "w2=0.5555555555555556\n",
    "x2=0.7745966692414834\n",
    "\n",
    "print(w0+w1-0.555555555556*x2**2-1.11111111111,\n",
    "w1*x2+2.0*x1*w2+0.555555555556*x1*x2**2-1.77777777778*x1-0.888888888889*x2,\n",
    "x2**3-0.6*x2,\n",
    "x1**2+x1*x2+x2**2-0.6,\n",
    "x0+x1+1.66666666667*x2**3,\n",
    "w1*w2-1.87654320988*w1-2.96296296296*x1**2+1.11111111111*x1*w2**2*x2-6.2962962963*x1*w2*x2+0.925925925926*x1*x2+w2**2-1.11796982167*x2**2+1.53635116598,\n",
    "w1*x1+0.5*w1*x2+1.0625*x1*w2+0.3125*x1*x2**2-1.5*x1-0.555555555556*x2**3-0.111111111111*x2,\n",
    "w2+0.555555555556*x2**2-0.888888888889)"
   ]
  },
  {
   "cell_type": "code",
   "execution_count": null,
   "metadata": {
    "collapsed": false
   },
   "outputs": [],
   "source": [
    "%%memit\n",
    "n = 3\n",
    "polynomials = GQ(n)\n",
    "mdeg = 20\n",
    "nvar = n*2\n",
    "M=matC_sparse(polynomials,mdeg,nvar)\n",
    "#print(M)\n",
    "M = run_sparse(M, mdeg,nvar,tol=10**-5,details = False,cal=True)"
   ]
  },
  {
   "cell_type": "code",
   "execution_count": null,
   "metadata": {
    "collapsed": false
   },
   "outputs": [],
   "source": [
    "%%timeit\n",
    "n = 3\n",
    "polynomials = GQ(n)\n",
    "mdeg = 20\n",
    "nvar = n*2\n",
    "M=matC_sparse(polynomials,mdeg,nvar)\n",
    "#print(M)\n",
    "M = run_sparse(M, mdeg,nvar,tol=10**-5,details = False,cal=True)"
   ]
  },
  {
   "cell_type": "code",
   "execution_count": 67,
   "metadata": {
    "collapsed": false
   },
   "outputs": [
    {
     "name": "stdout",
     "output_type": "stream",
     "text": [
      "w0+w1+w2+w3-2,\n",
      "w1**2*x1*x2**2*w3-2*w1**2*x1*x2**2+2*w1**2*x1*x2*w3*x3-2*w1**2*x1*x2*x3-3*w1**2*x1*w3*x3**2+4/3*w1**2*x1-w1**2*x2**2*w3*x3-2*w1**2*x2*w3*x3**2+2/3*w1**2*x2+3*w1**2*w3*x3**3-2/3*w1**2*x3-16/9*w1*x1*w2*w3*x3**2+2/9*w1*x1*w2*x3**2+2/3*w1*x1*w2-4/9*w1*x1*x2*w3**2*x3+10/9*w1*x1*x2*w3*x3-4/9*w1*x1*x2*x3-4/3*w1*x1*w3**2*x3**2+20/9*w1*x1*w3*x3**2+2/9*w1*x1*w3-4/9*w1*x1*x3**2+20/9*w1*x1+4/3*w1*w2*x2**2*w3*x3-2/3*w1*w2*x2**2*x3-22/9*w1*w2*x2*w3*x3**2-2/7*w1*w2*x2*w3-4/9*w1*w2*x2*x3**2+40/21*w1*w2*x2+2/9*w1*w2*w3*x3**3+2/3*w1*w2*w3*x3+2/9*w1*w2*x3**3-4/21*w1*w2*x3+1/3*w1*x2**3*w3**2-4/3*w1*x2**3*w3+4/3*w1*x2**3-1/9*w1*x2**2*w3**2*x3-2/9*w1*x2**2*w3*x3+8/9*w1*x2**2*x3-1/9*w1*x2*w3**2*x3**2-2/7*w1*x2*w3**2+16/9*w1*x2*w3*x3**2+38/21*w1*x2*w3+8/9*w1*x2*x3**2-8/7*w1*x2-w1*w3**2*x3**3+2/3*w1*w3**2*x3+14/9*w1*w3*x3**3-218/189*w1*w3*x3-4/9*w1*x3**3+268/189*w1*x3+1/3*x1*w2*x2**2*w3**2-4/3*x1*w2*x2**2*w3+4/3*x1*w2*x2**2-2/3*x1*w2*x2*w3**2*x3+4/3*x1*w2*x2*w3*x3+1/3*x1*w2*w3**2*x3**2-2/3*x1*w2*w3*x3**2-2/9*x1*w2*w3+16/9*x1*w2-2/3*x1*w3**2*x3**2-2/9*x1*w3**2+4/3*x1*w3*x3**2+20/9*x1*w3-32/9*x1+1/4*w2*x2**2*x3-7/3*w2*x2*w3**2*x3**2+1/3*w2*x2*w3**2+53/18*w2*x2*w3*x3**2-205/126*w2*x2*w3-31/18*w2*x2*x3**2+289/63*w2*x2+7/9*w2*w3**2*x3**3+1/3*w2*w3**2*x3+5/9*w2*w3*x3**3-409/189*w2*w3*x3-31/18*w2*x3**3+2621/756*w2*x3-13/18*x2*w3**2*x3**2-13/54*x2*w3**2+55/36*x2*w3*x3**2+251/108*x2*w3-199/54*x2-7/3*w3**2*x3**3-20/27*w3**2*x3+719/126*w3*x3+13/12*x3**3-3439/756*x3,\n",
      "w1*x1*w2*x3**3-4244/635*w1*x1*w2*x3-8064/127*w1*x1*x2**2*x3**3-2196/127*w1*x1*x2*w3**2*x3**2+972/635*w1*x1*x2*w3**2-2659/254*w1*x1*x2*w3*x3**2-949/1270*w1*x1*x2*w3-2483/127*w1*x1*x2*x3**2+3199/635*w1*x1*x2+2196/127*w1*x1*w3**2*x3**3-972/635*w1*x1*w3**2*x3+5505/254*w1*x1*w3*x3**3-1611/1270*w1*x1*w3*x3+12*w1*x1*x3**3+2658/635*w1*x1*x3-12096/127*w1*w2*x2**4*x3**2-414729/508*w1*w2*x2**3*x3**3+28503/508*w1*w2*x2**3*x3-10368/127*w1*w2*x2**2*w3**2*x3**2+5184/635*w1*w2*x2**2*w3**2-64044/127*w1*w2*x2**2*w3*x3**2+253314/4445*w1*w2*x2**2*w3-164199/508*w1*w2*x2**2*x3**2+757983/17780*w1*w2*x2**2+7776/127*w1*w2*x2*w3**2*x3**3-2592/635*w1*w2*x2*w3**2*x3-34344/127*w1*w2*x2*w3*x3**3+191214/4445*w1*w2*x2*w3*x3-29465/508*w1*w2*x2*x3**3+55333/17780*w1*w2*x2*x3+59616/4445*w1*w2*w3**2*x3**2-7776/4445*w1*w2*w3**2+26001/127*w1*w2*w3*x3**2-105759/4445*w1*w2*w3-48583/508*w1*w2*x3**2+200079/17780*w1*w2-10080/127*w1*x2**4*w3*x3**2+20160/127*w1*x2**4*x3**2-3024/127*w1*x2**3*w3**3*x3**3+11907/508*w1*x2**3*w3**2*x3**3-7389/508*w1*x2**3*w3**2*x3-71547/508*w1*x2**3*w3*x3**3+13029/508*w1*x2**3*w3*x3+55797/254*w1*x2**3*x3**3+1749/254*w1*x2**3*x3-2592/127*w1*x2**2*w3**3*x3**2+1296/635*w1*x2**2*w3**3-55503/508*w1*x2**2*w3**2*x3**2+19521/2540*w1*x2**2*w3**2-38063/508*w1*x2**2*w3*x3**2+44317/2540*w1*x2**2*w3+25217/254*w1*x2**2*x3**2-24427/1270*w1*x2**2+1296/635*w1*x2*w3**3*x3-115245/508*w1*x2*w3**2*x3**3+503469/17780*w1*x2*w3**2*x3-136793/508*w1*x2*w3*x3**3+173617/17780*w1*x2*w3*x3+70667/254*w1*x2*x3**3-312079/8890*w1*x2*x3+128304/4445*w1*w3**3*x3**2-15552/4445*w1*w3**3-1220481/17780*w1*w3**2*x3**2+32643/3556*w1*w3**2-5515479/17780*w1*w3*x3**2+620121/17780*w1*w3+652763/3810*w1*x3**2-565259/26670*w1+6048/127*x1*w2**2*x2**3*x3**2+3024/127*x1*w2**2*x2**2*w3**2*x3**3-7371/508*x1*w2**2*x2**2*w3*x3**3+11925/508*x1*w2**2*x2**2*w3*x3+19467/508*x1*w2**2*x2**2*x3**3-10197/508*x1*w2**2*x2**2*x3-5184/127*x1*w2**2*x2*w3**2*x3**2+2592/635*x1*w2**2*x2*w3**2-711/254*x1*w2**2*x2*w3*x3**2-567/1270*x1*w2**2*x2*w3+5607/254*x1*w2**2*x2*x3**2-825/254*x1*w2**2*x2-5184/635*x1*w2**2*w3**2*x3**3+1296/127*x1*w2**2*w3**2*x3+27909/2540*x1*w2**2*w3*x3**3-34803/2540*x1*w2**2*w3*x3+2583/635*x1*w2**2*x3**3-1353/635*x1*w2**2*x3-3024/127*x1*w2*x2**2*w3**3*x3**3+36099/508*x1*w2*x2**2*w3**2*x3**3+675/508*x1*w2*x2**2*w3**2*x3+9093/508*x1*w2*x2**2*w3*x3**3+45285/508*x1*w2*x2**2*w3*x3+11445/254*x1*w2*x2**2*x3**3+1749/254*x1*w2*x2**2*x3+5184/127*x1*w2*x2*w3**3*x3**2-2592/635*x1*w2*x2*w3**3+7551/254*x1*w2*x2*w3**2*x3**2-81/1270*x1*w2*x2*w3**2+11175/127*x1*w2*x2*w3*x3**2-2262/635*x1*w2*x2*w3+3801/254*x1*w2*x2*x3**2+825/254*x1*w2*x2+5184/635*x1*w2*w3**3*x3**3-1296/127*x1*w2*w3**3*x3-11277/2540*x1*w2*w3**2*x3**3-33237/2540*x1*w2*w3**2*x3-5988/127*x1*w2*w3*x3**3+19662/635*x1*w2*w3*x3+124271/2540*x1*w2*x3**3-39281/2540*x1*w2*x3+4032/127*x1*x2**2*w3**2*x3-8064/127*x1*x2**2*w3*x3+8064/127*x1*x2*w3**2*x3**2+3936/127*x1*x2*w3*x3**2-864/127*x1*x2*w3-6720/127*x1*x2*x3**2-288/635*x1*w3**3*x3**3+2592/127*x1*w3**3*x3+26532/635*x1*w3**2*x3**3-6504/635*x1*w3**2*x3+35977/1270*x1*w3*x3**3-6127/1270*x1*w3*x3-12859/254*x1*x3**3+1573/254*x1*x3+12096/127*w2**2*x2**4*x3**2+79947/508*w2**2*x2**3*x3**3+34731/508*w2**2*x2**3*x3-2592/127*w2**2*x2**2*w3**2*x3**2+1296/635*w2**2*x2**2*w3**2+71235/508*w2**2*x2**2*w3*x3**2-18603/3556*w2**2*x2**2*w3+46575/508*w2**2*x2**2*x3**2-149151/17780*w2**2*x2**2-10368/635*w2**2*x2*w3**2*x3**3+2592/127*w2**2*x2*w3**2*x3+9441/254*w2**2*x2*w3*x3**3+4077/1270*w2**2*x2*w3*x3+126243/2540*w2**2*x2*x3**3-98727/3556*w2**2*x2*x3-14256/4445*w2**2*w3**2*x3**2-15552/22225*w2**2*w3**2-877689/17780*w2**2*w3*x3**2+7911/3556*w2**2*w3+58653/2540*w2**2*x3**2+61407/88900*w2**2+1296/635*w2*x2**2*w3**3-34911/2540*w2*x2**2*w3**2-10361/1270*w2*x2**2*w3-150015/2032*w2*x2**2*x3**2+65411/2540*w2*x2**2-10368/635*w2*x2*w3**3*x3**3+2592/127*w2*x2*w3**3*x3+142461/1270*w2*x2*w3**2*x3**3-313821/8890*w2*x2*w3**2*x3-1398487/5080*w2*x2*w3*x3**3+1393793/7112*w2*x2*w3*x3+3248101/10160*w2*x2*x3**3-56385173/213360*w2*x2*x3-53136/4445*w2*w3**3*x3**2-15552/22225*w2*w3**3+118395/1778*w2*w3**2*x3**2+57969/12700*w2*w3**2+107789/635*w2*w3*x3**2-363054/22225*w2*w3-883681/30480*w2*x3**2-13407013/533400*w2+8064/127*x2**2*w3**2*x3**2-1671/127*x2**2*w3*x3**2-39/127*x2**2*w3+4494/127*x2**2*x3**2-1650/127*x2**2+6336/635*x2*w3**3*x3**3+1728/127*x2*w3**3*x3+257211/5080*x2*w3**2*x3**3-146151/5080*x2*w3**2*x3-3532453/10160*x2*w3*x3**3+792299/6096*x2*w3*x3+219121/2540*x2*x3**3-408241/15240*x2*x3+227232/4445*w3**3*x3**2-68256/22225*w3**3-629136/4445*w3**2*x3**2+1555821/88900*w3**2-3391651/106680*w3*x3**2-59404/13335*w3-402401/91440*x3**2+14037253/1066800,\n",
      "w3*x3**3-3/7*w3*x3-1/2*x3**3+11/42*x3,\n",
      "x3**4-6/7*x3**2+3/35,\n",
      "x2**3+x2**2*x3+x2*x3**2-6/7*x2+x3**3-6/7*x3,\n",
      "x1**2+x1*x2+x1*x3+x2**2+x2*x3+5/3*x3**4-3/7*x3**2-5/7,\n",
      "w2*x2**2*w3*x3-1/2*w2*x2**2*x3+w2*x2*w3*x3**2-3/7*w2*x2*w3-w2*x2*x3**2+6/7*w2*x2-3/7*w2*w3*x3-w2*x3**3+43/42*w2*x3-7/15*x2**3-7/15*x2**2*x3+1/2*x2*w3*x3**2+1/6*x2*w3-7/15*x2*x3**2+1/15*x2+w3*x3**3-7/15*x3**3+1/15*x3,\n",
      "w1*x1*w2*w3*x3**3-4767051/1016000*w1*x1*w2*x3**3-768/1375*w1*x1*w2*x3-317772/6985*w1*x1*x2**2*x3**3+762426/174625*w1*x1*x2**2*x3-30485033/2794000*w1*x1*x2*w3**2*x3**2+3445443/2794000*w1*x1*x2*w3**2-189081631/22352000*w1*x1*x2*w3*x3**2+15258267/22352000*w1*x1*x2*w3-110338719/11176000*w1*x1*x2*x3**2+679959/447040*w1*x1*x2+33279033/2794000*w1*x1*w3**2*x3**3-3445443/2794000*w1*x1*w3**2*x3+304786541/22352000*w1*x1*w3*x3**3-39018643/22352000*w1*x1*w3*x3+33666063/2794000*w1*x1*x3**3-4273/8800*w1*x1*x3-476658/6985*w1*w2*x2**4*x3**2+1143639/174625*w1*w2*x2**4-4827298833/8940800*w1*w2*x2**3*x3**3+2550490299/44704000*w1*w2*x2**3*x3-9070461/174625*w1*w2*x2**2*w3**2*x3**2+204282/34925*w1*w2*x2**2*w3**2-883069653/2794000*w1*w2*x2**2*w3*x3**2+40726071/1117600*w1*w2*x2**2*w3-8830181739/44704000*w1*w2*x2**2*x3**2+1029417201/44704000*w1*w2*x2**2+14177511/349250*w1*w2*x2*w3**2*x3**3-1511541/349250*w1*w2*x2*w3**2*x3-27715208/174625*w1*w2*x2*w3*x3**3+153612927/7823200*w1*w2*x2*w3*x3-1754543589/44704000*w1*w2*x2*x3**3+110997879/28448000*w1*w2*x2*x3+20061513/2444750*w1*w2*w3**2*x3**2-11890233/12223750*w1*w2*w3**2+9991759779/78232000*w1*w2*w3*x3**2-105099789/7112000*w1*w2*w3-2668679307/44704000*w1*w2*x3**2+2191321863/312928000*w1*w2-79443/1397*w1*x2**4*w3*x3**2+381213/69850*w1*x2**4*w3+158886/1397*w1*x2**4*x3**2-381213/34925*w1*x2**4-238329/13970*w1*x2**3*w3**3*x3**3+1143639/698500*w1*x2**3*w3**3*x3+45821979/8940800*w1*x2**3*w3**2*x3**3-80339817/44704000*w1*x2**3*w3**2*x3-718251219/8940800*w1*x2**3*w3*x3**3+438783057/44704000*w1*x2**3*w3*x3+728294301/4470400*w1*x2**3*x3**3-326898687/22352000*w1*x2**3*x3-9070461/698500*w1*x2**2*w3**3*x3**2+102141/69850*w1*x2**2*w3**3-3202193651/44704000*w1*x2**2*w3**2*x3**2+31433211/4064000*w1*x2**2*w3**2-1817467427/44704000*w1*x2**2*w3*x3**2+252133749/44704000*w1*x2**2*w3+1253429037/22352000*w1*x2**2*x3**2-164298483/22352000*w1*x2**2+1143639/698500*w1*x2*w3**3*x3**3+81/1375*w1*x2*w3**3*x3-6229046777/44704000*w1*x2*w3**2*x3**3+5074329717/312928000*w1*x2*w3**2*x3-8349352661/44704000*w1*x2*w3*x3**3+5996892537/312928000*w1*x2*w3*x3+3834473007/22352000*w1*x2*x3**3-3125933751/156464000*w1*x2*x3+43697961/2444750*w1*w3**3*x3**2-50991849/24447500*w1*w3**3-531144753/12517120*w1*w3**2*x3**2+7893994131/1564640000*w1*w3**2-182755707373/938784000*w1*w3*x3**2+35005849269/1564640000*w1*w3+2367929009/22352000*w1*x3**2-9643024917/782320000*w1+238329/6985*x1*w2**2*x2**3*x3**2-1143639/349250*x1*w2**2*x2**3-1023624/174625*x1*w2**2*x2**2*w3**2*x3**3+1143639/139700*x1*w2**2*x2**2*w3**2*x3+101237031/4064000*x1*w2**2*x2**2*w3*x3**3-283261707/44704000*x1*w2**2*x2**2*w3*x3+395460513/44704000*x1*w2**2*x2**2*x3**3-18254979/8940800*x1*w2**2*x2**2*x3-2208627/349250*x1*w2**2*x2*w3**2*x3**2-877392/873125*x1*w2**2*x2*w3**2-36370971/2235200*x1*w2**2*x2*w3*x3**2+46681947/13970000*x1*w2**2*x2*w3+694632099/44704000*x1*w2**2*x2*x3**2-473085333/223520000*x1*w2**2*x2+35610111/3492500*x1*w2**2*w3**2*x3**3-438696/174625*x1*w2**2*w3**2*x3-5452333263/223520000*x1*w2**2*w3*x3**3+2073786057/223520000*x1*w2**2*w3*x3+579693387/55880000*x1*w2**2*x3**3-62459421/11176000*x1*w2**2*x3-238329/13970*x1*w2*x2**2*w3**3*x3**3+1143639/698500*x1*w2*x2**2*w3**3*x3+1298993031/44704000*x1*w2*x2**2*w3**2*x3**3+232914327/44704000*x1*w2*x2**2*w3**2*x3+4282558497/44704000*x1*w2*x2**2*w3*x3**3-47122659/8940800*x1*w2*x2**2*w3*x3+169015581/4470400*x1*w2*x2**2*x3**3-11704947/4470400*x1*w2*x2**2*x3+9070461/349250*x1*w2*x2*w3**3*x3**2-102141/34925*x1*w2*x2*w3**3+464469411/22352000*x1*w2*x2*w3**2*x3**2-45732249/22352000*x1*w2*x2*w3**2+186004917/5588000*x1*w2*x2*w3*x3**2-35874117/55880000*x1*w2*x2*w3+6083973/254000*x1*w2*x2*x3**2-105087717/27940000*x1*w2*x2+475389/63500*x1*w2*w3**3*x3**3-102141/13970*x1*w2*w3**3*x3-271656363/20320000*x1*w2*w3**2*x3**3+5896233/4064000*x1*w2*w3**2*x3+2704086/79375*x1*w2*w3*x3**3-404102473/27940000*x1*w2*w3*x3-148005501/223520000*x1*w2*x3**3+386637511/44704000*x1*w2*x3+889497/34925*x1*x2**2*w3**2*x3**3+252/275*x1*x2**2*w3**2*x3-1778994/34925*x1*x2**2*w3*x3**3-504/275*x1*x2**2*w3*x3+317772/6985*x1*x2*w3**2*x3**2-762426/174625*x1*x2*w3**2+106347/6350*x1*x2*w3*x3**2-812853/349250*x1*x2*w3-52962/1397*x1*x2*x3**2+127071/34925*x1*x2-1257129/349250*x1*w3**3*x3**3+4725837/349250*x1*w3**3*x3-28875861/2794000*x1*w3**2*x3**3+4960073/698500*x1*w3**2*x3+1712777697/22352000*x1*w3*x3**3-731074071/22352000*x1*w3*x3-46422327/894080*x1*x3**3+70364269/4470400*x1*x3+476658/6985*w2**2*x2**4*x3**2-1143639/174625*w2**2*x2**4+3277926477/22352000*w2**2*x2**3*x3**3-15073191/22352000*w2**2*x2**3*x3-3186459/139700*w2**2*x2**2*w3**2*x3**2+2992221/873125*w2**2*x2**2*w3**2+3827753091/44704000*w2**2*x2**2*w3*x3**2-356482917/44704000*w2**2*x2**2*w3+62635827/1117600*w2**2*x2**2*x3**2-1540269/254000*w2**2*x2**2+35610111/1746250*w2**2*x2*w3**2*x3**3-877392/174625*w2**2*x2*w3**2*x3+3492991899/111760000*w2**2*x2*w3*x3**3-1029103353/111760000*w2**2*x2*w3*x3+73797423/27940000*w2**2*x2*x3**3+210818163/55880000*w2**2*x2*x3-6423138/555625*w2**2*w3**2*x3**2+292099851/122237500*w2**2*w3**2-3283737651/223520000*w2**2*w3*x3**2-1089888939/1117600000*w2**2*w3+1159501587/111760000*w2**2*x3**2+204135957/558800000*w2**2-4308309/1746250*w2*x2**2*w3**3+844916697/223520000*w2*x2**2*w3**2-4561928361/111760000*w2*x2**2*w3-1421669767/35763200*w2*x2**2*x3**2+348379767/13970000*w2*x2**2+97366617/1746250*w2*x2*w3**3*x3**3-4308309/174625*w2*x2*w3**3*x3-3663370003/111760000*w2*x2*w3**2*x3**3+13821705243/782320000*w2*x2*w3**2*x3-44473550751/447040000*w2*x2*w3*x3**3+135506353601/1341120000*w2*x2*w3*x3+315554691549/894080000*w2*x2*x3**3-1092124263337/3755136000*w2*x2*x3-212819967/24447500*w2*w3**3*x3**2+292099851/122237500*w2*w3**3+34494574347/782320000*w2*w3**2*x3**2-5452933371/711200000*w2*w3**2+715891031/4693920*w2*w3*x3**2-1094929089/177800000*w2*w3-15031780647/894080000*w2*x3**2-487198798077/15646400000*w2+317772/6985*x2**2*w3**2*x3**2-762426/174625*x2**2*w3**2+124763841/2235200*x2**2*w3*x3**2-138469131/11176000*x2**2*w3-11777409/1117600*x2**2*x3**2+22999851/5588000*x2**2-105980517/6985000*x2*w3**3*x3**3+17049717/1397000*x2*w3**3*x3-1689835751/40640000*x2*w3**2*x3**3+48594174083/1341120000*x2*w3**2*x3-19204938069/894080000*x2*w3*x3**3-33650082517/536448000*x2*w3*x3-11398538781/111760000*x2*x3**3+46042473463/447040000*x2*x3+344409327/12223750*w3**3*x3**2-592621137/122237500*w3**3-4393670201/167640000*w3**2*x3**2+4967020503/1117600000*w3**2-600383695523/9387840000*w3*x3**2+36/1375*w3-162669814921/894080000*x3**4+958396416763/6258560000*x3**2-72/1375,\n",
      "w1*x1*x2**2*w3-2*w1*x1*x2**2+2*w1*x1*x2*w3*x3-2*w1*x1*x2*x3-3*w1*x1*w3*x3**2+4/3*w1*x1-w1*x2**2*w3*x3-2*w1*x2*w3*x3**2+2/3*w1*x2+3*w1*w3*x3**3-2/3*w1*x3-x1*w2*x2**2*w3+2*x1*w2*x2**2+2*x1*w2*x2*w3*x3-x1*w2*w3*x3**2+2/3*x1*w2+2*x1*w3*x3**2+2/3*x1*w3-4/3*x1+w2*x2**2*w3*x3-2*w2*x2*w3*x3**2+4/3*w2*x2+w2*w3*x3**3+2*x2*w3*x3**2+2/3*x2*w3-4/3*x2-2*w3*x3**3+2/3*w3*x3,\n",
      "x0+3/4*w1*x1*x2**2*w3-3/2*w1*x1*x2**2+3/2*w1*x1*x2*w3*x3-3/2*w1*x1*x2*x3-9/4*w1*x1*w3*x3**2+w1*x1-3/4*w1*x2**2*w3*x3-3/2*w1*x2*w3*x3**2+1/2*w1*x2+9/4*w1*w3*x3**3-1/2*w1*x3-3/4*x1*w2*x2**2*w3+3/2*x1*w2*x2**2+3/2*x1*w2*x2*w3*x3-3/4*x1*w2*w3*x3**2+1/2*x1*w2+3/2*x1*w3*x3**2+1/2*x1*w3+15/4*w2*x2**2*w3*x3-3/2*w2*x2**2*x3+3/2*w2*x2*w3*x3**2-9/7*w2*x2*w3-3*w2*x2*x3**2+25/7*w2*x2+3/4*w2*w3*x3**3-9/7*w2*w3*x3-3*w2*x3**3+43/14*w2*x3+3*x2*w3*x3**2+x2*w3-x2+3/2*w3*x3**3+1/2*w3*x3,\n",
      "w1*x1*w2*x2-1375/162*w1*x1*w2*w3*x3**3+17479187/438912*w1*x1*w2*x3**3+137/27*w1*x1*w2*x3+441350/1143*w1*x1*x2**2*x3**3-14119/381*w1*x1*x2**2*x3+30485033/329184*w1*x1*x2*w3**2*x3**2-127609/12192*w1*x1*x2*w3**2+189081631/2633472*w1*x1*x2*w3*x3**2-532609/97536*w1*x1*x2*w3+36779573/438912*w1*x1*x2*x3**2-1986311/146304*w1*x1*x2-11093011/109728*w1*x1*w3**2*x3**3+127609/12192*w1*x1*w3**2*x3-304786541/2633472*w1*x1*w3*x3**3+41652115/2633472*w1*x1*w3*x3-11222021/109728*w1*x1*x3**3+17909/5184*w1*x1*x3+220675/381*w1*w2*x2**4*x3**2-14119/254*w1*w2*x2**4+2681832685/585216*w1*w2*x2**3*x3**3-283387811/585216*w1*w2*x2**3*x3+111981/254*w1*w2*x2**2*w3**2*x3**2-6305/127*w1*w2*x2**2*w3**2+294356551/109728*w1*w2*x2**2*w3*x3**2-2513955/8128*w1*w2*x2**2*w3+2943393913/1755648*w1*w2*x2**2*x3**2-38126563/195072*w1*w2*x2**2-175031/508*w1*w2*x2*w3**2*x3**3+18661/508*w1*w2*x2*w3**2*x3+13857604/10287*w1*w2*x2*w3*x3**3-85340515/512064*w1*w2*x2*w3*x3+584847863/1755648*w1*w2*x2*x3**3-402895711/12289536*w1*w2*x2*x3-247673/3556*w1*w2*w3**2*x3**2+146793/17780*w1*w2*w3**2-123355059/113792*w1*w2*w3*x3**2+385365893/3072384*w1*w2*w3+296714995/585216*w1*w2*x3**2-81550213/1365504*w1*w2+1103375/2286*w1*x2**4*w3*x3**2-70595/1524*w1*x2**4*w3-1103375/1143*w1*x2**4*x3**2+70595/762*w1*x2**4+220675/1524*w1*x2**3*w3**3*x3**3-14119/1016*w1*x2**3*w3**3*x3-25456655/585216*w1*x2**3*w3**2*x3**3+26779939/1755648*w1*x2**3*w3**2*x3+44336495/65024*w1*x2**3*w3*x3**3-48753673/585216*w1*x2**3*w3*x3-134869315/97536*w1*x2**3*x3**3+108966229/877824*w1*x2**3*x3+111981/1016*w1*x2**2*w3**3*x3**2-6305/508*w1*x2**2*w3**3+3202193651/5266944*w1*x2**2*w3**2*x3**2-12806123/195072*w1*x2**2*w3**2+1817467427/5266944*w1*x2**2*w3*x3**2-9273263/195072*w1*x2**2*w3-139269893/292608*w1*x2**2*x3**2+6020105/97536*w1*x2**2-14119/1016*w1*x2*w3**3*x3**3-1/2*w1*x2*w3**3*x3+6229046777/5266944*w1*x2*w3**2*x3**3-563814413/4096512*w1*x2*w3**2*x3+8349352661/5266944*w1*x2*w3*x3**3-221651963/1365504*w1*x2*w3*x3-1278157669/877824*w1*x2*x3**3+1037881405/6144768*w1*x2*x3-539481/3556*w1*w3**3*x3**2+629529/35560*w1*w3**3+4426206275/12289536*w1*w3**2*x3**2-292370153/6827520*w1*w3**2+182755707373/110605824*w1*w3*x3**2-11686172903/61447680*w1*w3-2369684657/2633472*w1*x3**2+1079575213/10241280*w1-220675/762*x1*w2**2*x2**3*x3**2+14119/508*x1*w2**2*x2**3+18956/381*x1*w2**2*x2**2*w3**2*x3**3-70595/1016*x1*w2**2*x2**2*w3**2*x3-123734149/585216*x1*w2**2*x2**2*w3*x3**3+31473523/585216*x1*w2**2*x2**2*w3*x3-43940057/585216*x1*w2**2*x2**2*x3**3+10141655/585216*x1*w2**2*x2**2*x3+27267/508*x1*w2**2*x2*w3**2*x3**2+5416/635*x1*w2**2*x2*w3**2+6735365/48768*x1*w2**2*x2*w3*x3**2-1728961/60960*x1*w2**2*x2*w3-231544033/1755648*x1*w2**2*x2*x3**2+17521679/975360*x1*w2**2*x2-439631/5080*x1*w2**2*w3**2*x3**3+2708/127*x1*w2**2*w3**2*x3+201938269/975360*x1*w2**2*w3*x3**3-25602297/325120*x1*w2**2*w3*x3-193231129/2194560*x1*w2**2*x3**3+20819807/438912*x1*w2**2*x3+220675/1524*x1*w2*x2**2*w3**3*x3**3-14119/1016*x1*w2*x2**2*w3**3*x3-16036951/65024*x1*w2*x2**2*w3**2*x3**3-77638109/1755648*x1*w2*x2**2*w3**2*x3-475839833/585216*x1*w2*x2**2*w3*x3**3+26179255/585216*x1*w2*x2**2*w3*x3-93897545/292608*x1*w2*x2**2*x3**3+19508245/877824*x1*w2*x2**2*x3-111981/508*x1*w2*x2*w3**3*x3**2+6305/254*x1*w2*x2*w3**3-154823137/877824*x1*w2*x2*w3**2*x3**2+1693787/97536*x1*w2*x2*w3**2-2296357/8128*x1*w2*x2*w3*x3**2+1328671/243840*x1*w2*x2*w3-7435967/36576*x1*w2*x2*x3**2+11676413/365760*x1*w2*x2-64559/1016*x1*w2*w3**3*x3**3+31525/508*x1*w2*w3**3*x3+996073331/8778240*x1*w2*w3**2*x3**3-800723/65024*x1*w2*w3**2*x3-1652497/5715*x1*w2*w3*x3**3+404102473/3291840*x1*w2*w3*x3+49335167/8778240*x1*w2*x3**3-386637511/5266944*x1*w2*x3-494165/2286*x1*x2**2*w3**2*x3**3-70/9*x1*x2**2*w3**2*x3+494165/1143*x1*x2**2*w3*x3**3+140/9*x1*x2**2*w3*x3-441350/1143*x1*x2*w3**2*x3**2+14119/381*x1*x2*w3**2-1949695/13716*x1*x2*w3*x3**2+90317/4572*x1*x2*w3+1103375/3429*x1*x2*x3**2-70595/2286*x1*x2+139681/4572*x1*w3**3*x3**3-175031/1524*x1*w3**3*x3+3208429/36576*x1*w3**2*x3**3-4960073/82296*x1*w3**2*x3-63436211/97536*x1*w3*x3**3+243691357/877824*x1*w3*x3+386852725/877824*x1*x3**3-351821345/2633472*x1*x3-220675/381*w2**2*x2**4*x3**2+14119/254*w2**2*x2**4-364214053/292608*w2**2*x2**3*x3**3+1674799/292608*w2**2*x2**3*x3+196695/1016*w2**2*x2**2*w3**2*x3**2-36941/1270*w2**2*x2**2*w3**2-47256211/65024*w2**2*x2**2*w3*x3**2+13203071/195072*w2**2*x2**2*w3-104393045/219456*w2**2*x2**2*x3**2+627517/12192*w2**2*x2**2-439631/2540*w2**2*x2*w3**2*x3**3+5416/127*w2**2*x2*w3**2*x3-388110211/1463040*w2**2*x2*w3*x3**3+38114939/487680*w2**2*x2*w3*x3-24599141/1097280*w2**2*x2*x3**3-70272721/2194560*w2**2*x2*x3+436139/4445*w2**2*w3**2*x3**2-3606171/177800*w2**2*w3**2+40539971/325120*w2**2*w3*x3**2+13455419/1625600*w2**2*w3-386500529/4389120*w2**2*x3**2-2520197/812800*w2**2+53189/2540*w2*x2**2*w3**3-31293211/975360*w2*x2**2*w3**2+506393249/1463040*w2*x2**2*w3+7108348835/21067776*w2*x2**2*x3**2-38586943/182880*w2*x2**2-1202057/2540*w2*x2*w3**3*x3**3+53189/254*w2*x2*w3**3*x3+3663370003/13167360*w2*x2*w3**2*x3**3-511915009/3413760*w2*x2*w3**2*x3+4941505639/5852160*w2*x2*w3*x3**3-135401014721/158008320*w2*x2*w3*x3-105184897183/35112960*w2*x2*x3**3+1092124263337/442423296*w2*x2*x3+2627407/35560*w2*w3**3*x3**2-3606171/177800*w2*w3**3-3832730483/10241280*w2*w3**2*x3**2+19994089027/307238400*w2*w3**2-17901884351/13825728*w2*w3*x3**2+4014739993/76809600*w2*w3+5010593549/35112960*w2*x3**2+162536149759/614476800*w2-441350/1143*x2**2*w3**2*x3**2+14119/381*x2**2*w3**2-23104415/48768*x2**2*w3*x3**2+15385459/146304*x2**2*w3+6543005/73152*x2**2*x3**2-2555539/73152*x2**2+11775613/91440*x2*w3**3*x3**3-631471/6096*x2*w3**3*x3+18588193261/52669440*x2*w3**2*x3**3-48594174083/158008320*x2*w3**2*x3+6401646023/35112960*x2*w3*x3**3+33650082517/63203328*x2*w3*x3+140722701/162560*x2*x3**3-46042473463/52669440*x2*x3-4251967/17780*w3**3*x3**2+21948931/533400*w3**3+4393670201/19751040*w3**2*x3**2-551891167/14630400*w3**2+601121067683/1106058240*w3*x3**2+162669814921/105338880*x3**4-958396416763/737372160*x3**2,\n",
      "\n"
     ]
    }
   ],
   "source": [
    "n = 4\n",
    "polynomials = GQ(n)\n",
    "mdeg = 30\n",
    "nvar = n*2\n",
    "M=matC_sparse(polynomials,mdeg,nvar)\n",
    "#print(M)\n",
    "M = run_sparse(M, mdeg,nvar,tol=10**-5,details = False,cal=True)\n",
    "#M.toarray()\n",
    "#print_array_sparse(matrix_to_array_sparse(M,mdeg,nvar))\n",
    "#M = 1. *M\n",
    "print_all(matrix_to_array_sparse(M,mdeg,nvar),nvar,GQ_sym(n),cal = True)"
   ]
  },
  {
   "cell_type": "code",
   "execution_count": 85,
   "metadata": {
    "collapsed": false
   },
   "outputs": [
    {
     "name": "stdout",
     "output_type": "stream",
     "text": [
      "w1*x1*w2*x2-1375/162*w1*x1*w2*w3*x3**3+17479187/438912*w1*x1*w2*x3**3+137/27*w1*x1*w2*x3+441350/1143*w1*x1*x2**2*x3**3-14119/381*w1*x1*x2**2*x3+30485033/329184*w1*x1*x2*w3**2*x3**2-127609/12192*w1*x1*x2*w3**2+189081631/2633472*w1*x1*x2*w3*x3**2-532609/97536*w1*x1*x2*w3+36779573/438912*w1*x1*x2*x3**2-1986311/146304*w1*x1*x2-11093011/109728*w1*x1*w3**2*x3**3+127609/12192*w1*x1*w3**2*x3-304786541/2633472*w1*x1*w3*x3**3+41652115/2633472*w1*x1*w3*x3-11222021/109728*w1*x1*x3**3+17909/5184*w1*x1*x3+220675/381*w1*w2*x2**4*x3**2-14119/254*w1*w2*x2**4+2681832685/585216*w1*w2*x2**3*x3**3-283387811/585216*w1*w2*x2**3*x3+111981/254*w1*w2*x2**2*w3**2*x3**2-6305/127*w1*w2*x2**2*w3**2+294356551/109728*w1*w2*x2**2*w3*x3**2-2513955/8128*w1*w2*x2**2*w3+2943393913/1755648*w1*w2*x2**2*x3**2-38126563/195072*w1*w2*x2**2-175031/508*w1*w2*x2*w3**2*x3**3+18661/508*w1*w2*x2*w3**2*x3+13857604/10287*w1*w2*x2*w3*x3**3-85340515/512064*w1*w2*x2*w3*x3+584847863/1755648*w1*w2*x2*x3**3-402895711/12289536*w1*w2*x2*x3-247673/3556*w1*w2*w3**2*x3**2+146793/17780*w1*w2*w3**2-123355059/113792*w1*w2*w3*x3**2+385365893/3072384*w1*w2*w3+296714995/585216*w1*w2*x3**2-81550213/1365504*w1*w2+1103375/2286*w1*x2**4*w3*x3**2-70595/1524*w1*x2**4*w3-1103375/1143*w1*x2**4*x3**2+70595/762*w1*x2**4+220675/1524*w1*x2**3*w3**3*x3**3-14119/1016*w1*x2**3*w3**3*x3-25456655/585216*w1*x2**3*w3**2*x3**3+26779939/1755648*w1*x2**3*w3**2*x3+44336495/65024*w1*x2**3*w3*x3**3-48753673/585216*w1*x2**3*w3*x3-134869315/97536*w1*x2**3*x3**3+108966229/877824*w1*x2**3*x3+111981/1016*w1*x2**2*w3**3*x3**2-6305/508*w1*x2**2*w3**3+3202193651/5266944*w1*x2**2*w3**2*x3**2-12806123/195072*w1*x2**2*w3**2+1817467427/5266944*w1*x2**2*w3*x3**2-9273263/195072*w1*x2**2*w3-139269893/292608*w1*x2**2*x3**2+6020105/97536*w1*x2**2-14119/1016*w1*x2*w3**3*x3**3-1/2*w1*x2*w3**3*x3+6229046777/5266944*w1*x2*w3**2*x3**3-563814413/4096512*w1*x2*w3**2*x3+8349352661/5266944*w1*x2*w3*x3**3-221651963/1365504*w1*x2*w3*x3-1278157669/877824*w1*x2*x3**3+1037881405/6144768*w1*x2*x3-539481/3556*w1*w3**3*x3**2+629529/35560*w1*w3**3+4426206275/12289536*w1*w3**2*x3**2-292370153/6827520*w1*w3**2+182755707373/110605824*w1*w3*x3**2-11686172903/61447680*w1*w3-2369684657/2633472*w1*x3**2+1079575213/10241280*w1-220675/762*x1*w2**2*x2**3*x3**2+14119/508*x1*w2**2*x2**3+18956/381*x1*w2**2*x2**2*w3**2*x3**3-70595/1016*x1*w2**2*x2**2*w3**2*x3-123734149/585216*x1*w2**2*x2**2*w3*x3**3+31473523/585216*x1*w2**2*x2**2*w3*x3-43940057/585216*x1*w2**2*x2**2*x3**3+10141655/585216*x1*w2**2*x2**2*x3+27267/508*x1*w2**2*x2*w3**2*x3**2+5416/635*x1*w2**2*x2*w3**2+6735365/48768*x1*w2**2*x2*w3*x3**2-1728961/60960*x1*w2**2*x2*w3-231544033/1755648*x1*w2**2*x2*x3**2+17521679/975360*x1*w2**2*x2-439631/5080*x1*w2**2*w3**2*x3**3+2708/127*x1*w2**2*w3**2*x3+201938269/975360*x1*w2**2*w3*x3**3-25602297/325120*x1*w2**2*w3*x3-193231129/2194560*x1*w2**2*x3**3+20819807/438912*x1*w2**2*x3+220675/1524*x1*w2*x2**2*w3**3*x3**3-14119/1016*x1*w2*x2**2*w3**3*x3-16036951/65024*x1*w2*x2**2*w3**2*x3**3-77638109/1755648*x1*w2*x2**2*w3**2*x3-475839833/585216*x1*w2*x2**2*w3*x3**3+26179255/585216*x1*w2*x2**2*w3*x3-93897545/292608*x1*w2*x2**2*x3**3+19508245/877824*x1*w2*x2**2*x3-111981/508*x1*w2*x2*w3**3*x3**2+6305/254*x1*w2*x2*w3**3-154823137/877824*x1*w2*x2*w3**2*x3**2+1693787/97536*x1*w2*x2*w3**2-2296357/8128*x1*w2*x2*w3*x3**2+1328671/243840*x1*w2*x2*w3-7435967/36576*x1*w2*x2*x3**2+11676413/365760*x1*w2*x2-64559/1016*x1*w2*w3**3*x3**3+31525/508*x1*w2*w3**3*x3+996073331/8778240*x1*w2*w3**2*x3**3-800723/65024*x1*w2*w3**2*x3-1652497/5715*x1*w2*w3*x3**3+404102473/3291840*x1*w2*w3*x3+49335167/8778240*x1*w2*x3**3-386637511/5266944*x1*w2*x3-494165/2286*x1*x2**2*w3**2*x3**3-70/9*x1*x2**2*w3**2*x3+494165/1143*x1*x2**2*w3*x3**3+140/9*x1*x2**2*w3*x3-441350/1143*x1*x2*w3**2*x3**2+14119/381*x1*x2*w3**2-1949695/13716*x1*x2*w3*x3**2+90317/4572*x1*x2*w3+1103375/3429*x1*x2*x3**2-70595/2286*x1*x2+139681/4572*x1*w3**3*x3**3-175031/1524*x1*w3**3*x3+3208429/36576*x1*w3**2*x3**3-4960073/82296*x1*w3**2*x3-63436211/97536*x1*w3*x3**3+243691357/877824*x1*w3*x3+386852725/877824*x1*x3**3-351821345/2633472*x1*x3-220675/381*w2**2*x2**4*x3**2+14119/254*w2**2*x2**4-364214053/292608*w2**2*x2**3*x3**3+1674799/292608*w2**2*x2**3*x3+196695/1016*w2**2*x2**2*w3**2*x3**2-36941/1270*w2**2*x2**2*w3**2-47256211/65024*w2**2*x2**2*w3*x3**2+13203071/195072*w2**2*x2**2*w3-104393045/219456*w2**2*x2**2*x3**2+627517/12192*w2**2*x2**2-439631/2540*w2**2*x2*w3**2*x3**3+5416/127*w2**2*x2*w3**2*x3-388110211/1463040*w2**2*x2*w3*x3**3+38114939/487680*w2**2*x2*w3*x3-24599141/1097280*w2**2*x2*x3**3-70272721/2194560*w2**2*x2*x3+436139/4445*w2**2*w3**2*x3**2-3606171/177800*w2**2*w3**2+40539971/325120*w2**2*w3*x3**2+13455419/1625600*w2**2*w3-386500529/4389120*w2**2*x3**2-2520197/812800*w2**2+53189/2540*w2*x2**2*w3**3-31293211/975360*w2*x2**2*w3**2+506393249/1463040*w2*x2**2*w3+7108348835/21067776*w2*x2**2*x3**2-38586943/182880*w2*x2**2-1202057/2540*w2*x2*w3**3*x3**3+53189/254*w2*x2*w3**3*x3+3663370003/13167360*w2*x2*w3**2*x3**3-511915009/3413760*w2*x2*w3**2*x3+4941505639/5852160*w2*x2*w3*x3**3-135401014721/158008320*w2*x2*w3*x3-105184897183/35112960*w2*x2*x3**3+1092124263337/442423296*w2*x2*x3+2627407/35560*w2*w3**3*x3**2-3606171/177800*w2*w3**3-3832730483/10241280*w2*w3**2*x3**2+19994089027/307238400*w2*w3**2-17901884351/13825728*w2*w3*x3**2+4014739993/76809600*w2*w3+5010593549/35112960*w2*x3**2+162536149759/614476800*w2-441350/1143*x2**2*w3**2*x3**2+14119/381*x2**2*w3**2-23104415/48768*x2**2*w3*x3**2+15385459/146304*x2**2*w3+6543005/73152*x2**2*x3**2-2555539/73152*x2**2+11775613/91440*x2*w3**3*x3**3-631471/6096*x2*w3**3*x3+18588193261/52669440*x2*w3**2*x3**3-48594174083/158008320*x2*w3**2*x3+6401646023/35112960*x2*w3*x3**3+33650082517/63203328*x2*w3*x3+140722701/162560*x2*x3**3-46042473463/52669440*x2*x3-4251967/17780*w3**3*x3**2+21948931/533400*w3**3+4393670201/19751040*w3**2*x3**2-551891167/14630400*w3**2+601121067683/1106058240*w3*x3**2+162669814921/105338880*x3**4-958396416763/737372160*x3**2,\n",
      "\n"
     ]
    }
   ],
   "source": [
    "print_all(matrix_to_array_sparse(M[11],mdeg,nvar),nvar,GQ_sym(n),cal = True)"
   ]
  },
  {
   "cell_type": "code",
   "execution_count": 76,
   "metadata": {
    "collapsed": false
   },
   "outputs": [
    {
     "data": {
      "text/plain": [
       "8.326672684688674e-17"
      ]
     },
     "execution_count": 76,
     "metadata": {},
     "output_type": "execute_result"
    }
   ],
   "source": [
    "x3 = 0.8611363115940526\n",
    "x3**4-6./7*x3**2+3./35"
   ]
  },
  {
   "cell_type": "markdown",
   "metadata": {},
   "source": [
    "# Random polynomial"
   ]
  },
  {
   "cell_type": "code",
   "execution_count": null,
   "metadata": {
    "collapsed": true
   },
   "outputs": [],
   "source": [
    "def ran(bound):\n",
    "    a = int(np.random.random()*bound)\n",
    "    return a\n",
    "\n",
    "def Random_P(nvar = 2,ma = 2, m = 2, n =2 , coe = 4):\n",
    "    Polys = []\n",
    "    for i in range(m):\n",
    "        poly = []\n",
    "        for j in range(n):\n",
    "            term = []\n",
    "            term.append(1.*ran(coe)+1)\n",
    "            for k in range(nvar):\n",
    "                term.append(1.*ran(ma))\n",
    "            poly.append(term)\n",
    "        Polys.append(poly)\n",
    "    return Polys\n",
    "            "
   ]
  },
  {
   "cell_type": "code",
   "execution_count": null,
   "metadata": {
    "collapsed": false
   },
   "outputs": [],
   "source": [
    "n = 3\n",
    "ma = 3\n",
    "nvar = 3\n",
    "m=3\n",
    "mdeg = 100\n",
    "coe = 4\n",
    "polynomials = Random_P(nvar,ma, m , n  , coe)\n",
    "M=matC_sparse(polynomials,mdeg,nvar)\n",
    "print_all(matrix_to_array_sparse(M,mdeg,nvar),nvar)"
   ]
  },
  {
   "cell_type": "code",
   "execution_count": null,
   "metadata": {
    "collapsed": false
   },
   "outputs": [],
   "source": [
    "n = 3\n",
    "ma = 3\n",
    "nvar = 3\n",
    "m=3\n",
    "mdeg = 100\n",
    "coe = 4\n",
    "polynomials = Random_P(nvar,ma, m , n  , 1)\n",
    "print(polynomials)\n",
    "M=matC_sparse(polynomials,mdeg,nvar)\n",
    "print_all(matrix_to_array_sparse(M,mdeg,nvar),nvar,['x','y','z'])\n",
    "#print(M)\n",
    "print(\"\")\n",
    "M = run_sparse(M, mdeg,nvar,tol=10**-5,details = False,cal=True)\n",
    "#M.toarray()\n",
    "#print_array_sparse(matrix_to_array_sparse(M,mdeg,nvar)) \n",
    "print_all(matrix_to_array_sparse(M,mdeg,nvar),nvar,['x','y','z'],cal =True)"
   ]
  },
  {
   "cell_type": "code",
   "execution_count": null,
   "metadata": {
    "collapsed": false
   },
   "outputs": [],
   "source": [
    "polynomials =[[[1.0, 2.0, 2.0, 2.0], [1.0, 0.0, 1.0, 2.0], [1.0, 2.0, 2.0, 1.0]], [[1.0, 1.0, 2.0, 0.0], [1.0, 0.0, 0.0, 0.0], [1.0, 0.0, 1.0, 0.0]], [[1.0, 1.0, 0.0, 0.0], [1.0, 1.0, 2.0, 0.0], [1.0, 2.0, 2.0, 0.0]]]\n",
    "n = 3\n",
    "ma = 3\n",
    "nvar = 3\n",
    "m=3\n",
    "mdeg = 100\n",
    "coe = 4\n",
    "M=matC_sparse(polynomials,mdeg,nvar)\n",
    "print_all(matrix_to_array_sparse(M,mdeg,nvar),nvar,['x','y','z'],cal = False)\n",
    "#print(M)\n",
    "print(\"\")\n",
    "M = run_sparse(M, mdeg,nvar,tol=10**-5,details = False,cal=False)\n",
    "#M.toarray()\n",
    "#print_array_sparse(matrix_to_array_sparse(M,mdeg,nvar)) \n",
    "print_all(matrix_to_array_sparse(M,mdeg,nvar),nvar,['x','y','z'],cal =False)"
   ]
  },
  {
   "cell_type": "code",
   "execution_count": null,
   "metadata": {
    "collapsed": true
   },
   "outputs": [],
   "source": [
    "polynomials = [[[1.0, 2.0, 0.0, 1.0], [1.0, 1.0, 1.0, 1.0], [1.0, 1.0, 1.0, 0.0]],\n",
    "               [[1.0, 2.0, 1.0, 0.0], [1.0, 1.0, 1.0, 0.0], [1.0, 2.0, 2.0, 2.0]], \n",
    "               [[1.0, 1.0, 1.0, 1.0], [1.0, 1.0, 0.0, 2.0], [1.0, 0.0, 0.0, 1.0]]\n",
    "              ]#,[[1.0,0,0.,1.],[-1.,.0,.0,0]]]\n"
   ]
  },
  {
   "cell_type": "code",
   "execution_count": null,
   "metadata": {
    "collapsed": false
   },
   "outputs": [],
   "source": [
    "n = 3\n",
    "ma = 3\n",
    "nvar = 3\n",
    "m=3\n",
    "mdeg = 100\n",
    "coe = 4\n",
    "M=matC_sparse(polynomials,mdeg,nvar)\n",
    "print_all(matrix_to_array_sparse(M,mdeg,nvar),nvar,['x','y','z'],cal = False)\n",
    "#print(M)\n",
    "print(\"\")\n",
    "M = run_sparse(M, mdeg,nvar,tol=10**-5,details = False,cal=True,Gro=False,symbols = ['x','y','z'])\n",
    "#M.toarray()\n",
    "#print_array_sparse(matrix_to_array_sparse(M,mdeg,nvar)) \n",
    "print_all(matrix_to_array_sparse(M,mdeg,nvar),nvar,['x','y','z'],cal =False)\n",
    "print_all(matrix_to_array_sparse(M,mdeg,nvar),nvar,['x','y','z'],cal =True)\n"
   ]
  },
  {
   "cell_type": "code",
   "execution_count": null,
   "metadata": {
    "collapsed": true
   },
   "outputs": [],
   "source": [
    "z = 1.\n",
    "y = -.5+.5*np.sqrt(3)\n",
    "x = 2.*y**2-1\n"
   ]
  },
  {
   "cell_type": "code",
   "execution_count": null,
   "metadata": {
    "collapsed": false
   },
   "outputs": [],
   "source": [
    "print(x**2.0*z+x*y*z+x*y,\n",
    "x**2.0*y**2.0*z**2.0+x**2.0*y+x*y,\n",
    "x*y*z+x*z**2.0+z,\n",
    "z-1.0)"
   ]
  },
  {
   "cell_type": "code",
   "execution_count": null,
   "metadata": {
    "collapsed": true
   },
   "outputs": [],
   "source": [
    "z = 1.\n",
    "y = -.5-.5*np.sqrt(3)\n",
    "x = 2.*y**2-1\n"
   ]
  },
  {
   "cell_type": "code",
   "execution_count": null,
   "metadata": {
    "collapsed": false
   },
   "outputs": [],
   "source": [
    "print(x**2.0*z+x*y*z+x*y,\n",
    "x**2.0*y**2.0*z**2.0+x**2.0*y+x*y,\n",
    "x*y*z+x*z**2.0+z,\n",
    "z-1.0)\n"
   ]
  },
  {
   "cell_type": "code",
   "execution_count": null,
   "metadata": {
    "collapsed": false
   },
   "outputs": [],
   "source": [
    "z = 0.\n",
    "y = 10.\n",
    "x = 0\n",
    "print(x**2.0*z+x*y*z+x*y,\n",
    "x**2.0*y**2.0*z**2.0+x**2.0*y+x*y,\n",
    "x*y*z+x*z**2.0+z)"
   ]
  },
  {
   "cell_type": "markdown",
   "metadata": {},
   "source": [
    "# Constant Weight"
   ]
  },
  {
   "cell_type": "code",
   "execution_count": null,
   "metadata": {
    "collapsed": true
   },
   "outputs": [],
   "source": [
    "def CWS(n=2):\n",
    "    odd = False\n",
    "    if n-n/2*2 == 1:\n",
    "        odd = True\n",
    "    result = []\n",
    "    w = 2./n\n",
    "    \n",
    "    if True:\n",
    "        for i in range(n+1):\n",
    "            p = []\n",
    "            if i == 0:\n",
    "                continue\n",
    "            for j in range(n/2):\n",
    "                p_s = np.zeros(n/2+n - n/2*2+1)\n",
    "                p_s[0] = w\n",
    "                p_s[j+1] = i\n",
    "                p.append(p_s.tolist())\n",
    "                \n",
    "                p_s = np.zeros(n/2+n - n/2*2+1)\n",
    "                p_s[0] = w\n",
    "                if i-i/2*2 >0:\n",
    "                    p_s[0] = -w\n",
    "                p_s[j+1] = i\n",
    "                p.append(p_s.tolist())\n",
    "            if odd:\n",
    "                p_s = np.zeros(n/2+n - n/2*2+1)\n",
    "                p_s[0] = w\n",
    "                p_s[n/2+n - n/2*2] = i\n",
    "                p.append(p_s.tolist())\n",
    "            \n",
    "            if i-i/2*2 == 0 :\n",
    "                p_s = np.zeros(n/2+n - n/2*2+1)\n",
    "                p_s[0] = -2./(i+1)\n",
    "                p.append(p_s.tolist())\n",
    "            \n",
    "            result.append(p)\n",
    "        return result\n"
   ]
  },
  {
   "cell_type": "markdown",
   "metadata": {},
   "source": [
    "## n = 1"
   ]
  },
  {
   "cell_type": "code",
   "execution_count": null,
   "metadata": {
    "collapsed": false
   },
   "outputs": [],
   "source": [
    "%%timeit\n",
    "n = 1\n",
    "polynomials = CWS(n)\n",
    "#print_array_sparse(polynomials)\n",
    "mdeg = 20\n",
    "nvar = n/2+n-n/2*2\n",
    "M=matC_sparse(polynomials,mdeg,nvar)\n",
    "#print(M)\n",
    "M = run_sparse(M, mdeg,nvar,tol=10**-5,details = False,cal=True)\n",
    "#M.toarray()"
   ]
  },
  {
   "cell_type": "markdown",
   "metadata": {},
   "source": [
    "## n = 2"
   ]
  },
  {
   "cell_type": "code",
   "execution_count": null,
   "metadata": {
    "collapsed": false
   },
   "outputs": [],
   "source": [
    "n = 2\n",
    "polynomials = CWS(n)\n",
    "#print_array_sparse(polynomials)\n",
    "mdeg = 20\n",
    "nvar = n/2+n-n/2*2\n",
    "M=matC_sparse(polynomials,mdeg,nvar)\n",
    "#print(M)\n",
    "M = run_sparse(M, mdeg,nvar,tol=10**-5,details = False,cal=True)\n",
    "#M.toarray()\n",
    "#print_array_sparse(matrix_to_array_sparse(M,mdeg,nvar)) \n",
    "#print_all(matrix_to_array_sparse(M,mdeg,nvar),nvar,cal = True)\n",
    "print_all(matrix_to_array_sparse(M,mdeg,nvar),nvar,['x_0'],cal = False, precision = True)"
   ]
  },
  {
   "cell_type": "code",
   "execution_count": null,
   "metadata": {
    "collapsed": false
   },
   "outputs": [],
   "source": [
    "%%timeit\n",
    "n = 2\n",
    "polynomials = CWS(n)\n",
    "#print_array_sparse(polynomials)\n",
    "mdeg = 20\n",
    "nvar = n/2+n-n/2*2\n",
    "M=matC_sparse(polynomials,mdeg,nvar)\n",
    "#print(M)\n",
    "M = run_sparse(M, mdeg,nvar,tol=10**-5,details = False,cal=True)\n",
    "#M.toarray()\n",
    "#print_array_sparse(matrix_to_array_sparse(M,mdeg,nvar)) \n",
    "#print_all(matrix_to_array_sparse(M,mdeg,nvar),nvar,cal = True)\n",
    "#print_all(matrix_to_array_sparse(M,mdeg,nvar),nvar,['x_0'],cal = False, precision = True)"
   ]
  },
  {
   "cell_type": "markdown",
   "metadata": {},
   "source": [
    "## n = 3"
   ]
  },
  {
   "cell_type": "code",
   "execution_count": null,
   "metadata": {
    "collapsed": false
   },
   "outputs": [],
   "source": [
    "n = 3\n",
    "polynomials = CWS(n)\n",
    "#print_array_sparse(polynomials)\n",
    "mdeg = 20\n",
    "nvar = n/2+n-n/2*2\n",
    "M=matC_sparse(polynomials,mdeg,nvar)\n",
    "print_all(matrix_to_array_sparse(M,mdeg,nvar),nvar,['x_0','x_1'],cal = False, precision = True)\n",
    "#print(M)\n",
    "M = run_sparse(M, mdeg,nvar,tol=10**-5,details = False,cal=True)\n",
    "#M.toarray()\n",
    "#print_array_sparse(matrix_to_array_sparse(M,mdeg,nvar)) \n",
    "#print_all(matrix_to_array_sparse(M,mdeg,nvar),nvar,cal = True)\n",
    "print_all(matrix_to_array_sparse(M,mdeg,nvar),nvar,['x_0','x_1'],cal = False, precision = True)"
   ]
  },
  {
   "cell_type": "code",
   "execution_count": null,
   "metadata": {
    "collapsed": false
   },
   "outputs": [],
   "source": [
    "%%timeit\n",
    "n = 3\n",
    "polynomials = CWS(n)\n",
    "#print_array_sparse(polynomials)\n",
    "mdeg = 20\n",
    "nvar = n/2+n-n/2*2\n",
    "M=matC_sparse(polynomials,mdeg,nvar)\n",
    "#print(M)\n",
    "M = run_sparse(M, mdeg,nvar,tol=10**-5,details = False,cal=True)\n",
    "#M.toarray()"
   ]
  },
  {
   "cell_type": "markdown",
   "metadata": {},
   "source": [
    "## n = 4"
   ]
  },
  {
   "cell_type": "code",
   "execution_count": null,
   "metadata": {
    "collapsed": false
   },
   "outputs": [],
   "source": [
    "n = 4\n",
    "polynomials = CWS(n)\n",
    "#print_array_sparse(polynomials)\n",
    "mdeg = 20\n",
    "nvar = n/2+n-n/2*2\n",
    "M=matC_sparse(polynomials,mdeg,nvar)\n",
    "#print(M)\n",
    "print_all(matrix_to_array_sparse(M,mdeg,nvar),nvar,['x_0','x_1'],cal = False, precision = True)\n",
    "M = run_sparse(M, mdeg,nvar,tol=10**-5,details = False,cal=True)\n",
    "#M.toarray()\n",
    "#print_array_sparse(matrix_to_array_sparse(M,mdeg,nvar)) \n",
    "print_all(matrix_to_array_sparse(M,mdeg,nvar),nvar,cal = True)\n",
    "print_all(matrix_to_array_sparse(M,mdeg,nvar),nvar,['x_0','x_1'],cal = False, precision = True)"
   ]
  },
  {
   "cell_type": "code",
   "execution_count": null,
   "metadata": {
    "collapsed": false
   },
   "outputs": [],
   "source": [
    "%%timeit\n",
    "n = 4\n",
    "polynomials = CWS(n)\n",
    "#print_array_sparse(polynomials)\n",
    "mdeg = 20\n",
    "nvar = n/2+n-n/2*2\n",
    "M=matC_sparse(polynomials,mdeg,nvar)\n",
    "#print(M)\n",
    "M = run_sparse(M, mdeg,nvar,tol=10**-5,details = False,cal=True)\n",
    "#M.toarray()"
   ]
  },
  {
   "cell_type": "code",
   "execution_count": null,
   "metadata": {
    "collapsed": false
   },
   "outputs": [],
   "source": [
    "de = (2./3)**2-4.*2/90\n",
    "de = np.sqrt(de)\n",
    "a1 = (2./3+de)/2\n",
    "a2 = (2./3-de)/2\n",
    "a1 = np.sqrt(a1)\n",
    "a2 = np.sqrt(a2)\n",
    "print(a1,a2)\n",
    "\n",
    "def fff(aa):\n",
    "    return 3.0*aa**4-aa**2\n",
    "c = np.sqrt(.6-fff(a1))\n",
    "print(c)"
   ]
  },
  {
   "cell_type": "markdown",
   "metadata": {},
   "source": [
    "## n = 5"
   ]
  },
  {
   "cell_type": "code",
   "execution_count": null,
   "metadata": {
    "collapsed": false
   },
   "outputs": [],
   "source": [
    "n = 5\n",
    "polynomials = CWS(n)\n",
    "#print_array_sparse(polynomials)\n",
    "mdeg = 20\n",
    "nvar = n/2+n-n/2*2\n",
    "M=matC_sparse(polynomials,mdeg,nvar)\n",
    "print_all(matrix_to_array_sparse(M,mdeg,nvar),nvar,cal = True)\n",
    "#print(M)\n",
    "M = run_sparse(M, mdeg,nvar,tol=10**-5,details = False,cal=True)\n",
    "#M.toarray()\n",
    "#print_array_sparse(matrix_to_array_sparse(M,mdeg,nvar)) \n",
    "print_all(matrix_to_array_sparse(M,mdeg,nvar),nvar,cal = True)"
   ]
  },
  {
   "cell_type": "code",
   "execution_count": null,
   "metadata": {
    "collapsed": false
   },
   "outputs": [],
   "source": [
    "%%timeit\n",
    "n = 5\n",
    "polynomials = CWS(n)\n",
    "#print_array_sparse(polynomials)\n",
    "mdeg = 20\n",
    "nvar = n/2+n-n/2*2\n",
    "M=matC_sparse(polynomials,mdeg,nvar)\n",
    "#print(M)\n",
    "M = run_sparse(M, mdeg,nvar,tol=10**-5,details = False,cal=True)\n",
    "#M.toarray()"
   ]
  },
  {
   "cell_type": "code",
   "execution_count": null,
   "metadata": {
    "collapsed": false
   },
   "outputs": [],
   "source": [
    "plt.ylabel('ms')\n",
    "plt.xlabel('number of points')\n",
    "plt.title('Time cost of Constant Weight')\n",
    "plt.axis([1, 6,0,40])\n",
    "plt.plot([1,2,3,4,5],[0.853,1.54,5.98,12.1,27.6])"
   ]
  },
  {
   "cell_type": "markdown",
   "metadata": {},
   "source": [
    "## Experiment for comparision "
   ]
  },
  {
   "cell_type": "code",
   "execution_count": null,
   "metadata": {
    "collapsed": false
   },
   "outputs": [],
   "source": [
    "polynomials = [[[1,1000000,0],[1,0,1000000]],\n",
    "               [[1,1000000,0]]]\n",
    "#print_array_sparse(polynomials)\n",
    "mdeg = 1000002\n",
    "nvar = 2\n",
    "M=matC_sparse(polynomials,mdeg,nvar)\n",
    "#print(M)\n",
    "M = run_sparse(M, mdeg,nvar,tol=10**-5,details = True,cal=True)\n",
    "#M.toarray()\n",
    "#print_array_sparse(matrix_to_array_sparse(M,mdeg,nvar)) \n",
    "print_all(matrix_to_array_sparse(M,mdeg,nvar),nvar,cal = True)"
   ]
  },
  {
   "cell_type": "code",
   "execution_count": null,
   "metadata": {
    "collapsed": false,
    "scrolled": true
   },
   "outputs": [],
   "source": [
    "%%timeit\n",
    "polynomials = [[[1,1000000,0],[1,0,1000000]],\n",
    "               [[1,1000000,0]]]\n",
    "#print_array_sparse(polynomials)\n",
    "mdeg = 1000002\n",
    "nvar = 2\n",
    "M=matC_sparse(polynomials,mdeg,nvar)\n",
    "#print(M)\n",
    "M = run_sparse(M, mdeg,nvar,tol=10**-5,details = False,cal=True)\n",
    "#M.toarray()\n",
    "#print_array_sparse(matrix_to_array_sparse(M,mdeg,nvar)) \n",
    "#print_all(matrix_to_array_sparse(M,mdeg,nvar),nvar,cal = True)\n"
   ]
  },
  {
   "cell_type": "code",
   "execution_count": null,
   "metadata": {
    "collapsed": false
   },
   "outputs": [],
   "source": [
    "%%memit\n",
    "polynomials = [[[1,10000,0],[1,0,10000]],\n",
    "               [[1,10000,0]]]\n",
    "#print_array_sparse(polynomials)\n",
    "mdeg = 1000002\n",
    "nvar = 2\n",
    "M=matC_sparse(polynomials,mdeg,nvar)\n",
    "#print(M)\n",
    "M = run_sparse(M, mdeg,nvar,tol=10**-5,details = False,cal=True)\n",
    "#M.toarray()\n",
    "#print_array_sparse(matrix_to_array_sparse(M,mdeg,nvar)) \n",
    "#print_all(matrix_to_array_sparse(M,mdeg,nvar),nvar,cal = True)"
   ]
  },
  {
   "cell_type": "code",
   "execution_count": null,
   "metadata": {
    "collapsed": true
   },
   "outputs": [],
   "source": [
    "c = 10**4\n",
    "polynomials = [[[1.0, 2.0*c, 0.0, c], [1.0,c , c, c], [1.0, c, c, 0.0]],\n",
    "               [[1.0, 2.0*c, c, 0.0], [1.0, c, c, 0.0], [1.0, 2.0*c, 2.0*c, 2.0*c]], \n",
    "               [[1.0, c, c, c], [1.0, c, 0.0, 2.0*c], [1.0, 0.0, 0.0, c]]]"
   ]
  },
  {
   "cell_type": "code",
   "execution_count": null,
   "metadata": {
    "collapsed": false
   },
   "outputs": [],
   "source": [
    "mdeg = 10*c+2\n",
    "nvar = 3\n",
    "M=matC_sparse(polynomials,mdeg,nvar)\n",
    "print_all(matrix_to_array_sparse(M,mdeg,nvar),nvar,cal = True)\n",
    "#print(M)\n",
    "M = run_sparse(M, mdeg,nvar,tol=10**-5,details = False,cal=True)\n",
    "#M.toarray()\n",
    "#print_array_sparse(matrix_to_array_sparse(M,mdeg,nvar)) \n",
    "print_all(matrix_to_array_sparse(M,mdeg,nvar),nvar,cal = True)"
   ]
  },
  {
   "cell_type": "code",
   "execution_count": null,
   "metadata": {
    "collapsed": false
   },
   "outputs": [],
   "source": [
    "%%timeit\n",
    "mdeg = 100002\n",
    "nvar = 3\n",
    "M=matC_sparse(polynomials,mdeg,nvar)\n",
    "#print_all(matrix_to_array_sparse(M,mdeg,nvar),nvar,cal = True)\n",
    "#print(M)\n",
    "run_sparse(M, mdeg,nvar,tol=10**-5,details = False,cal=True)\n",
    "#M.toarray()\n",
    "#print_array_sparse(matrix_to_array_sparse(M,mdeg,nvar)) \n",
    "#print_all(matrix_to_array_sparse(M,mdeg,nvar),nvar,cal = True)"
   ]
  },
  {
   "cell_type": "code",
   "execution_count": null,
   "metadata": {
    "collapsed": false
   },
   "outputs": [],
   "source": [
    "%%memit\n",
    "mdeg = 200000\n",
    "nvar = 3\n",
    "M=matC_sparse(polynomials,mdeg,nvar)\n",
    "print_all(matrix_to_array_sparse(M,mdeg,nvar),nvar,cal = True)\n",
    "#print(M)\n",
    "M = run_sparse(M, mdeg,nvar,tol=10**-5,details = False,cal=True)\n",
    "#M.toarray()\n",
    "#print_array_sparse(matrix_to_array_sparse(M,mdeg,nvar)) \n",
    "#print_all(matrix_to_array_sparse(M,mdeg,nvar),nvar,cal = True)"
   ]
  },
  {
   "cell_type": "code",
   "execution_count": null,
   "metadata": {
    "collapsed": true
   },
   "outputs": [],
   "source": []
  }
 ],
 "metadata": {
  "anaconda-cloud": {},
  "kernelspec": {
   "display_name": "Python [Root]",
   "language": "python",
   "name": "Python [Root]"
  },
  "language_info": {
   "codemirror_mode": {
    "name": "ipython",
    "version": 2
   },
   "file_extension": ".py",
   "mimetype": "text/x-python",
   "name": "python",
   "nbconvert_exporter": "python",
   "pygments_lexer": "ipython2",
   "version": "2.7.11"
  }
 },
 "nbformat": 4,
 "nbformat_minor": 1
}
