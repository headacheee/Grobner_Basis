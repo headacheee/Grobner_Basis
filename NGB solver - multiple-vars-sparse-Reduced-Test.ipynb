{
 "cells": [
  {
   "cell_type": "code",
   "execution_count": 648,
   "metadata": {
    "collapsed": false
   },
   "outputs": [
    {
     "name": "stdout",
     "output_type": "stream",
     "text": [
      "The memory_profiler extension is already loaded. To reload it, use:\n",
      "  %reload_ext memory_profiler\n"
     ]
    }
   ],
   "source": [
    "from sympy import *\n",
    "import numpy as np\n",
    "import scipy as sp\n",
    "from scipy.linalg import lu\n",
    "from scipy.sparse.linalg import spilu\n",
    "import math\n",
    "import sympy \n",
    "import itertools\n",
    "import sys\n",
    "import time\n",
    "import multiprocessing\n",
    "\n",
    "from __future__ import print_function\n",
    "\n",
    "\n",
    "from copy import deepcopy\n",
    "import time\n",
    "import fractions\n",
    "import timeit\n",
    "\n",
    "import matplotlib.pyplot as plt\n",
    "\n",
    "%matplotlib inline\n",
    "\n",
    "%load_ext memory_profiler"
   ]
  },
  {
   "cell_type": "markdown",
   "metadata": {},
   "source": [
    "# print function"
   ]
  },
  {
   "cell_type": "code",
   "execution_count": 630,
   "metadata": {
    "collapsed": false
   },
   "outputs": [],
   "source": [
    "def print_row(row,symbols,nvar,precision,cal=False,tol = 10**-5 ):\n",
    "    # nvar  \n",
    "    plus_flag = False\n",
    "    \n",
    "    for ele in row:\n",
    "        mul_flag = False\n",
    "        if ele[0] == 0:\n",
    "            continue\n",
    "        constant_flag = True\n",
    "        for i in range(nvar+1):\n",
    "            if i==0:\n",
    "                if plus_flag and ele[i]>0:\n",
    "                    print('+',end ='')\n",
    "                if ele[i]==-1.:\n",
    "                    print('-',end ='')\n",
    "                    continue\n",
    "                if ele[i] != 1.:\n",
    "                    if cal or precision:\n",
    "                        if cal:\n",
    "                            mul_flag = True\n",
    "                        print(ele[i],end=\"\")\n",
    "                    else:\n",
    "                        print(\"%2.2f\"%ele[i],end=\"\")\n",
    "                plus_flag = True\n",
    "                continue\n",
    "            if ele[i] != 0:\n",
    "                if mul_flag:\n",
    "                    print('*',end = \"\")\n",
    "                if cal :\n",
    "                    mul_flag = True\n",
    "                print(symbols[i-1],end = \"\")\n",
    "                if ele[i] > 1:\n",
    "                    if cal:\n",
    "                        print(\"**\",end=\"\")\n",
    "                    else:\n",
    "                        print(\"^\",end=\"\")\n",
    "                    print(int(ele[i]),end=\"\")\n",
    "                constant_flag = False\n",
    "        \n",
    "        if constant_flag and ele[0]==1 :\n",
    "            if cal or precision:\n",
    "                print(ele[0],end=\"\")\n",
    "            else:\n",
    "                print(\"%2.2f\"%ele[0],end=\"\")\n",
    "        if constant_flag and ele[0]==-1 :\n",
    "            if cal or precision:\n",
    "                print(1,end=\"\")\n",
    "            else:\n",
    "                print(\"%2.2f\"%1,end=\"\")\n",
    "        plus_flag = True\n",
    "    if cal:\n",
    "        print(\",\")\n",
    "    else:\n",
    "        print(\"\\\\\\\\\")\n",
    "            \n",
    "def print_all(M,nvar,symbols=[],cal=False,precision = False):\n",
    "    if len(symbols) == 0:\n",
    "        symbols = ['x0','x1','x2','x3','x4','x5','x6','x7'][:nvar]\n",
    "    for row in M:\n",
    "        if len(row)!=0:\n",
    "            print_row(row,symbols,nvar,precision,cal)"
   ]
  },
  {
   "cell_type": "markdown",
   "metadata": {},
   "source": [
    "## Generate Gauissian Quaduature "
   ]
  },
  {
   "cell_type": "code",
   "execution_count": 632,
   "metadata": {
    "collapsed": false
   },
   "outputs": [],
   "source": [
    "# nomal Gaussian Quaduature\n",
    "def GQ(n=2):\n",
    "    result = []\n",
    "    for i in range(2*n):\n",
    "        p = []\n",
    "        for j in range(n):\n",
    "            p_s = np.zeros(2*n+1,dtype = int)\n",
    "            p_s[0] = 1\n",
    "            p_s[2*j+1] = 1\n",
    "            p_s[2*j+2] = i\n",
    "            p.append(p_s.tolist())\n",
    "        if i-i/2*2 == 0:\n",
    "            p_s = np.zeros(2*n+1)\n",
    "            p_s[0] = -2./(i+1)\n",
    "            p.append(p_s.tolist())\n",
    "        result.append(p)\n",
    "    return result\n",
    "\n",
    "def GQ_sym(n=2,Latex = False):        \n",
    "    result = []\n",
    "    \n",
    "    if Latex:\n",
    "        for i in range(2*n):\n",
    "            if i-i/2*2 == 0:\n",
    "                c = \"w_%d\"%(i/2)\n",
    "                result.append(c)\n",
    "            else:\n",
    "                c = \"x_%d\"%(i/2)\n",
    "                result.append(c)\n",
    "        return result\n",
    "    \n",
    "    for i in range(2*n):\n",
    "        if i-i/2*2 == 0:\n",
    "            c = \"w%d\"%(i/2)\n",
    "            result.append(c)\n",
    "        else:\n",
    "            c = \"x%d\"%(i/2)\n",
    "            result.append(c)\n",
    "    return result"
   ]
  },
  {
   "cell_type": "code",
   "execution_count": 567,
   "metadata": {
    "collapsed": false
   },
   "outputs": [],
   "source": [
    "def GQS(n=2):\n",
    "    odd = False\n",
    "    if n-n/2*2 == 1:\n",
    "        odd = True\n",
    "    result = []\n",
    "    if True:\n",
    "        for i in range(2*n):\n",
    "            p = []\n",
    "            for j in range(n/2):\n",
    "                p_s = np.zeros(2*n - n/2*2+1,dtype = int)\n",
    "                p_s[0] = 1\n",
    "                p_s[2*j+1] = 1\n",
    "                p_s[2*j+2] = i\n",
    "                p.append(p_s.tolist())\n",
    "                \n",
    "                p_s = np.zeros(2*n - n/2*2+1,dtype = int)\n",
    "                p_s[0] = 1\n",
    "                if i-i/2*2 >0:\n",
    "                    p_s[0] = -1\n",
    "                p_s[2*j+1] = 1\n",
    "                p_s[2*j+2] = i\n",
    "                p.append(p_s.tolist())\n",
    "            if odd:\n",
    "                p_s = np.zeros(2*n - n/2*2+1,dtype = int)\n",
    "                p_s[0] = 1\n",
    "                p_s[2*n - n/2*2-1] = 1\n",
    "                p_s[2*n - n/2*2] = i\n",
    "                p.append(p_s.tolist())\n",
    "            \n",
    "            if i-i/2*2 == 0 :\n",
    "                p_s = np.zeros(2*n - n/2*2+1)\n",
    "                p_s[0] = -2./(i+1)\n",
    "                p.append(p_s.tolist())\n",
    "            \n",
    "            result.append(p)\n",
    "        return result\n",
    "    for i in range(2*n):\n",
    "        p = []\n",
    "        for j in range(n/2):\n",
    "            p_s = np.zeros(2*n+1,dtype = int)\n",
    "            p_s[0] = 1\n",
    "            p_s[2*j+1] = 1\n",
    "            p_s[2*j+2] = i             \n",
    "            p.append(p_s.tolist())\n",
    "                \n",
    "            p_s = np.zeros(2*n+1,dtype = int)\n",
    "            p_s[0] = 1\n",
    "            if i-i/2*2 >0:\n",
    "                p_s[0] = -1\n",
    "            p_s[2*j+1] = 1\n",
    "            p_s[2*j+2] = i\n",
    "            p.append(p_s.tolist())\n",
    "        if i-i/2*2 == 0:\n",
    "            p_s = np.zeros(n+1)\n",
    "            p_s[0] = -2./(i+1)\n",
    "            p.append(p_s.tolist())\n",
    "        result.append(p)\n",
    "    return result"
   ]
  },
  {
   "cell_type": "markdown",
   "metadata": {},
   "source": [
    "# formation of the coefficient matri for multi-variable"
   ]
  },
  {
   "cell_type": "code",
   "execution_count": 568,
   "metadata": {
    "collapsed": false
   },
   "outputs": [],
   "source": [
    "def matC_sparse(polynomials, mdeg,nvar=2):\n",
    "    row = []\n",
    "    col =[]\n",
    "    ele = []\n",
    "    \n",
    "    rows = len(polynomials)\n",
    "    cols = mdeg**nvar\n",
    "    \n",
    "    for i in range(rows):\n",
    "        for monomial in polynomials[i]:\n",
    "            s = cols-1\n",
    "            for j in range(nvar):\n",
    "                s -= monomial[j+1]*mdeg**(nvar-1-j)\n",
    "            row.append(i)\n",
    "            col.append(s)\n",
    "            ele.append(1.0*monomial[0])\n",
    "    M = sp.sparse.csr_matrix((ele, (row, col)), shape=(rows, cols))\n",
    "    return M\n"
   ]
  },
  {
   "cell_type": "markdown",
   "metadata": {},
   "source": [
    "# Gaussian Elimination"
   ]
  },
  {
   "cell_type": "code",
   "execution_count": 569,
   "metadata": {
    "collapsed": false
   },
   "outputs": [],
   "source": [
    "def GEPP_sparse(C):    \n",
    "    M1 = C.copy()\n",
    "    M1 = M1.tocsc()\n",
    "    n = M1.shape[0]  ## number of rows\n",
    "    m = M1.shape[1]  ## number of columns\n",
    "\n",
    "    currentrow = 0\n",
    "    for i in range(m):\n",
    "        if M1[currentrow:,i].nnz==0:\n",
    "            pass  ## do nothing if we have a column of zeros\n",
    "        else:\n",
    "            if currentrow < (n-1):\n",
    "                    #print(i)\n",
    "                    ## first find index of (abs) maximum value\n",
    "                non_zero_row = M1[currentrow:n,i]\n",
    "                sub_index = np.argmax(abs(sp.sparse.find(non_zero_row)[2]))\n",
    "                index = sp.sparse.find(non_zero_row)[0][sub_index]+currentrow  #### n\\n-1 \n",
    "                    #print(M[currentrow:n,i])\n",
    "                    #print(index)\n",
    "                    #print(\"index is\", index,\"\\n\")\n",
    "                # swap rows\n",
    "                a_idx = np.where(M1.indices == index)\n",
    "                b_idx = np.where(M1.indices == currentrow)\n",
    "                M1.indices[a_idx] = currentrow\n",
    "                M1.indices[b_idx] = index    \n",
    "                          ####\n",
    "                #print(\"the matrix is now \\n\",M,\"\\n\")\n",
    "                #print(M)\n",
    "\n",
    "                    ## running the elimination step\n",
    "                for j in range(currentrow+1,n):\n",
    "                    if M1[j,i]!=0:\n",
    "                            #print(\"currentrow column entry is\", M[currentrow,i],\"\\n\")\n",
    "                        multiplier = M1[j,i]/M1[currentrow,i]\n",
    "                            #print(\"multiplier is\", multiplier,\"\\n\")\n",
    "                        M1[j,i:] = M1[j,i:] - multiplier*M1[currentrow,i:]\n",
    "                    else:\n",
    "                        pass\n",
    "                    #print(\"the matrix is after elimination \\n\",M,\"\\n\")\n",
    "\n",
    "                    ## incrementing row so the algorithm stops when we have a triangular system\n",
    "    \n",
    "                currentrow = currentrow + 1\n",
    "    \n",
    "    M1=M1.tocsr()\n",
    "    \n",
    "    for j in range(n):\n",
    "        if M1[j,:].nnz==0:\n",
    "            continue  ## do nothing if we have a row of zeros\n",
    "        else:\n",
    "       \n",
    "\n",
    "            indptr = M1.indptr\n",
    "            a = indptr[j]\n",
    "            b = indptr[j+1]\n",
    "            M1.data[a:b] = M1.data[a:b]/M1.data[a] \n",
    "      \n",
    "\n",
    "    return M1.tocsr()\n"
   ]
  },
  {
   "cell_type": "markdown",
   "metadata": {},
   "source": [
    "# Buchberger's algorithm for multi-variable"
   ]
  },
  {
   "cell_type": "code",
   "execution_count": 570,
   "metadata": {
    "collapsed": false
   },
   "outputs": [],
   "source": [
    "## sparse\n",
    "\n",
    "# input the start th leading\n",
    "def leading_sparse(row,start=0):\n",
    "    if row.nnz==0:\n",
    "        return -1\n",
    "    if start >= row.nnz:\n",
    "        return -1\n",
    "        \n",
    "        print(\"leading term overflow\")\n",
    "        print(row)\n",
    "        print(start)\n",
    "        sys.exit()\n",
    "    \n",
    "    return row.indices[start]\n",
    "    # return sp.sparse.find(row)[1][start]\n",
    "    \n",
    "\n",
    "def leading_term_sparse(arg,mdeg,nvar):\n",
    "    # return leading term without coefficient\n",
    "    \n",
    "    result = np.zeros(nvar)\n",
    "    a = arg\n",
    "    b = 0\n",
    "    for i in range(nvar):\n",
    "        div = mdeg**(nvar-1-i)\n",
    "        b = a - a/div*div\n",
    "        a = a/div\n",
    "        result[i]=mdeg-1-a\n",
    "        a = b\n",
    "    return result\n",
    "\n",
    "def check_multiple_sparse(lead_1,lead_2,nvar):\n",
    "    # check lead_1 is a multiple of lead_2\n",
    "    for i in range(nvar):\n",
    "        if lead_1[i]<lead_2[i]:\n",
    "            return False\n",
    "    return True\n",
    "\n",
    "def shift_col_sparse(lcm,deg_i,mdeg,nvar):\n",
    "    a = lcm[:-1]-deg_i\n",
    "    shift_column = 0\n",
    "    for i in range(nvar):\n",
    "        shift_column += mdeg**(nvar-1-i)*a[i]\n",
    "    return int(shift_column)\n",
    "\n",
    "# input sparse matirx\n",
    "def shift_sparse(lcm,deg_i,mdeg,nvar,row=-1,leading=-1,S=(-1,-1)):\n",
    "    row = row.tocsr()\n",
    "    row_copy = deepcopy(row)\n",
    "    shift_column = shift_col_sparse(lcm,deg_i,mdeg,nvar)\n",
    "    if leading-shift_column < 0:\n",
    "        print(S,leading,shift_column)\n",
    "        print(row)\n",
    "        print(\"degree overflow\")\n",
    "        sys.exit()\n",
    "    row_copy.indices[:] -= shift_column\n",
    "\n",
    "    return row_copy\n",
    "\n",
    "def get_lcm_sparse(a,b): \n",
    "    return abs(a * b) / fractions.gcd(a,b) if a and b else 0\n",
    "\n",
    "def check_multiple_sparse(lead_1,lead_2,nvar):\n",
    "    # check lead_1 is a multiple of lead_2\n",
    "    for i in range(nvar):\n",
    "        if lead_1[i]<lead_2[i]:\n",
    "            return False\n",
    "    return True\n",
    "\n",
    "def remainder_sparse(M,new_row,mdeg, nvar):\n",
    "    M = M.tocsr()\n",
    "    flag = True\n",
    "    m = M.shape[0]\n",
    "    while flag:\n",
    "        flag = False\n",
    "        new_lead = leading_sparse(new_row)\n",
    "        if new_lead==-1:\n",
    "            break\n",
    "        new_lead_term = leading_term_sparse(new_lead,mdeg,nvar)\n",
    "        for i in range(m):\n",
    "            row_lead = leading_sparse(M[i])\n",
    "            row_lead_term = leading_term_sparse(row_lead,mdeg,nvar)\n",
    "            if check_multiple_sparse(new_lead_term,row_lead_term,nvar):\n",
    "                #print(i)\n",
    "                lcm = np.hstack((new_lead_term,[1]))\n",
    "                old_shifted = shift_col_sparse(lcm,row_lead_term,mdeg,nvar)\n",
    "                coeff = new_row[0,new_lead]\n",
    "                \n",
    "                current_row = deepcopy(M[i])\n",
    "                #print(current_row)\n",
    "                current_row.indices[:] -= old_shifted\n",
    "                #print(current_row)\n",
    "                \n",
    "                new_row -= coeff * current_row\n",
    "                flag = True\n",
    "                break\n",
    "    return new_row\n",
    "\n",
    "def Buchberger_sparse(M, mdeg, nvar, S):\n",
    "    # check leading term\n",
    "    a = M[S[0]]\n",
    "    b = M[S[1]]\n",
    "    \n",
    "    arg_a = leading_sparse(a)\n",
    "    arg_b = leading_sparse(b)\n",
    "    \n",
    "    if arg_a==-1 or arg_b==-1:\n",
    "        return 0,M\n",
    "        \n",
    "        print(\"0 row occur\")\n",
    "        print(S)\n",
    "        print(M)\n",
    "        sys.exit()\n",
    "    \n",
    "    deg_a = leading_term_sparse(arg_a,mdeg,nvar)\n",
    "    deg_b = leading_term_sparse(arg_b,mdeg,nvar)\n",
    "    \n",
    "    \n",
    "    lcm = np.zeros(nvar+1)\n",
    "    for i in range(nvar):\n",
    "        lcm[i] = max(deg_a[i],deg_b[i])\n",
    "        \n",
    "    if(a[0,arg_a]<0):\n",
    "        a *= -1\n",
    "        \n",
    "    if(b[0,arg_b]<0):\n",
    "        b *= -1\n",
    "\n",
    "    lcm[nvar] = get_lcm_sparse(a[0,arg_a],b[0,arg_b])\n",
    "    \n",
    "\n",
    "    a_shifted = shift_sparse(lcm,deg_a,mdeg,nvar,a,arg_a,S)\n",
    "    b_shifted = shift_sparse(lcm,deg_b,mdeg,nvar,b,arg_b,S)\n",
    "    \n",
    "    \"\"\"   \n",
    "    if a[0,arg_a]!=1 or b[0,arg_b]!=1:\n",
    "        print(\"Normalization in Gaussian Elimination Failed\")\n",
    "        print(M)\n",
    "        sys.exit()\n",
    "    \"\"\"\n",
    "    if a[0,arg_a]> b[0,arg_b]:\n",
    "        new_row = a_shifted - (a[0,arg_a]/ b[0,arg_b])*b_shifted\n",
    "    else:\n",
    "        new_row = (b[0,arg_b]/a[0,arg_a])*a_shifted - b_shifted\n",
    "    \n",
    "    new_row = remainder_sparse(M,new_row,mdeg, nvar)\n",
    "    \n",
    "\n",
    "    if new_row.nnz == 0:\n",
    "        return 0,M\n",
    "    \n",
    "    # normalize new column\n",
    "    arg_c = leading_sparse(new_row)\n",
    "    \n",
    "    if new_row[0,arg_c]!=1:\n",
    "        new_row.data[:] /= new_row[0,arg_c]\n",
    "    M = sp.sparse.vstack([M,new_row])\n",
    "    return 1,M\n",
    "\n",
    "\n"
   ]
  },
  {
   "cell_type": "markdown",
   "metadata": {},
   "source": [
    "# Reduced "
   ]
  },
  {
   "cell_type": "code",
   "execution_count": 571,
   "metadata": {
    "collapsed": false
   },
   "outputs": [],
   "source": [
    "def find_largest(lead_v):\n",
    "    # l is the largest\n",
    "    l = -1\n",
    "    arg = -1\n",
    "    \n",
    "    m = lead_v.shape[0]\n",
    "    \n",
    "    for row in range(m):\n",
    "        if l == -1:\n",
    "            l = lead_v[row,-1]\n",
    "            arg = row\n",
    "            continue\n",
    "        if lead_v[row,-1] != -1 and lead_v[row,-1]<l:\n",
    "            l = lead_v[row,-1]\n",
    "            arg = row\n",
    "    if l == -1:\n",
    "        return -1\n",
    "    return arg\n",
    "\n",
    "def renew_lead_v(M,mdeg,nvar,lead_v,row,starts,tol=10**-4):\n",
    "    m = M.shape[0]\n",
    "    \n",
    "    lead_v[row,-1] = leading_sparse(M[row],starts[row])\n",
    "    while abs(M[row,lead_v[row,-1]]) < tol:\n",
    "        \n",
    "        M[row,lead_v[row,-1]]=0\n",
    "        M.eliminate_zeros()\n",
    "        lead_v[row,-1] = leading_sparse(M[row],starts[row])\n",
    "\n",
    "        if lead_v[row,-1] == -1:\n",
    "            return M,lead_v    \n",
    "    if lead_v[row,-1] == -1:\n",
    "        return M,lead_v   \n",
    "    monomial = leading_term_sparse(lead_v[row,-1],mdeg,nvar)\n",
    "    for j in range(nvar):\n",
    "        lead_v[row,j] = monomial[j]\n",
    "    return M,lead_v\n",
    "    \n",
    "def reduced_form(M,mdeg,nvar,tol):\n",
    "    m,n = M.shape\n",
    "    \n",
    "    # the vector store the leading term\n",
    "    lead_v = np.zeros((m,nvar+1),dtype = int)\n",
    "    \n",
    "    # vector stores the i the leading term\n",
    "    starts = np.zeros(m,dtype = int)\n",
    "    \n",
    "    # initialization leading_vector\n",
    "    for row in range(m):\n",
    "        M,lead_v = renew_lead_v(M,mdeg,nvar,lead_v,row,starts,tol)\n",
    "    \n",
    "    large_row = find_largest(lead_v)\n",
    "    while large_row != -1:\n",
    "        flag = False\n",
    "        for row in range(m):\n",
    "            if row != large_row and starts[row] == 0:\n",
    "                lead_arg = leading_sparse(M[row])\n",
    "                lead_term = leading_term_sparse(lead_arg,mdeg,nvar)\n",
    "                if check_multiple_sparse(lead_v[large_row,:-1],lead_term,nvar):\n",
    "\n",
    "                    shift_col = shift_col_sparse(lead_v[large_row],lead_term,mdeg,nvar)\n",
    "                    indices = deepcopy(M[row].indices) - shift_col\n",
    "                    indptr = np.zeros(m+1,dtype = int)\n",
    "                    for i in range(large_row+1,m+1):\n",
    "                        indptr[i] = indices.shape[0]\n",
    "                    data = deepcopy(M[row].data)\n",
    "                    M_subtrac = sp.sparse.csr_matrix((data, indices, indptr), shape=(m, n))\n",
    "                    c = M[large_row,lead_v[large_row,-1]]/M[row,lead_v[row,-1]]\n",
    "                    M -= c*M_subtrac\n",
    "                    flag = True\n",
    "                    break\n",
    "        if flag == False:\n",
    "            starts[large_row]+=1\n",
    "\n",
    "        M,lead_v=renew_lead_v(M,mdeg,nvar,lead_v,large_row,starts,tol)\n",
    "        large_row = find_largest(lead_v)\n",
    "    \n",
    "    return M\n",
    "    #print_all(matrix_to_array_sparse(M,mdeg,nvar),['A0','x0','A1','x1'],nvar)\n",
    "\n",
    "    "
   ]
  },
  {
   "cell_type": "markdown",
   "metadata": {},
   "source": [
    "# Combine them together"
   ]
  },
  {
   "cell_type": "code",
   "execution_count": 641,
   "metadata": {
    "collapsed": true
   },
   "outputs": [],
   "source": [
    "def delete_row_csr(mat, i):\n",
    "    if not isinstance(mat, sp.sparse.csr_matrix):\n",
    "        raise ValueError(\"works only for CSR format -- use .tocsr() first\")\n",
    "    n = mat.indptr[i+1] - mat.indptr[i]\n",
    "    if n > 0:\n",
    "        mat.data[mat.indptr[i]:-n] = mat.data[mat.indptr[i+1]:]\n",
    "        mat.data = mat.data[:-n]\n",
    "        mat.indices[mat.indptr[i]:-n] = mat.indices[mat.indptr[i+1]:]\n",
    "        mat.indices = mat.indices[:-n]\n",
    "    mat.indptr[i:-1] = mat.indptr[i+1:]\n",
    "    mat.indptr[i:] -= n\n",
    "    mat.indptr = mat.indptr[:-1]\n",
    "    mat._shape = (mat._shape[0]-1, mat._shape[1])\n",
    "\n",
    "def trun_zero_sparse(M):\n",
    "    while M[-1,:].nnz==0:\n",
    "        M = M[:-1,:]\n",
    "    return M\n",
    "\n",
    "def normalize_leading_sparse(M):\n",
    "    m = M.shape[0]\n",
    "    for i in range(m):\n",
    "        lead = leading_sparse(M[i])\n",
    "        if lead == -1:\n",
    "            #delete_row_csr(M, i)\n",
    "            continue\n",
    "        indptr = M.indptr\n",
    "        a = indptr[i]\n",
    "        b = indptr[i+1]\n",
    "        M.data[a:b] = M.data[a:b]/M.data[a]\n",
    "    return M"
   ]
  },
  {
   "cell_type": "code",
   "execution_count": 573,
   "metadata": {
    "collapsed": false
   },
   "outputs": [],
   "source": [
    "def check_nvar(row):\n",
    "    ele = 0\n",
    "    arg = -1\n",
    "    nvar = row.shape[0]\n",
    "    for i in range(nvar):\n",
    "        if row[i] == 1:\n",
    "            ele += 1\n",
    "            arg = i\n",
    "    if ele == 1:\n",
    "        return arg\n",
    "    if ele == 0:\n",
    "        return -2\n",
    "    return -1\n",
    "\n",
    "def check_terminate(M,mdeg,nvar):\n",
    "    M.eliminate_zeros()\n",
    "    m = M.shape[0]\n",
    "    \n",
    "    Var = np.zeros((m,nvar))\n",
    "    for i in range(m):\n",
    "        for j in range(M[i].nnz):\n",
    "            lead = leading_sparse(M[i],j)\n",
    "            if lead == -1:\n",
    "                print(\"check_terminate problem\")\n",
    "                sys.exit()\n",
    "            term = leading_term_sparse(lead,mdeg,nvar)\n",
    "            for k in range(nvar):\n",
    "                if term[k] != 0:\n",
    "                    Var[i,k] = 1.\n",
    "    C_E = np.zeros(nvar,dtype = int)\n",
    "    flag = True\n",
    "    \n",
    "    #print(Var)\n",
    "    while(flag):\n",
    "        flag = False\n",
    "        row_num = 0\n",
    "        while row_num<Var.shape[0]:\n",
    "            c = check_nvar(Var[row_num])\n",
    "            #print(row_num,c)\n",
    "            #print(Var)\n",
    "            if c > -1:\n",
    "                C_E[c] = 1\n",
    "                Var[:,c] = 0\n",
    "                Var=np.delete(Var, row_num, 0)\n",
    "                flag = True\n",
    "                break\n",
    "            if c == -2:\n",
    "                Var=np.delete(Var, row_num, 0)\n",
    "                continue\n",
    "            row_num += 1\n",
    "    #print(C_E)\n",
    "    if sum(C_E) == nvar:\n",
    "        return True\n",
    "    return False"
   ]
  },
  {
   "cell_type": "code",
   "execution_count": 702,
   "metadata": {
    "collapsed": true
   },
   "outputs": [],
   "source": [
    "def run_sparse(M, mdeg, nvar,tol = 10**-14,details = False,cal = False,Gro = False,Red = True,symbols = []):\n",
    "    #M = GEPP_sparse(M)\n",
    "    \n",
    "    max_row = M.shape[0]-1\n",
    "    current_row = 0\n",
    "    flag = -1\n",
    "    M=reduced_form(M,mdeg,nvar,tol)\n",
    "    if details:\n",
    "        print_all(matrix_to_array_sparse(M,mdeg,nvar),nvar,symbols,cal)\n",
    "        print(\"\")\n",
    "    #M=normalize_leading_sparse(M)\n",
    "    while current_row != max_row:\n",
    "        #print(current_row,max_row)\n",
    "        current_row +=1\n",
    "        #M = GEPP(M)\n",
    "        for i in range(current_row):\n",
    "            M=normalize_leading_sparse(M)\n",
    "            flag,M = Buchberger_sparse(M, mdeg, nvar, [current_row,i])\n",
    "            if flag == 1 and Red:\n",
    "                M=reduced_form(M,mdeg,nvar,tol)\n",
    "                if details:\n",
    "                    print_all(matrix_to_array_sparse(M,mdeg,nvar),nvar,symbols,cal)\n",
    "                    print(\"\")\n",
    "                if Gro == False:\n",
    "                    if check_terminate(M,mdeg,nvar):\n",
    "                        M=normalize_leading_sparse(M)\n",
    "                        return M\n",
    "        #time.sleep(1)\n",
    "        #M = GEPP(M)\n",
    "        #M = trun_zero(M)\n",
    "        M=normalize_leading_sparse(M)\n",
    "        #print(M)\n",
    "        max_row = M.shape[0]-1\n",
    "    M=normalize_leading_sparse(M)\n",
    "    return M\n"
   ]
  },
  {
   "cell_type": "raw",
   "metadata": {
    "collapsed": false
   },
   "source": [
    "def matrix_to_array_sparse(M,mdeg,nvar):\n",
    "    array = []\n",
    "    m = M.shape[0]\n",
    "    for i in range(m):\n",
    "        array.append([])\n",
    "        index = 0\n",
    "        nnz = M[i].nnz\n",
    "        for j in range(nnz):\n",
    "            index = leading_sparse(M[i],j)\n",
    "            L_T = leading_term_sparse(index,mdeg,nvar)\n",
    "            add = [M[i,index]]\n",
    "            add.extend(L_T)\n",
    "            array[i].append(add)\n",
    "\n",
    "    return array\n",
    "\n",
    "def print_array_sparse(array):\n",
    "    for p in array:\n",
    "        print(p)\n",
    "        "
   ]
  },
  {
   "cell_type": "markdown",
   "metadata": {},
   "source": [
    "# Testing"
   ]
  },
  {
   "cell_type": "markdown",
   "metadata": {},
   "source": [
    "Here we test $p_1=x^2$ and $p_2=xy+y^2$. And get Grobner basis $g_1=x^2, g_2=xy+y^2, g_3 = y^3$."
   ]
  },
  {
   "cell_type": "code",
   "execution_count": 575,
   "metadata": {
    "collapsed": false
   },
   "outputs": [
    {
     "name": "stdout",
     "output_type": "stream",
     "text": [
      "x^2\\\\\n",
      "xy+y^2\\\\\n",
      "y^3\\\\\n"
     ]
    }
   ],
   "source": [
    "p1 = [(1,2,0)]\n",
    "p2 = [(1,1,1),(1,0,2)]\n",
    "polynomials = [p1,p2]\n",
    "mdeg = 5\n",
    "nvar = 2\n",
    "M=matC_sparse(polynomials,mdeg,nvar)\n",
    "#print(M)\n",
    "M = run_sparse(M, mdeg,nvar,Gro=True,Red=False)\n",
    "#M.toarray()\n",
    "print_all(matrix_to_array_sparse(M,mdeg,nvar),2,['x','y']) \n"
   ]
  },
  {
   "cell_type": "code",
   "execution_count": 576,
   "metadata": {
    "collapsed": false
   },
   "outputs": [
    {
     "name": "stdout",
     "output_type": "stream",
     "text": [
      "100 loops, best of 3: 8.24 ms per loop\n"
     ]
    }
   ],
   "source": [
    "%%timeit\n",
    "p1 = [(1,2,0)]\n",
    "p2 = [(1,1,1),(1,0,2)]\n",
    "polynomials = [p1,p2]\n",
    "mdeg = 5\n",
    "nvar = 2\n",
    "M=matC_sparse(polynomials,mdeg,nvar)\n",
    "#print(M)\n",
    "M = run_sparse(M, mdeg,nvar,Gro=True)\n",
    "#M.toarray()\n",
    "\n"
   ]
  },
  {
   "cell_type": "markdown",
   "metadata": {
    "collapsed": true
   },
   "source": [
    "Here we test $p_1=xyz+xy$ and $p_2=x^2y^2z+yz$. And get Grobner basis $g_1=x^2y^2z+yz, g_2=xyz+xy, g_3=x^2y^2-2yz, g_4 = yz^2+yz$."
   ]
  },
  {
   "cell_type": "code",
   "execution_count": 577,
   "metadata": {
    "collapsed": false
   },
   "outputs": [
    {
     "name": "stdout",
     "output_type": "stream",
     "text": [
      "xyz+xy\\\\\n",
      "x^2y^2-2.00yz\\\\\n",
      "yz^2+yz\\\\\n"
     ]
    }
   ],
   "source": [
    "p1 = [(1,1,1,1),(1,1,1,0)]\n",
    "p2 = [(2,0,1,1),(1,2,2,1)]\n",
    "polynomials = [p1,p2]\n",
    "mdeg = 5\n",
    "nvar = 3\n",
    "M=matC_sparse(polynomials,mdeg,nvar)\n",
    "#print(M)\n",
    "M = run_sparse(M, mdeg,nvar,Gro=True,Red=False)\n",
    "#M.toarray()\n",
    "print_all(matrix_to_array_sparse(M,mdeg,nvar),3,['x','y','z']) \n"
   ]
  },
  {
   "cell_type": "markdown",
   "metadata": {},
   "source": [
    "# Solving Gaussian Quadrature for $n=2$"
   ]
  },
  {
   "cell_type": "code",
   "execution_count": 578,
   "metadata": {
    "collapsed": false
   },
   "outputs": [
    {
     "name": "stdout",
     "output_type": "stream",
     "text": [
      "A0-1.00\\\\\n",
      "-x1^2+0.33\\\\\n",
      "-0.33x0-0.33x1\\\\\n",
      "0.33A1+x1^2-0.67\\\\\n"
     ]
    }
   ],
   "source": [
    "p1= [(1,1,0,0,0),(1,0,0,1,0),(-2,0,0,0,0)]\n",
    "p2= [(1,1,1,0,0),(1,0,0,1,1)]\n",
    "p3= [(1,1,2,0,0),(1,0,0,1,2),(-2.0/3,0,0,0,0)]\n",
    "p4= [(1,1,3,0,0),(1,0,0,1,3)]\n",
    "polynomials = [p1,p2,p3,p4]\n",
    "mdeg = 10\n",
    "nvar = 4\n",
    "M=matC_sparse(polynomials,mdeg,nvar)\n",
    "#print(M)\n",
    "M = run_sparse(M, mdeg,nvar)\n",
    "#M.toarray()\n",
    "#print_array_sparse(matrix_to_array_sparse(M,mdeg,nvar)) \n",
    "print_all(matrix_to_array_sparse(M,mdeg,nvar),nvar,['A0','x0','A1','x1'])"
   ]
  },
  {
   "cell_type": "code",
   "execution_count": 579,
   "metadata": {
    "collapsed": false
   },
   "outputs": [
    {
     "name": "stdout",
     "output_type": "stream",
     "text": [
      "peak memory: 56.12 MiB, increment: 0.00 MiB\n"
     ]
    }
   ],
   "source": [
    "%memit matC_sparse(polynomials,mdeg,nvar)\n"
   ]
  },
  {
   "cell_type": "code",
   "execution_count": 580,
   "metadata": {
    "collapsed": false
   },
   "outputs": [
    {
     "name": "stdout",
     "output_type": "stream",
     "text": [
      "peak memory: 56.14 MiB, increment: 0.00 MiB\n"
     ]
    }
   ],
   "source": [
    "M = matC_sparse(polynomials,mdeg,nvar)\n",
    "\n",
    "def T(M,mdeg,nvar,loop=50):\n",
    "    for i in range(loop):\n",
    "        M = matC_sparse(polynomials,mdeg,nvar)\n",
    "        run_sparse(M, mdeg,nvar)\n",
    "%memit run_sparse(M, mdeg,nvar)\n"
   ]
  },
  {
   "cell_type": "code",
   "execution_count": 581,
   "metadata": {
    "collapsed": false
   },
   "outputs": [
    {
     "name": "stdout",
     "output_type": "stream",
     "text": [
      "10 loops, best of 3: 26.2 ms per loop\n"
     ]
    }
   ],
   "source": [
    "M = matC_sparse(polynomials,mdeg,nvar)\n",
    "%timeit run_sparse(M, mdeg,nvar) \n"
   ]
  },
  {
   "cell_type": "markdown",
   "metadata": {},
   "source": [
    "# Symmetric Gaussian Quadrature"
   ]
  },
  {
   "cell_type": "markdown",
   "metadata": {},
   "source": [
    "## n = 3"
   ]
  },
  {
   "cell_type": "code",
   "execution_count": 633,
   "metadata": {
    "collapsed": false
   },
   "outputs": [
    {
     "name": "stdout",
     "output_type": "stream",
     "text": [
      "2.0*w0-1.11111111111,\n",
      "0.888888888889*x1,\n",
      "-0.6*w1+0.533333333333,\n",
      "0.666666666667*x0**2-0.4,\n",
      "\n",
      "w_0-0.555555555556\\\\\n",
      "x_1\\\\\n",
      "w_1-0.888888888889\\\\\n",
      "x_0^2-0.6\\\\\n"
     ]
    }
   ],
   "source": [
    "n = 3\n",
    "polynomials = GQS(n)\n",
    "#print_array_sparse(polynomials)\n",
    "mdeg = 20\n",
    "nvar = 2*n-n/2*2\n",
    "M=matC_sparse(polynomials,mdeg,nvar)\n",
    "#print_all(matrix_to_array_sparse(M,mdeg,nvar),nvar,GQ_sym(n),cal = True)\n",
    "#print(M)\n",
    "M = run_sparse(M, mdeg,nvar,tol=10**-5,details = True,cal=True,Gro=True,symbols=GQ_sym(n))\n",
    "#M.toarray()\n",
    "#print_array_sparse(matrix_to_array_sparse(M,mdeg,nvar)) \n",
    "\n",
    "print_all(matrix_to_array_sparse(M,mdeg,nvar),nvar,GQ_sym(n,True),cal = False,precision = True)"
   ]
  },
  {
   "cell_type": "code",
   "execution_count": 583,
   "metadata": {
    "collapsed": false
   },
   "outputs": [
    {
     "name": "stdout",
     "output_type": "stream",
     "text": [
      "10 loops, best of 3: 34.1 ms per loop\n"
     ]
    }
   ],
   "source": [
    "%%timeit\n",
    "n = 3\n",
    "polynomials = GQS(n)\n",
    "#print_array_sparse(polynomials)\n",
    "mdeg = 20\n",
    "nvar = 2*n-n/2*2\n",
    "M=matC_sparse(polynomials,mdeg,nvar)\n",
    "#print(M)\n",
    "M = run_sparse(M, mdeg,nvar,tol=10**-5,details = False,cal=True)\n",
    "#M.toarray()"
   ]
  },
  {
   "cell_type": "code",
   "execution_count": 584,
   "metadata": {
    "collapsed": false
   },
   "outputs": [
    {
     "name": "stdout",
     "output_type": "stream",
     "text": [
      "peak memory: 56.15 MiB, increment: 0.00 MiB\n"
     ]
    }
   ],
   "source": [
    "%%memit\n",
    "n = 3\n",
    "polynomials = GQS(n)\n",
    "#print_array_sparse(polynomials)\n",
    "mdeg = 20\n",
    "nvar = 2*n-n/2*2\n",
    "M=matC_sparse(polynomials,mdeg,nvar)\n",
    "#print(M)\n",
    "M = run_sparse(M, mdeg,nvar,tol=10**-5,details = False,cal=True)"
   ]
  },
  {
   "cell_type": "markdown",
   "metadata": {},
   "source": [
    "## n = 4"
   ]
  },
  {
   "cell_type": "code",
   "execution_count": 645,
   "metadata": {
    "collapsed": false
   },
   "outputs": [
    {
     "name": "stdout",
     "output_type": "stream",
     "text": [
      "2.0w_0+2.0w_1-2.0\\\\\n",
      "\\\\\n",
      "2.0w_0x_0^2+2.0w_1x_1^2-0.666666666667\\\\\n",
      "\\\\\n",
      "2.0w_0x_0^4+2.0w_1x_1^4-0.4\\\\\n",
      "\\\\\n",
      "2.0w_0x_0^6+2.0w_1x_1^6-0.285714285714\\\\\n",
      "\\\\\n",
      "2.0*w0+2.0*w1-2.0,\n",
      "-2.0*x0**2*w1+2.0*x0**2+2.0*w1*x1**2-0.666666666667,\n",
      "-2.0*x0**2*x1**2+0.666666666667*x0**2+0.666666666667*x1**2-0.4,\n",
      "-2.0*x0**4*x1**2+0.666666666667*x0**4+0.4*x1**2-0.285714285714,\n",
      "\n",
      "w0+w1-1,\n",
      "x0**2*w1+0.6*w1+x1**2-0.990476190476,\n",
      "-0.444444444444*x1**4+0.380952380952*x1**2-0.0380952380952,\n",
      "-0.2*x0**2-0.333333333333*x1**4+0.0857142857143*x1**2+0.142857142857,\n",
      "0.190476190476*w1*x1**2+0.114285714286*w1-0.0888888888889,\n",
      "\n",
      "w_0+w_1-1\\\\\n",
      "x_0^2w_1+0.6w_1+x_1^2-0.990476190476\\\\\n",
      "x_1^4-0.857142857143x_1^2+0.0857142857143\\\\\n",
      "x_0^2+1.66666666667x_1^4-0.428571428571x_1^2-0.714285714286\\\\\n",
      "w_1x_1^2+0.6w_1-0.466666666667\\\\\n"
     ]
    }
   ],
   "source": [
    "n = 4\n",
    "polynomials = GQS(n)\n",
    "#print_array_sparse(polynomials)\n",
    "mdeg = 20\n",
    "nvar = 2*n-n/2*2\n",
    "M=matC_sparse(polynomials,mdeg,nvar)\n",
    "print_all(matrix_to_array_sparse(M,mdeg,nvar),nvar,GQ_sym(n,Latex=True),cal = False, precision = True)\n",
    "#print(M)\n",
    "M = run_sparse(M, mdeg,nvar,tol=10**-5,details = True,cal=True,symbols=GQ_sym(n))\n",
    "#M.toarray()\n",
    "#print_array_sparse(matrix_to_array_sparse(M,mdeg,nvar)) \n",
    "\n",
    "#print_all(matrix_to_array_sparse(M,mdeg,nvar),nvar,GQ_sym(n),cal = True)\n",
    "M = normalize_leading_sparse(M)\n",
    "print_all(matrix_to_array_sparse(M,mdeg,nvar),nvar,GQ_sym(n,Latex=True),cal = False,precision= True)"
   ]
  },
  {
   "cell_type": "code",
   "execution_count": 586,
   "metadata": {
    "collapsed": false
   },
   "outputs": [
    {
     "name": "stdout",
     "output_type": "stream",
     "text": [
      "10 loops, best of 3: 49.4 ms per loop\n"
     ]
    }
   ],
   "source": [
    "%%timeit\n",
    "n = 4\n",
    "polynomials = GQS(n)\n",
    "#print_array_sparse(polynomials)\n",
    "mdeg = 20\n",
    "nvar = 2*n-n/2*2\n",
    "M=matC_sparse(polynomials,mdeg,nvar)\n",
    "#print(M)\n",
    "M = run_sparse(M, mdeg,nvar,tol=10**-5,details = False,cal=True)"
   ]
  },
  {
   "cell_type": "code",
   "execution_count": 587,
   "metadata": {
    "collapsed": false
   },
   "outputs": [
    {
     "name": "stdout",
     "output_type": "stream",
     "text": [
      "peak memory: 56.15 MiB, increment: 0.00 MiB\n"
     ]
    }
   ],
   "source": [
    "%%memit\n",
    "n = 4\n",
    "polynomials = GQS(n)\n",
    "#print_array_sparse(polynomials)\n",
    "mdeg = 20\n",
    "nvar = 2*n-n/2*2\n",
    "M=matC_sparse(polynomials,mdeg,nvar)\n",
    "#print(M)\n",
    "M = run_sparse(M, mdeg,nvar,tol=10**-5,details = False,cal=True)"
   ]
  },
  {
   "cell_type": "code",
   "execution_count": 588,
   "metadata": {
    "collapsed": false
   },
   "outputs": [
    {
     "name": "stdout",
     "output_type": "stream",
     "text": [
      "-1.11022302463e-16 1.90403248723e-13 -6.93889390391e-18 5.10425035571e-14 3.91214838302e-14\n"
     ]
    }
   ],
   "source": [
    "A0=0.6521451548625461\n",
    "x0=-0.3399810435848563\n",
    "A1=0.3478548451374538\n",
    "x1=0.8611363115940526\n",
    "print(A0+A1-1.0,\n",
    "x0**2.0*A1+0.6*A1+x1**2.0-0.990476190476,\n",
    "-0.444444444444*x1**4.0+0.380952380952*x1**2.0-0.0380952380952,\n",
    "-0.2*x0**2.0-0.333333333333*x1**4.0+0.0857142857143*x1**2.0+0.142857142857,\n",
    "0.190476190476*A1*x1**2.0+0.114285714286*A1-0.0888888888889)"
   ]
  },
  {
   "cell_type": "markdown",
   "metadata": {},
   "source": [
    "# n = 5"
   ]
  },
  {
   "cell_type": "code",
   "execution_count": 642,
   "metadata": {
    "collapsed": false
   },
   "outputs": [
    {
     "name": "stdout",
     "output_type": "stream",
     "text": [
      "2.0w_0+2.0w_1+w_2-2.0\\\\\n",
      "w_2x_2\\\\\n",
      "2.0w_0x_0^2+2.0w_1x_1^2+w_2x_2^2-0.666666666667\\\\\n",
      "w_2x_2^3\\\\\n",
      "2.0w_0x_0^4+2.0w_1x_1^4+w_2x_2^4-0.4\\\\\n",
      "w_2x_2^5\\\\\n",
      "2.0w_0x_0^6+2.0w_1x_1^6+w_2x_2^6-0.285714285714\\\\\n",
      "w_2x_2^7\\\\\n",
      "2.0w_0x_0^8+2.0w_1x_1^8+w_2x_2^8-0.222222222222\\\\\n",
      "w_2x_2^9\\\\\n",
      "2.0*w0+2.0*w1+w2-2.0,\n",
      "w2*x2,\n",
      "-2.0*x0**2*w1-x0**2*w2+2.0*x0**2+2.0*w1*x1**2-0.666666666667,\n",
      "x0**2*x1**2*w2-2.0*x0**2*x1**2+0.666666666667*x0**2+0.666666666667*x1**2-0.4,\n",
      "x0**4*x1**2*w2-2.0*x0**4*x1**2+0.666666666667*x0**4+0.4*x1**2-0.285714285714,\n",
      "x0**6*x1**2*w2-2.0*x0**6*x1**2+0.666666666667*x0**6+0.285714285714*x1**2-0.222222222222,\n",
      "\n",
      "w0+w1-0.715555555556,\n",
      "0.568888888889*x2,\n",
      "x0**2*w1+0.230769230769*w1+0.715555555556*x1**2-0.710959164292,\n",
      "0.238095238095*w2-0.13544973545,\n",
      "0.106666666667*x1**4-0.118518518519*x1**2+0.0253968253968,\n",
      "0.285714285714*x0**2+0.4*x1**4-0.15873015873*x1**2-0.222222222222,\n",
      "-0.256790123457*w1*x1**2-0.0592592592593*w1-0.2*w2+0.177777777778,\n",
      "\n",
      "w_0+w_1-0.715555555556\\\\\n",
      "x_2\\\\\n",
      "x_0^2w_1+0.230769230769w_1+0.715555555556x_1^2-0.710959164292\\\\\n",
      "w_2-0.568888888889\\\\\n",
      "x_1^4-1.11111111111x_1^2+0.238095238095\\\\\n",
      "x_0^2+1.4x_1^4-0.555555555556x_1^2-0.777777777778\\\\\n",
      "w_1x_1^2+0.230769230769w_1+0.778846153846w_2-0.692307692308\\\\\n"
     ]
    }
   ],
   "source": [
    "n = 5\n",
    "polynomials = GQS(n)\n",
    "#print_array_sparse(polynomials)\n",
    "mdeg = 20\n",
    "nvar = 2*n-n/2*2\n",
    "M=matC_sparse(polynomials,mdeg,nvar)\n",
    "print_all(matrix_to_array_sparse(M,mdeg,nvar),nvar,GQ_sym(n,Latex=True),cal = False, precision = True)\n",
    "#print(M)\n",
    "M = run_sparse(M, mdeg,nvar,tol=10**-5,details = True,cal=True,symbols=GQ_sym(n))\n",
    "#M.toarray()\n",
    "#print_array_sparse(matrix_to_array_sparse(M,mdeg,nvar)) \n",
    "#print_all(matrix_to_array_sparse(M,mdeg,nvar),nvar,GQ_sym(n),cal = True)\n",
    "M = normalize_leading_sparse(M)\n",
    "print_all(matrix_to_array_sparse(M,mdeg,nvar),nvar,GQ_sym(n,Latex=True),cal = False,precision= True)"
   ]
  },
  {
   "cell_type": "code",
   "execution_count": 590,
   "metadata": {
    "collapsed": false
   },
   "outputs": [
    {
     "name": "stdout",
     "output_type": "stream",
     "text": [
      "10 loops, best of 3: 101 ms per loop\n"
     ]
    }
   ],
   "source": [
    "%%timeit\n",
    "n = 5\n",
    "polynomials = GQS(n)\n",
    "#print_array_sparse(polynomials)\n",
    "mdeg = 20\n",
    "nvar = 2*n-n/2*2\n",
    "M=matC_sparse(polynomials,mdeg,nvar)\n",
    "#print(M)\n",
    "M = run_sparse(M, mdeg,nvar,tol=10**-5,details = False,cal=True)"
   ]
  },
  {
   "cell_type": "code",
   "execution_count": 591,
   "metadata": {
    "collapsed": false
   },
   "outputs": [
    {
     "name": "stdout",
     "output_type": "stream",
     "text": [
      "peak memory: 56.15 MiB, increment: 0.00 MiB\n"
     ]
    }
   ],
   "source": [
    "%%memit\n",
    "n = 5\n",
    "polynomials = GQS(n)\n",
    "#print_array_sparse(polynomials)\n",
    "mdeg = 20\n",
    "nvar = 2*n-n/2*2\n",
    "M=matC_sparse(polynomials,mdeg,nvar)\n",
    "#print(M)\n",
    "M = run_sparse(M, mdeg,nvar,tol=10**-5,details = False,cal=True)"
   ]
  },
  {
   "cell_type": "code",
   "execution_count": 592,
   "metadata": {
    "collapsed": false
   },
   "outputs": [
    {
     "name": "stdout",
     "output_type": "stream",
     "text": [
      "-4.44422276757e-13 0.0 5.16031661846e-13 -4.00013355772e-13 -1.3697723511e-13 3.35842464949e-14 1.735833699e-13\n"
     ]
    }
   ],
   "source": [
    "A2=0.5688888888888889\n",
    "x2=0.0000000000000000\n",
    "A1=0.4786286704993665\n",
    "x1=-0.5384693101056831\n",
    "A0=0.2369268850561891\n",
    "x0=-0.9061798459386640\n",
    "print(A0+A1-0.715555555556,\n",
    "0.568888888889*x2,\n",
    "x0**2.0*A1+0.230769230769*A1+0.715555555556*x1**2.0-0.710959164292,\n",
    "0.238095238095*A2-0.13544973545,\n",
    "0.106666666667*x1**4.0-0.118518518519*x1**2.0+0.0253968253968,\n",
    "0.285714285714*x0**2.0+0.4*x1**4.0-0.15873015873*x1**2.0-0.222222222222,\n",
    "-0.256790123457*A1*x1**2.0-0.0592592592593*A1-0.2*A2+0.177777777778)"
   ]
  },
  {
   "cell_type": "code",
   "execution_count": 660,
   "metadata": {
    "collapsed": false
   },
   "outputs": [
    {
     "name": "stdout",
     "output_type": "stream",
     "text": [
      "100 loops, best of 3: 3.8 ms per loop\n"
     ]
    }
   ],
   "source": [
    "%%timeit\n",
    "n = 1\n",
    "polynomials = GQS(n)\n",
    "#print_array_sparse(polynomials)\n",
    "mdeg = 20\n",
    "nvar = 2*n-n/2*2\n",
    "M=matC_sparse(polynomials,mdeg,nvar)\n",
    "#print(M)\n",
    "M = run_sparse(M, mdeg,nvar,tol=10**-5,details = False,cal=True)"
   ]
  },
  {
   "cell_type": "code",
   "execution_count": 700,
   "metadata": {
    "collapsed": false
   },
   "outputs": [
    {
     "data": {
      "text/plain": [
       "[<matplotlib.lines.Line2D at 0x116e5de10>]"
      ]
     },
     "execution_count": 700,
     "metadata": {},
     "output_type": "execute_result"
    },
    {
     "data": {
      "image/png": "[encoded data removed]",
      "text/plain": [
       "<matplotlib.figure.Figure at 0x116cbabd0>"
      ]
     },
     "metadata": {},
     "output_type": "display_data"
    }
   ],
   "source": [
    "plt.ylabel('ms')\n",
    "plt.xlabel('number of points')\n",
    "plt.title('Time cost of Guassian Qudrature')\n",
    "plt.axis([1, 6,0,150])\n",
    "plt.plot([1,2,3,4,5],[3.8,7.88,34.1,49.4,101])"
   ]
  },
  {
   "cell_type": "markdown",
   "metadata": {},
   "source": [
    "# Solving Gaussian Quadrature without symmetry"
   ]
  },
  {
   "cell_type": "markdown",
   "metadata": {},
   "source": [
    "## n = 3"
   ]
  },
  {
   "cell_type": "code",
   "execution_count": 593,
   "metadata": {
    "collapsed": false
   },
   "outputs": [
    {
     "name": "stdout",
     "output_type": "stream",
     "text": [
      "w0+w1-0.555555555556*x2**2-1.11111111111,\n",
      "0.45*w1*x2+0.9*x1*w2+0.25*x1*x2**2-0.8*x1-0.4*x2,\n",
      "x2**3-0.6*x2,\n",
      "-x1**2-1.0*x1*x2-1.0*x2**2+0.6,\n",
      "x0+x1+1.66666666667*x2**3,\n",
      "0.675*w1*w2-1.26666666667*w1-2.0*x1**2+0.75*x1*w2**2*x2-4.25*x1*w2*x2+0.625*x1*x2+0.675*w2**2-0.75462962963*x2**2+1.03703703704,\n",
      "0.666666666667*w1*x1+0.333333333333*w1*x2+0.708333333333*x1*w2+0.208333333333*x1*x2**2-1.0*x1-0.37037037037*x2**3-0.0740740740741*x2,\n",
      "-0.6*w2-0.333333333333*x2**2+0.533333333333,\n"
     ]
    }
   ],
   "source": [
    "n = 3\n",
    "polynomials = GQ(n)\n",
    "mdeg = 20\n",
    "nvar = n*2\n",
    "M=matC_sparse(polynomials,mdeg,nvar)\n",
    "#print(M)\n",
    "M = run_sparse(M, mdeg,nvar,tol=10**-5,details = False,cal=True)\n",
    "#M.toarray()\n",
    "#print_array_sparse(matrix_to_array_sparse(M,mdeg,nvar)) \n",
    "print_all(matrix_to_array_sparse(M,mdeg,nvar),nvar,GQ_sym(n),cal = True)\n"
   ]
  },
  {
   "cell_type": "code",
   "execution_count": 594,
   "metadata": {
    "collapsed": false
   },
   "outputs": [
    {
     "name": "stdout",
     "output_type": "stream",
     "text": [
      "8.44213587925e-13 0.0 5.55111512313e-17 -1.11022302463e-16 1.54920520856e-12 8.88844553515e-13 1.63570545997e-13 -1.33337785257e-13\n"
     ]
    }
   ],
   "source": [
    "A0=0.8888888888888888\n",
    "x0=0.0000000000000000\n",
    "A1=0.5555555555555556\n",
    "x1=-0.7745966692414834\n",
    "A2=0.5555555555555556\n",
    "x2=0.7745966692414834\n",
    "\n",
    "print(A0+A1-0.555555555556*x2**2.0-1.11111111111,\n",
    "0.45*A1*x2+0.9*x1*A2+0.25*x1*x2**2.0-0.8*x1-0.4*x2,\n",
    "x2**3.0-0.6*x2,\n",
    "-1.0*x1**2.0-1.0*x1*x2-1.0*x2**2.0+0.6,\n",
    "x0+x1+1.66666666667*x2**3.0,\n",
    "0.675*A1*A2-1.26666666667*A1-2.0*x1**2.0+0.75*x1*A2**2.0*x2-4.25*x1*A2*x2+0.625*x1*x2+0.675*A2**2.0-0.75462962963*x2**2.0+1.03703703704,\n",
    "0.666666666667*A1*x1+0.333333333333*A1*x2+0.708333333333*x1*A2+0.208333333333*x1*x2**2.0-1.0*x1-0.37037037037*x2**3.0-0.0740740740741*x2,\n",
    "-0.6*A2-0.333333333333*x2**2.0+0.533333333333)"
   ]
  },
  {
   "cell_type": "code",
   "execution_count": 595,
   "metadata": {
    "collapsed": false
   },
   "outputs": [
    {
     "name": "stdout",
     "output_type": "stream",
     "text": [
      "peak memory: 56.16 MiB, increment: 0.00 MiB\n"
     ]
    }
   ],
   "source": [
    "%%memit\n",
    "n = 3\n",
    "polynomials = GQ(n)\n",
    "mdeg = 20\n",
    "nvar = n*2\n",
    "M=matC_sparse(polynomials,mdeg,nvar)\n",
    "#print(M)\n",
    "M = run_sparse(M, mdeg,nvar,tol=10**-5,details = False,cal=True)"
   ]
  },
  {
   "cell_type": "code",
   "execution_count": 596,
   "metadata": {
    "collapsed": false
   },
   "outputs": [
    {
     "name": "stdout",
     "output_type": "stream",
     "text": [
      "10 loops, best of 3: 170 ms per loop\n"
     ]
    }
   ],
   "source": [
    "%%timeit\n",
    "n = 3\n",
    "polynomials = GQ(n)\n",
    "mdeg = 20\n",
    "nvar = n*2\n",
    "M=matC_sparse(polynomials,mdeg,nvar)\n",
    "#print(M)\n",
    "M = run_sparse(M, mdeg,nvar,tol=10**-5,details = False,cal=True)"
   ]
  },
  {
   "cell_type": "markdown",
   "metadata": {},
   "source": [
    "# Random polynomial"
   ]
  },
  {
   "cell_type": "code",
   "execution_count": 597,
   "metadata": {
    "collapsed": true
   },
   "outputs": [],
   "source": [
    "def ran(bound):\n",
    "    a = int(np.random.random()*bound)\n",
    "    return a\n",
    "\n",
    "def Random_P(nvar = 2,ma = 2, m = 2, n =2 , coe = 4):\n",
    "    Polys = []\n",
    "    for i in range(m):\n",
    "        poly = []\n",
    "        for j in range(n):\n",
    "            term = []\n",
    "            term.append(1.*ran(coe)+1)\n",
    "            for k in range(nvar):\n",
    "                term.append(1.*ran(ma))\n",
    "            poly.append(term)\n",
    "        Polys.append(poly)\n",
    "    return Polys\n",
    "            "
   ]
  },
  {
   "cell_type": "code",
   "execution_count": 598,
   "metadata": {
    "collapsed": false
   },
   "outputs": [
    {
     "name": "stdout",
     "output_type": "stream",
     "text": [
      "x0^2x1x2^2+3.00x0x1x2+2.00x1^2x2^2\\\\\n",
      "2.00x0^2x1x2^2+2.00x0x2^2+2.00x1\\\\\n",
      "2.00x0^2x1+3.00x0x2+3.00x1x2^2\\\\\n"
     ]
    }
   ],
   "source": [
    "n = 3\n",
    "ma = 3\n",
    "nvar = 3\n",
    "m=3\n",
    "mdeg = 100\n",
    "coe = 4\n",
    "polynomials = Random_P(nvar,ma, m , n  , coe)\n",
    "M=matC_sparse(polynomials,mdeg,nvar)\n",
    "print_all(matrix_to_array_sparse(M,mdeg,nvar),nvar)"
   ]
  },
  {
   "cell_type": "code",
   "execution_count": 599,
   "metadata": {
    "collapsed": false
   },
   "outputs": [
    {
     "name": "stdout",
     "output_type": "stream",
     "text": [
      "x0x2^2\\\\\n",
      "x0^2x1+1.50x0x2\\\\\n",
      "x0x1x2-3.00x0x2^2\\\\\n",
      "x0x1^2\\\\\n",
      "0.07x1\\\\\n",
      "-37865216117247534562030095341800318153193947136.00x1^3+1.04x1\\\\\n",
      "2173517.69x1^2\\\\\n"
     ]
    }
   ],
   "source": [
    "M = run_sparse(M, mdeg,nvar,tol=10**-5,details = False,cal=True)\n",
    "#M.toarray()\n",
    "#print_array_sparse(matrix_to_array_sparse(M,mdeg,nvar)) \n",
    "print_all(matrix_to_array_sparse(M,mdeg,nvar),nvar)"
   ]
  },
  {
   "cell_type": "code",
   "execution_count": 600,
   "metadata": {
    "collapsed": false
   },
   "outputs": [
    {
     "name": "stdout",
     "output_type": "stream",
     "text": [
      "[[[1.0, 0.0, 2.0, 1.0], [1.0, 0.0, 0.0, 0.0], [1.0, 0.0, 1.0, 1.0]], [[1.0, 1.0, 2.0, 0.0], [1.0, 2.0, 1.0, 2.0], [1.0, 2.0, 1.0, 2.0]], [[1.0, 2.0, 1.0, 1.0], [1.0, 0.0, 0.0, 1.0], [1.0, 1.0, 0.0, 0.0]]]\n",
      "y^2z+yz+1.00\\\\\n",
      "2.00x^2yz^2+xy^2\\\\\n",
      "x^2yz+x+z\\\\\n",
      "\n",
      "16.0*z**11+8.0*z**8-4.0*z**7+12.0*z**6+4.0*z**4-2.0*z**3+4.0*z**2+1.0,\n",
      "0.5*x**2+3.47826086956*z**11-15.652173913*z**10+2.4347826087*z**9+6.78260869565*z**8-9.39130434783*z**7+6.86956521739*z**6-9.91304347826*z**5+0.478260869565*z**4-1.08695652174*z**3+3.26086956522*z**2-3.67391304348*z,\n",
      "x+25.7391304348*z**11-11.8260869565*z**10-2.78260869565*z**9+17.3913043478*z**8-12.6956521739*z**7+18.4347826087*z**6-6.95652173913*z**5+3.73913043478*z**4-3.04347826087*z**3+7.13043478261*z**2-2.08695652174*z,\n",
      "-y*z+9.04347826087*z**11-0.695652173913*z**10-4.86956521739*z**9+2.4347826087*z**8-1.21739130435*z**7+6.26086956522*z**6-0.173913043478*z**5+1.04347826087*z**4-1.82608695652*z**3+1.47826086957*z**2+0.347826086957*z,\n",
      "-0.25*y**2*z+1.73913043478*z**11+0.173913043478*z**10+1.21739130435*z**9+1.39130434783*z**8-0.695652173913*z**7+1.4347826087*z**6+0.0434782608696*z**5+0.739130434783*z**4-0.0434782608695*z**3+0.630434782609*z**2-0.0869565217391*z,\n",
      "x*y-9.73913043478*z**11-20.1739130435*z**10+2.78260869565*z**9-1.39130434783*z**8-7.30434782609*z**7+1.5652173913*z**6-13.0434782609*z**5-1.73913043478*z**4-0.95652173913*z**3+0.869565217391*z**2-3.91304347826*z,\n"
     ]
    }
   ],
   "source": [
    "n = 3\n",
    "ma = 3\n",
    "nvar = 3\n",
    "m=3\n",
    "mdeg = 100\n",
    "coe = 4\n",
    "polynomials = Random_P(nvar,ma, m , n  , 1)\n",
    "print(polynomials)\n",
    "M=matC_sparse(polynomials,mdeg,nvar)\n",
    "print_all(matrix_to_array_sparse(M,mdeg,nvar),nvar,['x','y','z'])\n",
    "#print(M)\n",
    "print(\"\")\n",
    "M = run_sparse(M, mdeg,nvar,tol=10**-5,details = False,cal=True)\n",
    "#M.toarray()\n",
    "#print_array_sparse(matrix_to_array_sparse(M,mdeg,nvar)) \n",
    "print_all(matrix_to_array_sparse(M,mdeg,nvar),nvar,['x','y','z'],cal =True)"
   ]
  },
  {
   "cell_type": "code",
   "execution_count": 601,
   "metadata": {
    "collapsed": false
   },
   "outputs": [
    {
     "name": "stdout",
     "output_type": "stream",
     "text": [
      "x^2y^2z^2+x^2y^2z+yz^2\\\\\n",
      "xy^2+y+1.00\\\\\n",
      "x^2y^2+xy^2+x\\\\\n",
      "\n",
      "xz^2+xz+yz+2.00z^2+z\\\\\n",
      "y^2-1.00\\\\\n",
      "xy+y^2+y\\\\\n",
      "yz^2+yz+1.50z^2+z\\\\\n"
     ]
    }
   ],
   "source": [
    "polynomials =[[[1.0, 2.0, 2.0, 2.0], [1.0, 0.0, 1.0, 2.0], [1.0, 2.0, 2.0, 1.0]], [[1.0, 1.0, 2.0, 0.0], [1.0, 0.0, 0.0, 0.0], [1.0, 0.0, 1.0, 0.0]], [[1.0, 1.0, 0.0, 0.0], [1.0, 1.0, 2.0, 0.0], [1.0, 2.0, 2.0, 0.0]]]\n",
    "n = 3\n",
    "ma = 3\n",
    "nvar = 3\n",
    "m=3\n",
    "mdeg = 100\n",
    "coe = 4\n",
    "M=matC_sparse(polynomials,mdeg,nvar)\n",
    "print_all(matrix_to_array_sparse(M,mdeg,nvar),nvar,['x','y','z'],cal = False)\n",
    "#print(M)\n",
    "print(\"\")\n",
    "M = run_sparse(M, mdeg,nvar,tol=10**-5,details = False,cal=False)\n",
    "#M.toarray()\n",
    "#print_array_sparse(matrix_to_array_sparse(M,mdeg,nvar)) \n",
    "print_all(matrix_to_array_sparse(M,mdeg,nvar),nvar,['x','y','z'],cal =False)"
   ]
  },
  {
   "cell_type": "code",
   "execution_count": 602,
   "metadata": {
    "collapsed": true
   },
   "outputs": [],
   "source": [
    "polynomials = [[[1.0, 2.0, 0.0, 1.0], [1.0, 1.0, 1.0, 1.0], [1.0, 1.0, 1.0, 0.0]],\n",
    "               [[1.0, 2.0, 1.0, 0.0], [1.0, 1.0, 1.0, 0.0], [1.0, 2.0, 2.0, 2.0]], \n",
    "               [[1.0, 1.0, 1.0, 1.0], [1.0, 1.0, 0.0, 2.0], [1.0, 0.0, 0.0, 1.0]]\n",
    "              ,[[1.0,0,0.,1.],[-1.,.0,.0,0]]]\n"
   ]
  },
  {
   "cell_type": "code",
   "execution_count": 603,
   "metadata": {
    "collapsed": false
   },
   "outputs": [
    {
     "name": "stdout",
     "output_type": "stream",
     "text": [
      "x^2z+xyz+xy\\\\\n",
      "x^2y^2z^2+x^2y+xy\\\\\n",
      "xyz+xz^2+z\\\\\n",
      "z-1.00\\\\\n",
      "\n",
      "-2.00y^2-2.00y+1.00\\\\\n",
      "z-1.00\\\\\n",
      "x-2.00y^2+1.00\\\\\n",
      "-2.0*y**2-2.0*y+1.0,\n",
      "z-1,\n",
      "x-2.0*y**2+1.0,\n"
     ]
    }
   ],
   "source": [
    "n = 3\n",
    "ma = 3\n",
    "nvar = 3\n",
    "m=3\n",
    "mdeg = 100\n",
    "coe = 4\n",
    "M=matC_sparse(polynomials,mdeg,nvar)\n",
    "print_all(matrix_to_array_sparse(M,mdeg,nvar),nvar,['x','y','z'],cal = False)\n",
    "#print(M)\n",
    "print(\"\")\n",
    "M = run_sparse(M, mdeg,nvar,tol=10**-5,details = False,cal=True,Gro=False,symbols = ['x','y','z'])\n",
    "#M.toarray()\n",
    "#print_array_sparse(matrix_to_array_sparse(M,mdeg,nvar)) \n",
    "print_all(matrix_to_array_sparse(M,mdeg,nvar),nvar,['x','y','z'],cal =False)\n",
    "print_all(matrix_to_array_sparse(M,mdeg,nvar),nvar,['x','y','z'],cal =True)\n"
   ]
  },
  {
   "cell_type": "code",
   "execution_count": 604,
   "metadata": {
    "collapsed": true
   },
   "outputs": [],
   "source": [
    "z = 1.\n",
    "y = -.5+.5*np.sqrt(3)\n",
    "x = 2.*y**2-1\n"
   ]
  },
  {
   "cell_type": "code",
   "execution_count": 605,
   "metadata": {
    "collapsed": false
   },
   "outputs": [
    {
     "name": "stdout",
     "output_type": "stream",
     "text": [
      "2.22044604925e-16 1.11022302463e-16 0.0 0.0\n"
     ]
    }
   ],
   "source": [
    "print(x**2.0*z+x*y*z+x*y,\n",
    "x**2.0*y**2.0*z**2.0+x**2.0*y+x*y,\n",
    "x*y*z+x*z**2.0+z,\n",
    "z-1.0)"
   ]
  },
  {
   "cell_type": "code",
   "execution_count": 606,
   "metadata": {
    "collapsed": true
   },
   "outputs": [],
   "source": [
    "z = 1.\n",
    "y = -.5-.5*np.sqrt(3)\n",
    "x = 2.*y**2-1\n"
   ]
  },
  {
   "cell_type": "code",
   "execution_count": 607,
   "metadata": {
    "collapsed": false
   },
   "outputs": [
    {
     "name": "stdout",
     "output_type": "stream",
     "text": [
      "0.0 -4.4408920985e-16 0.0 0.0\n"
     ]
    }
   ],
   "source": [
    "print(x**2.0*z+x*y*z+x*y,\n",
    "x**2.0*y**2.0*z**2.0+x**2.0*y+x*y,\n",
    "x*y*z+x*z**2.0+z,\n",
    "z-1.0)\n"
   ]
  },
  {
   "cell_type": "code",
   "execution_count": 608,
   "metadata": {
    "collapsed": false
   },
   "outputs": [
    {
     "name": "stdout",
     "output_type": "stream",
     "text": [
      "0.0 0.0 0.0\n"
     ]
    }
   ],
   "source": [
    "z = 0.\n",
    "y = 10.\n",
    "x = 0\n",
    "print(x**2.0*z+x*y*z+x*y,\n",
    "x**2.0*y**2.0*z**2.0+x**2.0*y+x*y,\n",
    "x*y*z+x*z**2.0+z)"
   ]
  },
  {
   "cell_type": "markdown",
   "metadata": {},
   "source": [
    "# Constant Weight"
   ]
  },
  {
   "cell_type": "code",
   "execution_count": 609,
   "metadata": {
    "collapsed": true
   },
   "outputs": [],
   "source": [
    "def CWS(n=2):\n",
    "    odd = False\n",
    "    if n-n/2*2 == 1:\n",
    "        odd = True\n",
    "    result = []\n",
    "    w = 2./n\n",
    "    \n",
    "    if True:\n",
    "        for i in range(n+1):\n",
    "            p = []\n",
    "            if i == 0:\n",
    "                continue\n",
    "            for j in range(n/2):\n",
    "                p_s = np.zeros(n/2+n - n/2*2+1)\n",
    "                p_s[0] = w\n",
    "                p_s[j+1] = i\n",
    "                p.append(p_s.tolist())\n",
    "                \n",
    "                p_s = np.zeros(n/2+n - n/2*2+1)\n",
    "                p_s[0] = w\n",
    "                if i-i/2*2 >0:\n",
    "                    p_s[0] = -w\n",
    "                p_s[j+1] = i\n",
    "                p.append(p_s.tolist())\n",
    "            if odd:\n",
    "                p_s = np.zeros(n/2+n - n/2*2+1)\n",
    "                p_s[0] = w\n",
    "                p_s[n/2+n - n/2*2] = i\n",
    "                p.append(p_s.tolist())\n",
    "            \n",
    "            if i-i/2*2 == 0 :\n",
    "                p_s = np.zeros(n/2+n - n/2*2+1)\n",
    "                p_s[0] = -2./(i+1)\n",
    "                p.append(p_s.tolist())\n",
    "            \n",
    "            result.append(p)\n",
    "        return result\n"
   ]
  },
  {
   "cell_type": "markdown",
   "metadata": {},
   "source": [
    "## n = 1"
   ]
  },
  {
   "cell_type": "code",
   "execution_count": 696,
   "metadata": {
    "collapsed": false
   },
   "outputs": [
    {
     "name": "stdout",
     "output_type": "stream",
     "text": [
      "1000 loops, best of 3: 853 µs per loop\n"
     ]
    }
   ],
   "source": [
    "%%timeit\n",
    "n = 1\n",
    "polynomials = CWS(n)\n",
    "#print_array_sparse(polynomials)\n",
    "mdeg = 20\n",
    "nvar = n/2+n-n/2*2\n",
    "M=matC_sparse(polynomials,mdeg,nvar)\n",
    "#print(M)\n",
    "M = run_sparse(M, mdeg,nvar,tol=10**-5,details = False,cal=True)\n",
    "#M.toarray()"
   ]
  },
  {
   "cell_type": "markdown",
   "metadata": {},
   "source": [
    "## n = 2"
   ]
  },
  {
   "cell_type": "code",
   "execution_count": 685,
   "metadata": {
    "collapsed": false
   },
   "outputs": [
    {
     "name": "stdout",
     "output_type": "stream",
     "text": [
      "x_0^2-0.333333333333\\\\\n"
     ]
    }
   ],
   "source": [
    "n = 2\n",
    "polynomials = CWS(n)\n",
    "#print_array_sparse(polynomials)\n",
    "mdeg = 20\n",
    "nvar = n/2+n-n/2*2\n",
    "M=matC_sparse(polynomials,mdeg,nvar)\n",
    "#print(M)\n",
    "M = run_sparse(M, mdeg,nvar,tol=10**-5,details = False,cal=True)\n",
    "#M.toarray()\n",
    "#print_array_sparse(matrix_to_array_sparse(M,mdeg,nvar)) \n",
    "#print_all(matrix_to_array_sparse(M,mdeg,nvar),nvar,cal = True)\n",
    "print_all(matrix_to_array_sparse(M,mdeg,nvar),nvar,['x_0'],cal = False, precision = True)"
   ]
  },
  {
   "cell_type": "code",
   "execution_count": 691,
   "metadata": {
    "collapsed": false
   },
   "outputs": [
    {
     "name": "stdout",
     "output_type": "stream",
     "text": [
      "1000 loops, best of 3: 1.54 ms per loop\n"
     ]
    }
   ],
   "source": [
    "%%timeit\n",
    "n = 2\n",
    "polynomials = CWS(n)\n",
    "#print_array_sparse(polynomials)\n",
    "mdeg = 20\n",
    "nvar = n/2+n-n/2*2\n",
    "M=matC_sparse(polynomials,mdeg,nvar)\n",
    "#print(M)\n",
    "M = run_sparse(M, mdeg,nvar,tol=10**-5,details = False,cal=True)\n",
    "#M.toarray()\n",
    "#print_array_sparse(matrix_to_array_sparse(M,mdeg,nvar)) \n",
    "#print_all(matrix_to_array_sparse(M,mdeg,nvar),nvar,cal = True)\n",
    "#print_all(matrix_to_array_sparse(M,mdeg,nvar),nvar,['x_0'],cal = False, precision = True)"
   ]
  },
  {
   "cell_type": "markdown",
   "metadata": {},
   "source": [
    "## n = 3"
   ]
  },
  {
   "cell_type": "code",
   "execution_count": 688,
   "metadata": {
    "collapsed": false
   },
   "outputs": [
    {
     "name": "stdout",
     "output_type": "stream",
     "text": [
      "0.666666666667x_1\\\\\n",
      "1.33333333333x_0^2+0.666666666667x_1^2-0.666666666667\\\\\n",
      "0.666666666667x_1^3\\\\\n",
      "x_1\\\\\n",
      "x_0^2-0.5\\\\\n"
     ]
    }
   ],
   "source": [
    "n = 3\n",
    "polynomials = CWS(n)\n",
    "#print_array_sparse(polynomials)\n",
    "mdeg = 20\n",
    "nvar = n/2+n-n/2*2\n",
    "M=matC_sparse(polynomials,mdeg,nvar)\n",
    "print_all(matrix_to_array_sparse(M,mdeg,nvar),nvar,['x_0','x_1'],cal = False, precision = True)\n",
    "#print(M)\n",
    "M = run_sparse(M, mdeg,nvar,tol=10**-5,details = False,cal=True)\n",
    "#M.toarray()\n",
    "#print_array_sparse(matrix_to_array_sparse(M,mdeg,nvar)) \n",
    "#print_all(matrix_to_array_sparse(M,mdeg,nvar),nvar,cal = True)\n",
    "print_all(matrix_to_array_sparse(M,mdeg,nvar),nvar,['x_0','x_1'],cal = False, precision = True)"
   ]
  },
  {
   "cell_type": "code",
   "execution_count": 692,
   "metadata": {
    "collapsed": false
   },
   "outputs": [
    {
     "name": "stdout",
     "output_type": "stream",
     "text": [
      "100 loops, best of 3: 5.98 ms per loop\n"
     ]
    }
   ],
   "source": [
    "%%timeit\n",
    "n = 3\n",
    "polynomials = CWS(n)\n",
    "#print_array_sparse(polynomials)\n",
    "mdeg = 20\n",
    "nvar = n/2+n-n/2*2\n",
    "M=matC_sparse(polynomials,mdeg,nvar)\n",
    "#print(M)\n",
    "M = run_sparse(M, mdeg,nvar,tol=10**-5,details = False,cal=True)\n",
    "#M.toarray()"
   ]
  },
  {
   "cell_type": "markdown",
   "metadata": {},
   "source": [
    "## n = 4"
   ]
  },
  {
   "cell_type": "code",
   "execution_count": 690,
   "metadata": {
    "collapsed": false
   },
   "outputs": [
    {
     "name": "stdout",
     "output_type": "stream",
     "text": [
      "\\\\\n",
      "x_0^2+x_1^2-0.666666666667\\\\\n",
      "\\\\\n",
      "x_0^4+x_1^4-0.4\\\\\n",
      "x1**4-0.666666666667*x1**2+0.0222222222222,\n",
      "x0**2+3.0*x1**4-x1**2-0.6,\n",
      "x_1^4-0.666666666667x_1^2+0.0222222222222\\\\\n",
      "x_0^2+3.0x_1^4-x_1^2-0.6\\\\\n"
     ]
    }
   ],
   "source": [
    "n = 4\n",
    "polynomials = CWS(n)\n",
    "#print_array_sparse(polynomials)\n",
    "mdeg = 20\n",
    "nvar = n/2+n-n/2*2\n",
    "M=matC_sparse(polynomials,mdeg,nvar)\n",
    "#print(M)\n",
    "print_all(matrix_to_array_sparse(M,mdeg,nvar),nvar,['x_0','x_1'],cal = False, precision = True)\n",
    "M = run_sparse(M, mdeg,nvar,tol=10**-5,details = False,cal=True)\n",
    "#M.toarray()\n",
    "#print_array_sparse(matrix_to_array_sparse(M,mdeg,nvar)) \n",
    "print_all(matrix_to_array_sparse(M,mdeg,nvar),nvar,cal = True)\n",
    "print_all(matrix_to_array_sparse(M,mdeg,nvar),nvar,['x_0','x_1'],cal = False, precision = True)"
   ]
  },
  {
   "cell_type": "code",
   "execution_count": 694,
   "metadata": {
    "collapsed": false
   },
   "outputs": [
    {
     "name": "stdout",
     "output_type": "stream",
     "text": [
      "100 loops, best of 3: 12.1 ms per loop\n"
     ]
    }
   ],
   "source": [
    "%%timeit\n",
    "n = 4\n",
    "polynomials = CWS(n)\n",
    "#print_array_sparse(polynomials)\n",
    "mdeg = 20\n",
    "nvar = n/2+n-n/2*2\n",
    "M=matC_sparse(polynomials,mdeg,nvar)\n",
    "#print(M)\n",
    "M = run_sparse(M, mdeg,nvar,tol=10**-5,details = False,cal=True)\n",
    "#M.toarray()"
   ]
  },
  {
   "cell_type": "code",
   "execution_count": 683,
   "metadata": {
    "collapsed": false
   },
   "outputs": [
    {
     "name": "stdout",
     "output_type": "stream",
     "text": [
      "0.794654472292 0.187592474085\n",
      "0.187592474085\n"
     ]
    }
   ],
   "source": [
    "de = (2./3)**2-4.*2/90\n",
    "de = np.sqrt(de)\n",
    "a1 = (2./3+de)/2\n",
    "a2 = (2./3-de)/2\n",
    "a1 = np.sqrt(a1)\n",
    "a2 = np.sqrt(a2)\n",
    "print(a1,a2)\n",
    "\n",
    "def fff(aa):\n",
    "    return 3.0*aa**4-aa**2\n",
    "c = np.sqrt(.6-fff(a1))\n",
    "print(c)"
   ]
  },
  {
   "cell_type": "markdown",
   "metadata": {},
   "source": [
    "## n = 5"
   ]
  },
  {
   "cell_type": "code",
   "execution_count": 668,
   "metadata": {
    "collapsed": false
   },
   "outputs": [
    {
     "name": "stdout",
     "output_type": "stream",
     "text": [
      "0.4*x2,\n",
      "0.8*x0**2+0.8*x1**2+0.4*x2**2-0.666666666667,\n",
      "0.4*x2**3,\n",
      "0.8*x0**4+0.8*x1**4+0.4*x2**4-0.4,\n",
      "0.4*x2**5,\n",
      "x2,\n",
      "x1**4-0.833333333333*x1**2+0.0972222222222,\n",
      "x0**2+2.4*x1**4-x1**2-0.6,\n"
     ]
    }
   ],
   "source": [
    "n = 5\n",
    "polynomials = CWS(n)\n",
    "#print_array_sparse(polynomials)\n",
    "mdeg = 20\n",
    "nvar = n/2+n-n/2*2\n",
    "M=matC_sparse(polynomials,mdeg,nvar)\n",
    "print_all(matrix_to_array_sparse(M,mdeg,nvar),nvar,cal = True)\n",
    "#print(M)\n",
    "M = run_sparse(M, mdeg,nvar,tol=10**-5,details = False,cal=True)\n",
    "#M.toarray()\n",
    "#print_array_sparse(matrix_to_array_sparse(M,mdeg,nvar)) \n",
    "print_all(matrix_to_array_sparse(M,mdeg,nvar),nvar,cal = True)"
   ]
  },
  {
   "cell_type": "code",
   "execution_count": 695,
   "metadata": {
    "collapsed": false
   },
   "outputs": [
    {
     "name": "stdout",
     "output_type": "stream",
     "text": [
      "10 loops, best of 3: 27.6 ms per loop\n"
     ]
    }
   ],
   "source": [
    "%%timeit\n",
    "n = 5\n",
    "polynomials = CWS(n)\n",
    "#print_array_sparse(polynomials)\n",
    "mdeg = 20\n",
    "nvar = n/2+n-n/2*2\n",
    "M=matC_sparse(polynomials,mdeg,nvar)\n",
    "#print(M)\n",
    "M = run_sparse(M, mdeg,nvar,tol=10**-5,details = False,cal=True)\n",
    "#M.toarray()"
   ]
  },
  {
   "cell_type": "code",
   "execution_count": 701,
   "metadata": {
    "collapsed": false
   },
   "outputs": [
    {
     "data": {
      "text/plain": [
       "[<matplotlib.lines.Line2D at 0x1170741d0>]"
      ]
     },
     "execution_count": 701,
     "metadata": {},
     "output_type": "execute_result"
    },
    {
     "data": {
      "image/png": "[encoded data removed]",
      "text/plain": [
       "<matplotlib.figure.Figure at 0x116f20c90>"
      ]
     },
     "metadata": {},
     "output_type": "display_data"
    }
   ],
   "source": [
    "plt.ylabel('ms')\n",
    "plt.xlabel('number of points')\n",
    "plt.title('Time cost of Constant Weight')\n",
    "plt.axis([1, 6,0,40])\n",
    "plt.plot([1,2,3,4,5],[0.853,1.54,5.98,12.1,27.6])"
   ]
  },
  {
   "cell_type": "code",
   "execution_count": 664,
   "metadata": {
    "collapsed": false
   },
   "outputs": [
    {
     "name": "stdout",
     "output_type": "stream",
     "text": [
      "4.0*w1**6-4.0*w1**4+0.8*w1**2-0.0380952380952,\n",
      "-0.666666666667*x0**4-0.666666666667*x0**2*w1**2+0.666666666667*x0**2-2.0*w1**6+1.33333333333*w1**4+0.266666666667*w1**2-0.114285714286,\n",
      "0.666666666667*w0**2+2.0*x0**4+2.0*x0**2*w1**2-1.33333333333*x0**2+2.0*w1**6-0.933333333333*w1**2-0.285714285714,\n",
      "\n",
      "w1**6-1.0*w1**4+0.2*w1**2-0.00952380952381,\n",
      "x0**4+1.0*x0**2*w1**2-1.0*x0**2+3.0*w1**6-2.0*w1**4-0.4*w1**2+0.171428571429,\n",
      "w0**2+3.0*x0**4+3.0*x0**2*w1**2-2.0*x0**2+3.0*w1**6-1.4*w1**2-0.428571428571,\n",
      "x0**2*w1**4-0.125*x0**2*w1**2+0.0078125*x0**2-7.72045650406e+14*w1**6+7.72045650406e+14*w1**4-1.54409130081e+14*w1**2+7.35281571816e+12,\n",
      "\n",
      "x2**6-1.0*x2**4+0.2*x2**2-0.00952380952381,\n",
      "x1**4+1.0*x1**2*x2**2-1.0*x1**2+3.0*x2**6-2.0*x2**4-0.4*x2**2+0.171428571429,\n",
      "x0**2+3.0*x1**4+3.0*x1**2*x2**2-2.0*x1**2+3.0*x2**6-1.4*x2**2-0.428571428571,\n",
      "x1**2*x2**4-0.125*x1**2*x2**2+0.0078125*x1**2-7.72045650406e+14*x2**6+7.72045650406e+14*x2**4-1.54409130081e+14*x2**2+7.35281571816e+12,\n"
     ]
    }
   ],
   "source": [
    "n = 6\n",
    "polynomials = CWS(n)\n",
    "#print_array_sparse(polynomials)\n",
    "mdeg = 20\n",
    "nvar = n/2+n-n/2*2\n",
    "M=matC_sparse(polynomials,mdeg,nvar)\n",
    "#print(M)\n",
    "M = run_sparse(M, mdeg,nvar,tol=10**-5,details = True,cal=True)\n",
    "#M.toarray()\n",
    "#print_array_sparse(matrix_to_array_sparse(M,mdeg,nvar)) \n",
    "print_all(matrix_to_array_sparse(M,mdeg,nvar),nvar,cal = True)"
   ]
  },
  {
   "cell_type": "code",
   "execution_count": null,
   "metadata": {
    "collapsed": true
   },
   "outputs": [],
   "source": []
  }
 ],
 "metadata": {
  "anaconda-cloud": {},
  "kernelspec": {
   "display_name": "Python [Root]",
   "language": "python",
   "name": "Python [Root]"
  },
  "language_info": {
   "codemirror_mode": {
    "name": "ipython",
    "version": 2
   },
   "file_extension": ".py",
   "mimetype": "text/x-python",
   "name": "python",
   "nbconvert_exporter": "python",
   "pygments_lexer": "ipython2",
   "version": "2.7.11"
  }
 },
 "nbformat": 4,
 "nbformat_minor": 1
}
