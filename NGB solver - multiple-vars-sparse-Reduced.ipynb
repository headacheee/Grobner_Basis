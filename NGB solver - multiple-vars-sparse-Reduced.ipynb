{
 "cells": [
  {
   "cell_type": "code",
   "execution_count": 290,
   "metadata": {
    "collapsed": false
   },
   "outputs": [],
   "source": [
    "from sympy import *\n",
    "import numpy as np\n",
    "import scipy as sp\n",
    "from scipy.linalg import lu\n",
    "from scipy.sparse.linalg import spilu\n",
    "import math\n",
    "import sympy \n",
    "import itertools\n",
    "import sys\n",
    "import time\n",
    "import multiprocessing\n",
    "\n",
    "from __future__ import print_function\n",
    "\n",
    "\n",
    "from copy import deepcopy\n",
    "import time\n",
    "import fractions\n",
    "import timeit"
   ]
  },
  {
   "cell_type": "markdown",
   "metadata": {},
   "source": [
    "# print function"
   ]
  },
  {
   "cell_type": "code",
   "execution_count": 291,
   "metadata": {
    "collapsed": false
   },
   "outputs": [],
   "source": [
    "def print_row(row,symbols,nvar,cal=False):\n",
    "    # nvar  \n",
    "    plus_flag = False\n",
    "    \n",
    "    for ele in row:\n",
    "        mul_flag = False\n",
    "        for i in range(nvar+1):\n",
    "            if i==0:\n",
    "                if plus_flag and ele[i]>0 and :\n",
    "                    print('+',end ='')\n",
    "                if ele[i] != 1:\n",
    "                    if cal:\n",
    "                        print(ele[i],end=\"\")\n",
    "                    else:\n",
    "                        print(\"%2.2f\"%ele[i],end=\"\")\n",
    "                    mul_flag = True\n",
    "                plus_flag = True\n",
    "                continue\n",
    "            if ele[i] != 0:\n",
    "                if mul_flag:\n",
    "                    print('*',end = \"\")\n",
    "                if cal :\n",
    "                    mul_flag = True\n",
    "                print(symbols[i-1],end = \"\")\n",
    "                if ele[i] > 1:\n",
    "                    if cal:\n",
    "                        print(\"**\",end=\"\")\n",
    "                    else:\n",
    "                        print(\"^\",end=\"\")\n",
    "                    print(ele[i],end=\"\")\n",
    "        plus_flag = True\n",
    "    if cal:\n",
    "        print(\",\")\n",
    "    else:\n",
    "        print(\"\")\n",
    "            \n",
    "def print_all(M,symbols,nvar,cal=False):\n",
    "    for row in M:\n",
    "        if len(row)!=0:\n",
    "            print_row(row,symbols,nvar,cal)"
   ]
  },
  {
   "cell_type": "markdown",
   "metadata": {},
   "source": [
    "# formation of the coefficient matri for multi-variable"
   ]
  },
  {
   "cell_type": "code",
   "execution_count": 292,
   "metadata": {
    "collapsed": false
   },
   "outputs": [],
   "source": [
    "def matC_sparse(polynomials, mdeg,nvar=2):\n",
    "    row = []\n",
    "    col =[]\n",
    "    ele = []\n",
    "    \n",
    "    rows = len(polynomials)\n",
    "    cols = mdeg**nvar\n",
    "    \n",
    "    for i in range(rows):\n",
    "        for monomial in polynomials[i]:\n",
    "            s = cols-1\n",
    "            for j in range(nvar):\n",
    "                s -= monomial[j+1]*mdeg**(nvar-1-j)\n",
    "            row.append(i)\n",
    "            col.append(s)\n",
    "            ele.append(1.0*monomial[0])\n",
    "    M = sp.sparse.csr_matrix((ele, (row, col)), shape=(rows, cols))\n",
    "    return M\n"
   ]
  },
  {
   "cell_type": "markdown",
   "metadata": {},
   "source": [
    "# Gaussian Elimination"
   ]
  },
  {
   "cell_type": "code",
   "execution_count": 293,
   "metadata": {
    "collapsed": false
   },
   "outputs": [],
   "source": [
    "def GEPP_sparse(C):    \n",
    "    M1 = C.copy()\n",
    "    M1 = M1.tocsc()\n",
    "    n = M1.shape[0]  ## number of rows\n",
    "    m = M1.shape[1]  ## number of columns\n",
    "\n",
    "    currentrow = 0\n",
    "    for i in range(m):\n",
    "        if M1[currentrow:,i].nnz==0:\n",
    "            pass  ## do nothing if we have a column of zeros\n",
    "        else:\n",
    "            if currentrow < (n-1):\n",
    "                    #print(i)\n",
    "                    ## first find index of (abs) maximum value\n",
    "                non_zero_row = M1[currentrow:n,i]\n",
    "                sub_index = np.argmax(abs(sp.sparse.find(non_zero_row)[2]))\n",
    "                index = sp.sparse.find(non_zero_row)[0][sub_index]+currentrow  #### n\\n-1 \n",
    "                    #print(M[currentrow:n,i])\n",
    "                    #print(index)\n",
    "                    #print(\"index is\", index,\"\\n\")\n",
    "                # swap rows\n",
    "                a_idx = np.where(M1.indices == index)\n",
    "                b_idx = np.where(M1.indices == currentrow)\n",
    "                M1.indices[a_idx] = currentrow\n",
    "                M1.indices[b_idx] = index    \n",
    "                          ####\n",
    "                #print(\"the matrix is now \\n\",M,\"\\n\")\n",
    "                #print(M)\n",
    "\n",
    "                    ## running the elimination step\n",
    "                for j in range(currentrow+1,n):\n",
    "                    if M1[j,i]!=0:\n",
    "                            #print(\"currentrow column entry is\", M[currentrow,i],\"\\n\")\n",
    "                        multiplier = M1[j,i]/M1[currentrow,i]\n",
    "                            #print(\"multiplier is\", multiplier,\"\\n\")\n",
    "                        M1[j,i:] = M1[j,i:] - multiplier*M1[currentrow,i:]\n",
    "                    else:\n",
    "                        pass\n",
    "                    #print(\"the matrix is after elimination \\n\",M,\"\\n\")\n",
    "\n",
    "                    ## incrementing row so the algorithm stops when we have a triangular system\n",
    "    \n",
    "                currentrow = currentrow + 1\n",
    "    \n",
    "    M1=M1.tocsr()\n",
    "    \n",
    "    for j in range(n):\n",
    "        if M1[j,:].nnz==0:\n",
    "            continue  ## do nothing if we have a row of zeros\n",
    "        else:\n",
    "       \n",
    "\n",
    "            indptr = M1.indptr\n",
    "            a = indptr[j]\n",
    "            b = indptr[j+1]\n",
    "            M1.data[a:b] = M1.data[a:b]/M1.data[a] \n",
    "      \n",
    "\n",
    "    return M1.tocsr()\n"
   ]
  },
  {
   "cell_type": "markdown",
   "metadata": {},
   "source": [
    "# Buchberger's algorithm for multi-variable"
   ]
  },
  {
   "cell_type": "code",
   "execution_count": 294,
   "metadata": {
    "collapsed": false
   },
   "outputs": [],
   "source": [
    "## sparse\n",
    "\n",
    "# input the start th leading\n",
    "def leading_sparse(row,start=0):\n",
    "    if row.nnz==0:\n",
    "        return -1\n",
    "    if start >= row.nnz:\n",
    "        return -1\n",
    "        \n",
    "        print(\"leading term overflow\")\n",
    "        print(row)\n",
    "        print(start)\n",
    "        sys.exit()\n",
    "    \n",
    "    return row.indices[start]\n",
    "    # return sp.sparse.find(row)[1][start]\n",
    "    \n",
    "\n",
    "def leading_term_sparse(arg,mdeg,nvar):\n",
    "    # return leading term without coefficient\n",
    "    \n",
    "    result = np.zeros(nvar)\n",
    "    a = arg\n",
    "    b = 0\n",
    "    for i in range(nvar):\n",
    "        div = mdeg**(nvar-1-i)\n",
    "        b = a - a/div*div\n",
    "        a = a/div\n",
    "        result[i]=mdeg-1-a\n",
    "        a = b\n",
    "    return result\n",
    "\n",
    "def check_multiple_sparse(lead_1,lead_2,nvar):\n",
    "    # check lead_1 is a multiple of lead_2\n",
    "    for i in range(nvar):\n",
    "        if lead_1[i]<lead_2[i]:\n",
    "            return False\n",
    "    return True\n",
    "\n",
    "def shift_col_sparse(lcm,deg_i,mdeg,nvar):\n",
    "    a = lcm[:-1]-deg_i\n",
    "    shift_column = 0\n",
    "    for i in range(nvar):\n",
    "        shift_column += mdeg**(nvar-1-i)*a[i]\n",
    "    return int(shift_column)\n",
    "\n",
    "# input sparse matirx\n",
    "def shift_sparse(lcm,deg_i,mdeg,nvar,row=-1,leading=-1,S=(-1,-1)):\n",
    "    row = row.tocsr()\n",
    "    row_copy = deepcopy(row)\n",
    "    shift_column = shift_col_sparse(lcm,deg_i,mdeg,nvar)\n",
    "    if leading-shift_column < 0:\n",
    "        print(S,leading,shift_column)\n",
    "        print(row)\n",
    "        print(\"degree overflow\")\n",
    "        sys.exit()\n",
    "    row_copy.indices[:] -= shift_column\n",
    "\n",
    "    return row_copy\n",
    "\n",
    "def get_lcm_sparse(a,b): \n",
    "    return abs(a * b) / fractions.gcd(a,b) if a and b else 0\n",
    "\n",
    "def check_multiple_sparse(lead_1,lead_2,nvar):\n",
    "    # check lead_1 is a multiple of lead_2\n",
    "    for i in range(nvar):\n",
    "        if lead_1[i]<lead_2[i]:\n",
    "            return False\n",
    "    return True\n",
    "\n",
    "def remainder_sparse(M,new_row,mdeg, nvar):\n",
    "    M = M.tocsr()\n",
    "    flag = True\n",
    "    m = M.shape[0]\n",
    "    while flag:\n",
    "        flag = False\n",
    "        new_lead = leading_sparse(new_row)\n",
    "        if new_lead==-1:\n",
    "            break\n",
    "        new_lead_term = leading_term_sparse(new_lead,mdeg,nvar)\n",
    "        for i in range(m):\n",
    "            row_lead = leading_sparse(M[i])\n",
    "            row_lead_term = leading_term_sparse(row_lead,mdeg,nvar)\n",
    "            if check_multiple_sparse(new_lead_term,row_lead_term,nvar):\n",
    "                #print(i)\n",
    "                lcm = np.hstack((new_lead_term,[1]))\n",
    "                old_shifted = shift_col_sparse(lcm,row_lead_term,mdeg,nvar)\n",
    "                coeff = new_row[0,new_lead]\n",
    "                \n",
    "                current_row = deepcopy(M[i])\n",
    "                #print(current_row)\n",
    "                current_row.indices[:] -= old_shifted\n",
    "                #print(current_row)\n",
    "                \n",
    "                new_row -= coeff * current_row\n",
    "                flag = True\n",
    "                break\n",
    "    return new_row\n",
    "\n",
    "def Buchberger_sparse(M, mdeg, nvar, S):\n",
    "    # check leading term\n",
    "    a = M[S[0]]\n",
    "    b = M[S[1]]\n",
    "    \n",
    "    arg_a = leading_sparse(a)\n",
    "    arg_b = leading_sparse(b)\n",
    "    \n",
    "    if arg_a==-1 or arg_b==-1:\n",
    "        return 0,M\n",
    "        \n",
    "        print(\"0 row occur\")\n",
    "        print(S)\n",
    "        print(M)\n",
    "        sys.exit()\n",
    "    \n",
    "    deg_a = leading_term_sparse(arg_a,mdeg,nvar)\n",
    "    deg_b = leading_term_sparse(arg_b,mdeg,nvar)\n",
    "    \n",
    "    \n",
    "    lcm = np.zeros(nvar+1)\n",
    "    for i in range(nvar):\n",
    "        lcm[i] = max(deg_a[i],deg_b[i])\n",
    "    lcm[nvar] = get_lcm_sparse(a[0,arg_a],b[0,arg_b])\n",
    "    \n",
    "\n",
    "    a_shifted = shift_sparse(lcm,deg_a,mdeg,nvar,a,arg_a,S)\n",
    "    b_shifted = shift_sparse(lcm,deg_b,mdeg,nvar,b,arg_b,S)\n",
    "    \n",
    "    \"\"\"   \n",
    "    if a[0,arg_a]!=1 or b[0,arg_b]!=1:\n",
    "        print(\"Normalization in Gaussian Elimination Failed\")\n",
    "        print(M)\n",
    "        sys.exit()\n",
    "    \"\"\"\n",
    "    if a[0,arg_a]> b[0,arg_b]:\n",
    "        new_row = a_shifted - (a[0,arg_a]/ b[0,arg_b])*b_shifted\n",
    "    else:\n",
    "        new_row = (b[0,arg_b]/a[0,arg_a])*a_shifted - b_shifted\n",
    "    \n",
    "    new_row = remainder_sparse(M,new_row,mdeg, nvar)\n",
    "    \n",
    "\n",
    "    if new_row.nnz == 0:\n",
    "        return 0,M\n",
    "    \n",
    "    # normalize new column\n",
    "    arg_c = leading_sparse(new_row)\n",
    "    \n",
    "    if new_row[0,arg_c]!=1:\n",
    "        new_row.data[:] /= new_row[0,arg_c]\n",
    "    M = sp.sparse.vstack([M,new_row])\n",
    "    return 1,M\n",
    "\n"
   ]
  },
  {
   "cell_type": "markdown",
   "metadata": {},
   "source": [
    "# Reduced "
   ]
  },
  {
   "cell_type": "code",
   "execution_count": 344,
   "metadata": {
    "collapsed": false
   },
   "outputs": [],
   "source": [
    "def leading_sparse(row,start=0):\n",
    "    if row.nnz==0:\n",
    "        return -1\n",
    "    if start >= row.nnz:\n",
    "        return -1\n",
    "        \n",
    "        print(\"leading term overflow\")\n",
    "        print(row)\n",
    "        print(start)\n",
    "        sys.exit()\n",
    "    \n",
    "    return row.indices[start]\n",
    "    # return sp.sparse.find(row)[1][start]\n",
    "    \n",
    "\n",
    "def leading_term_sparse(arg,mdeg,nvar):\n",
    "    # return leading term without coefficient\n",
    "    \n",
    "    result = np.zeros(nvar)\n",
    "    a = arg\n",
    "    b = 0\n",
    "    for i in range(nvar):\n",
    "        div = mdeg**(nvar-1-i)\n",
    "        b = a - a/div*div\n",
    "        a = a/div\n",
    "        result[i]=mdeg-1-a\n",
    "        a = b\n",
    "    return result\n",
    "\n",
    "def check_multiple_sparse(lead_1,lead_2,nvar):\n",
    "    # check lead_1 is a multiple of lead_2\n",
    "    for i in range(nvar):\n",
    "        if lead_1[i]<lead_2[i]:\n",
    "            return False\n",
    "    return True\n",
    "\n",
    "def shift_col_sparse(lcm,deg_i,mdeg,nvar):\n",
    "    a = lcm[:-1]-deg_i\n",
    "    shift_column = 0\n",
    "    for i in range(nvar):\n",
    "        shift_column += mdeg**(nvar-1-i)*a[i]\n",
    "    return int(shift_column)\n",
    "\n",
    "# input sparse matirx\n",
    "def shift_sparse(lcm,deg_i,mdeg,nvar,row=-1,leading=-1,S=(-1,-1)):\n",
    "    row = row.tocsr()\n",
    "    row_copy = deepcopy(row)\n",
    "    shift_column = shift_col_sparse(lcm,deg_i,mdeg,nvar)\n",
    "    if leading-shift_column < 0:\n",
    "        print(S,leading,shift_column)\n",
    "        print(row)\n",
    "        print(\"degree overflow\")\n",
    "        sys.exit()\n",
    "    row_copy.indices[:] -= shift_column\n",
    "\n",
    "    return row_copy\n",
    "\n",
    "\n",
    "\n",
    "\n",
    "def find_largest(lead_v):\n",
    "    # l is the largest\n",
    "    l = -1\n",
    "    arg = -1\n",
    "    \n",
    "    m = lead_v.shape[0]\n",
    "    \n",
    "    for row in range(m):\n",
    "        if l == -1:\n",
    "            l = lead_v[row,-1]\n",
    "            arg = row\n",
    "            continue\n",
    "        if lead_v[row,-1] != -1 and lead_v[row,-1]<l:\n",
    "            l = lead_v[row,-1]\n",
    "            arg = row\n",
    "    if l == -1:\n",
    "        return -1\n",
    "    return arg\n",
    "\n",
    "def renew_lead_v(M,mdeg,nvar,lead_v,row,starts,tol=10**-4):\n",
    "    m = M.shape[0]\n",
    "    \n",
    "    lead_v[row,-1] = leading_sparse(M[row],starts[row])\n",
    "    while abs(M[row,lead_v[row,-1]]) < tol:\n",
    "        \n",
    "        M[row,lead_v[row,-1]]=0\n",
    "        M.eliminate_zeros()\n",
    "        lead_v[row,-1] = leading_sparse(M[row],starts[row])\n",
    "\n",
    "        if lead_v[row,-1] == -1:\n",
    "            return M,lead_v    \n",
    "    if lead_v[row,-1] == -1:\n",
    "        return M,lead_v   \n",
    "    monomial = leading_term_sparse(lead_v[row,-1],mdeg,nvar)\n",
    "    for j in range(nvar):\n",
    "        lead_v[row,j] = monomial[j]\n",
    "    return M,lead_v\n",
    "    \n",
    "def reduced_form(M,mdeg,nvar,tol):\n",
    "    m,n = M.shape\n",
    "    \n",
    "    # the vector store the leading term\n",
    "    lead_v = np.zeros((m,nvar+1),dtype = int)\n",
    "    \n",
    "    # vector stores the i the leading term\n",
    "    starts = np.zeros(m,dtype = int)\n",
    "    \n",
    "    # initialization leading_vector\n",
    "    for row in range(m):\n",
    "        M,lead_v = renew_lead_v(M,mdeg,nvar,lead_v,row,starts,tol)\n",
    "    \n",
    "    large_row = find_largest(lead_v)\n",
    "    while large_row != -1:\n",
    "        flag = False\n",
    "        for row in range(m):\n",
    "            if row != large_row and starts[row] == 0:\n",
    "                lead_arg = leading_sparse(M[row])\n",
    "                lead_term = leading_term_sparse(lead_arg,mdeg,nvar)\n",
    "                if check_multiple_sparse(lead_v[large_row,:-1],lead_term,nvar):\n",
    "\n",
    "                    shift_col = shift_col_sparse(lead_v[large_row],lead_term,mdeg,nvar)\n",
    "                    indices = deepcopy(M[row].indices) - shift_col\n",
    "                    indptr = np.zeros(m+1,dtype = int)\n",
    "                    for i in range(large_row+1,m+1):\n",
    "                        indptr[i] = indices.shape[0]\n",
    "                    data = deepcopy(M[row].data)\n",
    "                    M_subtrac = sp.sparse.csr_matrix((data, indices, indptr), shape=(m, n))\n",
    "                    c = M[large_row,lead_v[large_row,-1]]/M[row,lead_v[row,-1]]\n",
    "                    M -= c*M_subtrac\n",
    "                    flag = True\n",
    "                    break\n",
    "        if flag == False:\n",
    "            starts[large_row]+=1\n",
    "\n",
    "        M,lead_v=renew_lead_v(M,mdeg,nvar,lead_v,large_row,starts,tol)\n",
    "        large_row = find_largest(lead_v)\n",
    "    \n",
    "    return M\n",
    "    #print_all(matrix_to_array_sparse(M,mdeg,nvar),['A0','x0','A1','x1'],nvar)\n",
    "\n",
    "    "
   ]
  },
  {
   "cell_type": "code",
   "execution_count": 352,
   "metadata": {
    "collapsed": false,
    "scrolled": true
   },
   "outputs": [
    {
     "name": "stdout",
     "output_type": "stream",
     "text": [
      "[[1.0, 1.0, 0.0, 0.0, 0.0], [-1.0, 0.0, 0.0, 0.0, 0.0]]\n",
      "[]\n",
      "[[1.0, 0.0, 0.0, 0.0, 2.0], [-0.33333333333333331, 0.0, 0.0, 0.0, 0.0]]\n",
      "[]\n",
      "[[1.0, 0.0, 1.0, 0.0, 0.0], [1.0, 0.0, 0.0, 0.0, 1.0]]\n",
      "[[1.0, 0.0, 0.0, 1.0, 0.0], [-3.0, 0.0, 0.0, 0.0, 2.0]]\n",
      "A0-1.00\n",
      "x1^2.0-0.33\n",
      "x0+x1\n",
      "A1-3.00*x1^2.0\n"
     ]
    }
   ],
   "source": [
    "p1= [(1,1,0,0,0),(1,0,0,1,0),(-2,0,0,0,0)]\n",
    "p2= [(1,1,1,0,0),(1,0,0,1,1)]\n",
    "p3= [(1,1,2,0,0),(1,0,0,1,2),(-2.0/3,0,0,0,0)]\n",
    "p4= [(1,1,3,0,0),(1,0,0,1,3)]\n",
    "polynomials = [p1,p2,p3,p4]\n",
    "mdeg = 20\n",
    "nvar = 4\n",
    "M=matC_sparse(polynomials,mdeg,nvar)\n",
    "#print(M)\n",
    "M = run_sparse(M, mdeg,nvar,tol = 10**-17)\n",
    "#M.toarray()\n",
    "print_array_sparse(matrix_to_array_sparse(M,mdeg,nvar)) \n",
    "print_all(matrix_to_array_sparse(M,mdeg,nvar),['A0','x0','A1','x1'],nvar)"
   ]
  },
  {
   "cell_type": "markdown",
   "metadata": {},
   "source": [
    "# Combine them together"
   ]
  },
  {
   "cell_type": "code",
   "execution_count": 318,
   "metadata": {
    "collapsed": true
   },
   "outputs": [],
   "source": [
    "def delete_row_csr(mat, i):\n",
    "    if not isinstance(mat, sp.sparse.csr_matrix):\n",
    "        raise ValueError(\"works only for CSR format -- use .tocsr() first\")\n",
    "    n = mat.indptr[i+1] - mat.indptr[i]\n",
    "    if n > 0:\n",
    "        mat.data[mat.indptr[i]:-n] = mat.data[mat.indptr[i+1]:]\n",
    "        mat.data = mat.data[:-n]\n",
    "        mat.indices[mat.indptr[i]:-n] = mat.indices[mat.indptr[i+1]:]\n",
    "        mat.indices = mat.indices[:-n]\n",
    "    mat.indptr[i:-1] = mat.indptr[i+1:]\n",
    "    mat.indptr[i:] -= n\n",
    "    mat.indptr = mat.indptr[:-1]\n",
    "    mat._shape = (mat._shape[0]-1, mat._shape[1])\n",
    "\n",
    "def trun_zero_sparse(M):\n",
    "    while M[-1,:].nnz==0:\n",
    "        M = M[:-1,:]\n",
    "    return M\n",
    "\n",
    "def normalize_leading_sparse(M):\n",
    "    m = M.shape[0]\n",
    "    for i in range(m):\n",
    "        lead = leading_sparse(M[i])\n",
    "        if lead == -1:\n",
    "            #delete_row_csr(M, i)\n",
    "            continue\n",
    "        indptr = M.indptr\n",
    "        a = indptr[i]\n",
    "        b = indptr[i+1]\n",
    "        M.data[a:b] = M.data[a:b]/M.data[a]\n",
    "    return M"
   ]
  },
  {
   "cell_type": "code",
   "execution_count": 372,
   "metadata": {
    "collapsed": true
   },
   "outputs": [],
   "source": [
    "def run_sparse(M, mdeg, nvar,tol = 10**-14,details = False,cal = False):\n",
    "    #M = GEPP_sparse(M)\n",
    "    \n",
    "    max_row = M.shape[0]-1\n",
    "    current_row = 0\n",
    "    flag = -1\n",
    "    M=normalize_leading_sparse(M)\n",
    "    while current_row != max_row:\n",
    "        #print(current_row,max_row)\n",
    "        current_row +=1\n",
    "        #M = GEPP(M)\n",
    "        #print(M)\n",
    "        for i in range(current_row):\n",
    "            M=normalize_leading_sparse(M)\n",
    "            flag,M = Buchberger_sparse(M, mdeg, nvar, [current_row,i])\n",
    "            if flag == 1:\n",
    "                M=reduced_form(M,mdeg,nvar,tol)\n",
    "                if details:\n",
    "                    print_all(matrix_to_array_sparse(M,mdeg,nvar),GQ_sym(nvar/2),nvar,cal)\n",
    "                    print(\"\")\n",
    "        #time.sleep(1)\n",
    "        #M = GEPP(M)\n",
    "        #M = trun_zero(M)\n",
    "        M=normalize_leading_sparse(M)\n",
    "        #print(M)\n",
    "        max_row = M.shape[0]-1\n",
    "    return M\n"
   ]
  },
  {
   "cell_type": "code",
   "execution_count": 373,
   "metadata": {
    "collapsed": false
   },
   "outputs": [],
   "source": [
    "def matrix_to_array_sparse(M,mdeg,nvar):\n",
    "    array = []\n",
    "    m = M.shape[0]\n",
    "    for i in range(m):\n",
    "        array.append([])\n",
    "        index = 0\n",
    "        nnz = M[i].nnz\n",
    "        for j in range(nnz):\n",
    "            index = leading_sparse(M[i],j)\n",
    "            L_T = leading_term_sparse(index,mdeg,nvar)\n",
    "            add = [M[i,index]]\n",
    "            add.extend(L_T)\n",
    "            array[i].append(add)\n",
    "\n",
    "    return array\n",
    "\n",
    "def print_array_sparse(array):\n",
    "    for p in array:\n",
    "        print(p)"
   ]
  },
  {
   "cell_type": "code",
   "execution_count": 374,
   "metadata": {
    "collapsed": false
   },
   "outputs": [
    {
     "name": "stdout",
     "output_type": "stream",
     "text": [
      "[[1, 1, 0, 0, 0, 0, 0], [1, 0, 0, 1, 0, 0, 0], [1, 0, 0, 0, 0, 1, 0], [-2.0, 0.0, 0.0, 0.0, 0.0, 0.0, 0.0]]\n",
      "[[1, 1, 1, 0, 0, 0, 0], [1, 0, 0, 1, 1, 0, 0], [1, 0, 0, 0, 0, 1, 1]]\n",
      "[[1, 1, 2, 0, 0, 0, 0], [1, 0, 0, 1, 2, 0, 0], [1, 0, 0, 0, 0, 1, 2], [-0.6666666666666666, 0.0, 0.0, 0.0, 0.0, 0.0, 0.0]]\n",
      "[[1, 1, 3, 0, 0, 0, 0], [1, 0, 0, 1, 3, 0, 0], [1, 0, 0, 0, 0, 1, 3]]\n",
      "[[1, 1, 4, 0, 0, 0, 0], [1, 0, 0, 1, 4, 0, 0], [1, 0, 0, 0, 0, 1, 4], [-0.4, 0.0, 0.0, 0.0, 0.0, 0.0, 0.0]]\n",
      "[[1, 1, 5, 0, 0, 0, 0], [1, 0, 0, 1, 5, 0, 0], [1, 0, 0, 0, 0, 1, 5]]\n",
      "A0+A1+A2-2.00\n",
      "A0x0+A1x1+A2x2\n",
      "A0x0^2+A1x1^2+A2x2^2-0.67\n",
      "A0x0^3+A1x1^3+A2x2^3\n",
      "A0x0^4+A1x1^4+A2x2^4-0.40\n",
      "A0x0^5+A1x1^5+A2x2^5\n"
     ]
    }
   ],
   "source": [
    "print_array_sparse(GQ(3))\n",
    "print_all(GQ(3),GQ_sym(3),6,False)"
   ]
  },
  {
   "cell_type": "code",
   "execution_count": 383,
   "metadata": {
    "collapsed": false
   },
   "outputs": [
    {
     "name": "stdout",
     "output_type": "stream",
     "text": [
      "A0+A1+A2+A3-2.0,\n",
      "x0*x1*A2+x0*x1*A3-2.0*x0*x1-1.0*x0*A2*x2-1.0*x0*A3*x3-1.0*x1*A2*x2-1.0*x1*A3*x3+A2*x2**2.0+A3*x3**2.0-0.666666666667,\n",
      "x0**2.0*x1*A2+x0**2.0*x1*A3-2.0*x0**2.0*x1-1.0*x0**2.0*A2*x2-1.0*x0**2.0*A3*x3-1.0*x1*A2*x2**2.0-1.0*x1*A3*x3**2.0+0.666666666667*x1+A2*x2**3.0+A3*x3**3.0,\n",
      "x0**3.0*x1*A2+x0**3.0*x1*A3-2.0*x0**3.0*x1-1.0*x0**3.0*A2*x2-1.0*x0**3.0*A3*x3-1.0*x1*A2*x2**3.0-1.0*x1*A3*x3**3.0+A2*x2**4.0+A3*x3**4.0-0.4,\n",
      "x0**4.0*x1*A2+x0**4.0*x1*A3-2.0*x0**4.0*x1-1.0*x0**4.0*A2*x2-1.0*x0**4.0*A3*x3-1.0*x1*A2*x2**4.0-1.0*x1*A3*x3**4.0+0.4*x1+A2*x2**5.0+A3*x3**5.0,\n",
      "x0**5.0*x1*A2+x0**5.0*x1*A3-2.0*x0**5.0*x1-1.0*x0**5.0*A2*x2-1.0*x0**5.0*A3*x3-1.0*x1*A2*x2**5.0-1.0*x1*A3*x3**5.0+A2*x2**6.0+A3*x3**6.0-0.285714285714,\n",
      "x0**6.0*x1*A2+x0**6.0*x1*A3-2.0*x0**6.0*x1-1.0*x0**6.0*A2*x2-1.0*x0**6.0*A3*x3-1.0*x1*A2*x2**6.0-1.0*x1*A3*x3**6.0+0.285714285714*x1+A2*x2**7.0+A3*x3**7.0,\n",
      "x0*A1+x0*A2+x0*A3-2.0*x0-1.0*A1*x1-1.0*A2*x2-1.0*A3*x3,\n",
      "\n",
      "A0+A1+A2+A3-2.0,\n",
      "x0*x1*A2+x0*x1*A3-2.0*x0*x1-1.0*x0*A2*x2-1.0*x0*A3*x3-1.0*x1*A2*x2-1.0*x1*A3*x3+A2*x2**2.0+A3*x3**2.0-0.666666666667,\n",
      "-1.0*x0*x1*x2*A3+2.0*x0*x1*x2+x0*x1*A3*x3+x0*x2*A3*x3-1.0*x0*A3*x3**2.0+0.666666666667*x0+x1*x2*A3*x3-1.0*x1*A3*x3**2.0+0.666666666667*x1-1.0*x2*A3*x3**2.0+0.666666666667*x2+A3*x3**3.0,\n",
      "-1.0*x0**2.0*x1*x2*A3+2.0*x0**2.0*x1*x2+x0**2.0*x1*A3*x3+x0**2.0*x2*A3*x3-1.0*x0**2.0*A3*x3**2.0+0.666666666667*x0**2.0+x1*x2*A3*x3**2.0-0.666666666667*x1*x2-1.0*x1*A3*x3**3.0-1.0*x2*A3*x3**3.0+A3*x3**4.0-0.4,\n",
      "-1.0*x0**3.0*x1*x2*A3+2.0*x0**3.0*x1*x2+x0**3.0*x1*A3*x3+x0**3.0*x2*A3*x3-1.0*x0**3.0*A3*x3**2.0+0.666666666667*x0**3.0+x1*x2*A3*x3**3.0-1.0*x1*A3*x3**4.0+0.4*x1-1.0*x2*A3*x3**4.0+0.4*x2+A3*x3**5.0,\n",
      "-1.0*x0**4.0*x1*x2*A3+2.0*x0**4.0*x1*x2+x0**4.0*x1*A3*x3+x0**4.0*x2*A3*x3-1.0*x0**4.0*A3*x3**2.0+0.666666666667*x0**4.0+x1*x2*A3*x3**4.0-0.4*x1*x2-1.0*x1*A3*x3**5.0-1.0*x2*A3*x3**5.0+A3*x3**6.0-0.285714285714,\n",
      "-1.0*x0**5.0*x1*x2*A3+2.0*x0**5.0*x1*x2+x0**5.0*x1*A3*x3+x0**5.0*x2*A3*x3-1.0*x0**5.0*A3*x3**2.0+0.666666666667*x0**5.0+x1*x2*A3*x3**5.0-1.0*x1*A3*x3**6.0+0.285714285714*x1-1.0*x2*A3*x3**6.0+0.285714285714*x2+A3*x3**7.0,\n",
      "x0*A1+x0*A2+x0*A3-2.0*x0-1.0*A1*x1-1.0*A2*x2-1.0*A3*x3,\n",
      "A1*x1**2.0*x2*A3-2.0*A1*x1**2.0*x2-1.0*A1*x1**2.0*A3*x3-2.0*A1*x1*x2*A3*x3+2.0*A1*x1*A3*x3**2.0-1.33333333333*A1*x1+A1*x2*A3*x3**2.0-0.666666666667*A1*x2-1.0*A1*A3*x3**3.0+x1*A2*x2**2.0*A3-2.0*x1*A2*x2**2.0-2.0*x1*A2*x2*A3*x3+x1*A2*A3*x3**2.0-0.666666666667*x1*A2-2.0*x1*A3*x3**2.0-0.666666666667*x1*A3+1.33333333333*x1-1.0*A2*x2**2.0*A3*x3+2.0*A2*x2*A3*x3**2.0-1.33333333333*A2*x2-1.0*A2*A3*x3**3.0-2.0*x2*A3*x3**2.0-0.666666666667*x2*A3+1.33333333333*x2+2.0*A3*x3**3.0-0.666666666667*A3*x3,\n",
      "\n",
      "A0+A1+A2+A3-2.0,\n",
      "x0*x1*A2+x0*x1*A3-2.0*x0*x1-1.0*x0*A2*x2-1.0*x0*A3*x3-1.0*x1*A2*x2-1.0*x1*A3*x3+A2*x2**2.0+A3*x3**2.0-0.666666666667,\n",
      "x0*x1*x2*A3-2.0*x0*x1*x2-1.0*x0*x1*A3*x3-1.0*x0*x2*A3*x3+x0*A3*x3**2.0-0.666666666667*x0-1.0*x1*x2*A3*x3+x1*A3*x3**2.0-0.666666666667*x1+x2*A3*x3**2.0-0.666666666667*x2-1.0*A3*x3**3.0,\n",
      "2.0*x0*x1*x2*x3+0.666666666667*x0*x1+0.666666666667*x0*x2+0.666666666667*x0*x3+0.666666666667*x1*x2+0.666666666667*x1*x3+0.666666666667*x2*x3+0.4,\n",
      "2.0*x0**2.0*x1*x2*x3+0.666666666667*x0**2.0*x1+0.666666666667*x0**2.0*x2+0.666666666667*x0**2.0*x3-0.666666666667*x1*x2*x3-0.4*x1-0.4*x2-0.4*x3,\n",
      "2.0*x0**3.0*x1*x2*x3+0.666666666667*x0**3.0*x1+0.666666666667*x0**3.0*x2+0.666666666667*x0**3.0*x3+0.4*x1*x2+0.4*x1*x3+0.4*x2*x3+0.285714285714,\n",
      "2.0*x0**4.0*x1*x2*x3+0.666666666667*x0**4.0*x1+0.666666666667*x0**4.0*x2+0.666666666667*x0**4.0*x3-0.4*x1*x2*x3-0.285714285714*x1-0.285714285714*x2-0.285714285714*x3,\n",
      "x0*A1+x0*A2+x0*A3-2.0*x0-1.0*A1*x1-1.0*A2*x2-1.0*A3*x3,\n",
      "A1*x1**2.0*x2*A3-2.0*A1*x1**2.0*x2-1.0*A1*x1**2.0*A3*x3-2.0*A1*x1*x2*A3*x3+2.0*A1*x1*A3*x3**2.0-1.33333333333*A1*x1+A1*x2*A3*x3**2.0-0.666666666667*A1*x2-1.0*A1*A3*x3**3.0+x1*A2*x2**2.0*A3-2.0*x1*A2*x2**2.0-2.0*x1*A2*x2*A3*x3+x1*A2*A3*x3**2.0-0.666666666667*x1*A2-2.0*x1*A3*x3**2.0-0.666666666667*x1*A3+1.33333333333*x1-1.0*A2*x2**2.0*A3*x3+2.0*A2*x2*A3*x3**2.0-1.33333333333*A2*x2-1.0*A2*A3*x3**3.0-2.0*x2*A3*x3**2.0-0.666666666667*x2*A3+1.33333333333*x2+2.0*A3*x3**3.0-0.666666666667*A3*x3,\n",
      "x0*A2*x2**2.0*A3-2.0*x0*A2*x2**2.0-2.0*x0*A2*x2*A3*x3+x0*A2*A3*x3**2.0-0.666666666667*x0*A2-2.0*x0*A3*x3**2.0-0.666666666667*x0*A3+1.33333333333*x0+x1*A2*x2**2.0*A3-2.0*x1*A2*x2**2.0-2.0*x1*A2*x2*A3*x3+x1*A2*A3*x3**2.0-0.666666666667*x1*A2-2.0*x1*A3*x3**2.0-0.666666666667*x1*A3+1.33333333333*x1-1.0*A2*x2**3.0*A3+2.0*A2*x2**3.0+A2*x2**2.0*A3*x3+A2*x2*A3*x3**2.0-0.666666666667*A2*x2-1.0*A2*A3*x3**3.0+2.0*A3*x3**3.0-0.666666666667*A3*x3,\n",
      "\n",
      "A0+A1+A2+A3-2.0,\n",
      "x0*x1*A2-1.0*x1**2.0*A3-1.0*x1*x2*A3-1.0*x1*A3*x3+2.0*A2*x2**2.0+A2*x2*x3-2.0*x2**2.0+x2*A3*x3-2.0*x2*x3+2.0*A3*x3**2.0-2.0*x3**2.0+1.04761904762,\n",
      "2.0*x1**2.0*A3*x3+2.0*x1*x2*A3*x3+2.0*x1*A3*x3**2.0+2.0*x2**2.0*A3*x3+2.0*x2*A3*x3**2.0-2.0*A3*x3**3.0+2.0*x3**3.0-1.04761904762*x3,\n",
      "-0.444444444444*x3**4.0+0.380952380952*x3**2.0-0.0380952380952,\n",
      "0.0571428571429*A2*x2**3.0*A3-0.114285714286*A2*x2**3.0-0.0571428571429*A2*x2**2.0*A3*x3-0.0571428571429*A2*x2**2.0*x3-0.0571428571429*A2*x2*A3*x3**2.0+0.0571428571429*A2*A3*x3**3.0-0.0190476190476*A2*x3-0.0571428571429*x2*A3*x3**2.0-0.0190476190476*x2*A3+0.0380952380952*x2-0.114285714286*A3*x3**3.0+0.0380952380952*x3,\n",
      "-0.2*x1**2.0-0.2*x1*x2-0.2*x1*x3-0.2*x2**2.0-0.2*x2*x3-0.333333333333*x3**4.0+0.0857142857143*x3**2.0+0.142857142857,\n",
      "0.2*x1**2.0*x2+0.2*x1*x2**2.0+0.2*x1*x2*x3-0.214285714286*A2*x2**3.0*A3+0.428571428571*A2*x2**3.0+0.214285714286*A2*x2**2.0*A3*x3+0.214285714286*A2*x2**2.0*x3+0.214285714286*A2*x2*A3*x3**2.0-0.214285714286*A2*A3*x3**3.0+0.0714285714286*A2*x3+0.214285714286*x2*A3*x3**2.0+0.0714285714286*x2*A3-0.142857142857*x2+0.428571428571*A3*x3**3.0-0.2*x3**3.0+0.0285714285714*x3,\n",
      "x0*A1-1.0*A1*x1-1.0*x1*A2-1.0*x1*A3+2.0*x1-3.0*A2*x2**3.0*A3+6.0*A2*x2**3.0+3.0*A2*x2**2.0*A3*x3+3.0*A2*x2**2.0*x3+3.0*A2*x2*A3*x3**2.0-2.0*A2*x2-3.0*A2*A3*x3**3.0+3.0*x2*A3*x3**2.0+6.0*A3*x3**3.0-2.0*A3*x3,\n",
      "-0.4*A1*x1**2.0*A3*x3+2.0*A1*x1**2.0*x3-1.0*A1*x1*x2**2.0*A3+2.0*A1*x1*x2**2.0-2.4*A1*x1*x2*A3*x3+4.0*A1*x1*x2*x3+2.6*A1*x1*A3*x3**2.0+2.0*A1*x1*x3**2.0-1.33333333333*A1*x1+0.6*A1*x2**2.0*A3*x3+2.0*A1*x2**2.0*x3+1.6*A1*x2*A3*x3**2.0+2.0*A1*x2*x3**2.0-0.666666666667*A1*x2-2.6*A1*A3*x3**3.0+1.6*A1*x3**3.0-0.838095238095*A1*x3+x1*A2*x2**2.0*A3-2.0*x1*A2*x2**2.0-2.0*x1*A2*x2*A3*x3+x1*A2*A3*x3**2.0-0.666666666667*x1*A2-2.0*x1*A3*x3**2.0-0.666666666667*x1*A3+1.33333333333*x1-1.0*A2*x2**2.0*A3*x3+2.0*A2*x2*A3*x3**2.0-1.33333333333*A2*x2-1.0*A2*A3*x3**3.0-2.0*x2*A3*x3**2.0-0.666666666667*x2*A3+1.33333333333*x2+2.0*A3*x3**3.0-0.666666666667*A3*x3,\n",
      "1.33333333333*x0+1.33333333333*x1-2.0*A2*x2**3.0*A3+4.0*A2*x2**3.0+2.0*A2*x2**2.0*A3*x3+2.0*A2*x2**2.0*x3+2.0*A2*x2*A3*x3**2.0-2.0*A2*A3*x3**3.0+0.666666666667*A2*x3+2.0*x2*A3*x3**2.0+0.666666666667*x2*A3+4.0*A3*x3**3.0,\n",
      "-2.0*A2*x2**3.0*x3-1.0*A2*x2**2.0*x3**2.0-1.0*A2*x2**2.0-0.666666666667*A2*x2*x3-0.333333333333*A2*x3**2.0+0.2*A2-1.0*x2**2.0*A3*x3**2.0-0.333333333333*x2**2.0*A3+0.666666666667*x2**2.0-2.0*x2*A3*x3**3.0-0.666666666667*x2*A3*x3+1.33333333333*x2*x3-1.0*A3*x3**2.0+0.2*A3+0.666666666667*x3**2.0-0.177777777778,\n",
      "\n",
      "A0+A1+A2+A3-2.0,\n",
      "1.33333333333*A2*x2*x3**3.0-1.71428571429*A2*x2*x3-0.228571428571*A2-1.33333333333*x2**2.0*A3*x3**2.0+0.666666666667*x2**2.0*x3**2.0-2.66666666667*x2*A3*x3**3.0+0.666666666667*x2*x3**3.0+0.666666666667*x2*x3-0.114285714286*A3+0.171428571429,\n",
      "-2.0*A3*x3**3.0+0.857142857143*A3*x3+1.0*x3**3.0-0.52380952381*x3,\n",
      "x3**4.0-0.857142857143*x3**2.0+0.0857142857143,\n",
      "-0.933333333333*x2**3.0-0.933333333333*x2**2.0*x3-0.933333333333*x2*x3**2.0+0.8*x2-0.933333333333*x3**3.0+0.8*x3,\n",
      "x1**2.0+x1*x2+x1*x3+x2**2.0+x2*x3+1.66666666667*x3**4.0-0.428571428571*x3**2.0-0.714285714286,\n",
      "0.238095238095*A2*x2*A3*x3**2.0-0.30612244898*A2*x2*A3-0.986394557823*A2*x2*x3**2.0+0.510204081633*A2*x2-0.47619047619*A2*A3*x3**3.0-0.47619047619*A2*x3**3.0+0.362811791383*A2*x3+0.428571428571*x2**3.0-0.238095238095*x2**2.0*A3**2.0*x3-1.19047619048*x2**2.0*A3*x3**3.0+0.595238095238*x2**2.0*A3*x3+0.595238095238*x2**2.0*x3**3.0+0.190476190476*x2**2.0*x3-0.47619047619*x2*A3**2.0*x3**2.0-0.969387755102*x2*A3*x3**2.0+0.323129251701*x2*A3+1.29591836735*x2*x3**2.0-0.656462585034*x2-0.952380952381*A3**2.0*x3**3.0+0.30612244898*A3**2.0*x3+4.4387755102*A3*x3**3.0-1.72335600907*A3*x3-1.20502645503*x3**3.0+0.412131519274*x3,\n",
      "-0.75*A1*x2**3.0*A3+1.5*A1*x2**3.0-3.75*A1*x2**2.0*A3*x3+3.0*A1*x2**2.0*x3-2.25*A1*x2*A3*x3**2.0+1.5*A1*x2*x3**2.0+6.75*A1*A3*x3**3.0-2.0*A1*x3+3.0*x1*A2*x2*A3*x3-1.5*x1*A2*x2*x3+1.5*x1*A2*A3*x3**2.0-0.642857142857*x1*A2*A3-1.5*x1*A2*x3**2.0+1.28571428571*x1*A2+4.5*x1*A3**2.0*x3**2.0-0.642857142857*x1*A3**2.0-7.5*x1*A3*x3**2.0+2.07142857143*x1*A3+3.0*x1*x3**2.0-1.57142857143*x1-2.92857142857*A2*x2*A3**2.0*x3**2.0+0.151700680272*A2*x2*A3**2.0+4.14285714286*A2*x2*A3*x3**2.0-0.83537414966*A2*x2*A3-4.22789115646*A2*x2*x3**2.0+1.63265306122*A2*x2-5.1880952381*A2*A3**2.0*x3**3.0+2.42619047619*A2*A3**2.0*x3+5.5205026455*A2*A3*x3**3.0-1.01071428571*A2*A3*x3-1.45661375661*A2*x3**3.0-0.274905517763*A2*x3+2.57142857143*x2**3.0-3.27777777778*x2**2.0*A3**3.0*x3**3.0+0.52380952381*x2**2.0*A3**3.0*x3+7.75*x2**2.0*A3**2.0*x3**3.0-3.49206349206*x2**2.0*A3**2.0*x3-3.36507936508*x2**2.0*A3*x3**3.0+3.54761904762*x2**2.0*A3*x3+0.154761904762*x2**2.0*x3**3.0+1.88095238095*x2**2.0*x3-4.14285714286*x2*A3**3.0*x3**2.0+0.47619047619*x2*A3**3.0+9.86904761905*x2*A3**2.0*x3**2.0-1.60714285714*x2*A3**2.0-12.3282312925*x2*A3*x3**2.0+3.48401360544*x2*A3+8.11281179138*x2*x3**2.0-4.75068027211*x2-4.62142857143*A3**3.0*x3**3.0+2.55544217687*A3**3.0*x3+18.0683862434*A3**2.0*x3**3.0-9.06558956916*A3**2.0*x3-5.52518896447*A3*x3**3.0+0.722921390779*A3*x3+0.0428791887125*x3**3.0+0.662103174603*x3,\n",
      "3.33333333333*A1*x1-1.25*A1*x2**3.0*A3+2.5*A1*x2**3.0-6.25*A1*x2**2.0*A3*x3+5.0*A1*x2**2.0*x3-3.75*A1*x2*A3*x3**2.0+2.5*A1*x2*x3**2.0+1.66666666667*A1*x2+11.25*A1*A3*x3**3.0-1.66666666667*A1*x3+5.0*x1*A2*x2*A3*x3-2.5*x1*A2*x2*x3+2.5*x1*A2*A3*x3**2.0-1.07142857143*x1*A2*A3-2.5*x1*A2*x3**2.0+3.80952380952*x1*A2+7.5*x1*A3**2.0*x3**2.0-1.07142857143*x1*A3**2.0-12.5*x1*A3*x3**2.0+5.11904761905*x1*A3+5.0*x1*x3**2.0-5.95238095238*x1-4.88095238095*A2*x2*A3**2.0*x3**2.0+0.25283446712*A2*x2*A3**2.0+5.79365079365*A2*x2*A3*x3**2.0+0.0362811791383*A2*x2*A3-2.4433106576*A2*x2*x3**2.0+3.67346938776*A2*x2-8.64682539683*A2*A3**2.0*x3**3.0+4.04365079365*A2*A3**2.0*x3+11.4230599647*A2*A3*x3**3.0-1.68452380952*A2*A3*x3-0.205467372134*A2*x3**3.0-0.484630889393*A2*x3-2.38095238095*x2**3.0-5.46296296296*x2**2.0*A3**3.0*x3**3.0+0.873015873016*x2**2.0*A3**3.0*x3+12.9166666667*x2**2.0*A3**2.0*x3**3.0-4.70899470899*x2**2.0*A3**2.0*x3-0.0529100529101*x2**2.0*A3*x3**3.0+3.13492063492*x2**2.0*A3*x3-2.51984126984*x2**2.0*x3**3.0-2.42063492063*x2**2.0*x3-6.90476190476*x2*A3**3.0*x3**2.0+0.793650793651*x2*A3**3.0+18.6706349206*x2*A3**2.0*x3**2.0-2.67857142857*x2*A3**2.0-16.0232426304*x2*A3*x3**2.0+5.96541950113*x2*A3+2.80706727135*x2*x3**2.0-4.18764172336*x2-7.70238095238*A3**3.0*x3**3.0+4.25907029478*A3**3.0*x3+34.5584215168*A3**2.0*x3**3.0-16.5378873772*A3**2.0*x3-29.9229339884*A3*x3**3.0+12.5805303603*A3*x3+1.02825543798*x3**3.0-0.153108465608*x3,\n",
      "x0+x1+0.333333333333*A2*x2*A3*x3**2.0-0.428571428571*A2*x2*A3-1.38095238095*A2*x2*x3**2.0+0.714285714286*A2*x2-0.666666666667*A2*A3*x3**3.0-0.666666666667*A2*x3**3.0+0.507936507937*A2*x3+2.0*x2**3.0-0.333333333333*x2**2.0*A3**2.0*x3-1.66666666667*x2**2.0*A3*x3**3.0+0.833333333333*x2**2.0*A3*x3+0.833333333333*x2**2.0*x3**3.0+1.66666666667*x2**2.0*x3-0.666666666667*x2*A3**2.0*x3**2.0-1.35714285714*x2*A3*x3**2.0+0.452380952381*x2*A3+3.21428571429*x2*x3**2.0-1.11904761905*x2-1.33333333333*A3**2.0*x3**3.0+0.428571428571*A3**2.0*x3+6.21428571429*A3*x3**3.0-2.4126984127*A3*x3-0.287037037037*x3**3.0+0.376984126984*x3,\n",
      "0.5*A2*x2**2.0-0.460317460317*A2*x2*x3**3.0+0.571428571429*A2*x2*x3+0.0714285714286*A2*x3**2.0-0.104761904762*A2-0.253968253968*x2**2.0*A3*x3**2.0+0.214285714286*x2**2.0*A3+0.126984126984*x2**2.0*x3**2.0-0.357142857143*x2**2.0+0.825396825397*x2*A3*x3**3.0-0.142857142857*x2*A3*x3-0.261904761905*x2*x3**3.0-0.119047619048*x2*x3+0.30612244898*A3*x3**2.0-0.1*A3-0.541005291005*x3**4.0+0.25604686319*x3**2.0+0.0888888888889,\n",
      "x1*A3*x3**3.0+0.6*x1*A3*x3-5.40431955284e+15*A2*x2**2.0+4.50359962737e+15*A2*x2*x3**3.0-2.70215977642e+15*A2*x2*x3+8.0*A2*x3**2.0+1.54409130081e+15*A2-1.60714285714*x2**2.0*A3**2.0*x3**2.0+0.160714285714*x2**2.0*A3**2.0+9.00719925474e+15*x2**2.0*A3*x3**2.0-2.70215977642e+15*x2**2.0*A3-4.50359962737e+15*x2**2.0*x3**2.0+4.05323966463e+15*x2**2.0-3.03903061224*x2*A3**3.0*x3**3.0+2.96173469388*x2*A3**3.0*x3+14.4489795918*x2*A3**2.0*x3**3.0-12.5724489796*x2*A3**2.0*x3+1.80143985095e+16*x2*A3*x3**3.0-5.40431955284e+15*x2*A3*x3-9.75779919264e+15*x2*x3**3.0+4.05323966463e+15*x2*x3+1.0082361516*A3**3.0*x3**2.0+0.110400874636*A3**3.0+1.77419825073*A3**2.0*x3**2.0-0.534358600583*A3**2.0-3.86022825203e+15*A3*x3**2.0+1.93011412602e+15*A3-7.50599937895e+15*x3**4.0+8.68551356707e+15*x3**2.0-2.83083405149e+15,\n",
      "\n",
      "A0+A1+A2-0.486111111111*x3**2.0-1.29166666667,\n",
      "A2*x2*x3**3.0-1.28571428571*A2*x2*x3-0.171428571429*A2-0.2*x2**2.0*A3+0.111111111111*x2**2.0*x3**2.0+0.1*x2**2.0-0.857142857143*x2*A3*x3-0.5*x2*x3**3.0+1.02380952381*x2*x3+0.0416666666667*x3**2.0+0.0678571428571,\n",
      "x3**4.0-0.857142857143*x3**2.0+0.0857142857143,\n",
      "x2**3.0+1.0*x2**2.0*x3+1.0*x2*x3**2.0-0.857142857143*x2+1.0*x3**3.0-0.857142857143*x3,\n",
      "x1**2.0+x1*x2+x1*x3+x2**2.0+x2*x3+1.66666666667*x3**4.0-0.428571428571*x3**2.0-0.714285714286,\n",
      "-1.08571428571*A2*x2*A3-3.25396825397*A2*x2*x3**2.0+2.14285714286*A2*x2-0.857142857143*A2*A3*x3-3.0*A2*x3**3.0+2.24761904762*A2*x3+1.8*x2**3.0-1.0*x2**2.0*A3**2.0*x3+0.857142857143*x2**2.0*A3*x3+1.80396825397*x2**2.0*x3-0.4*x2*A3**2.0+0.787301587302*x2*A3+3.25149911817*x2*x3**2.0-2.42222222222*x2-0.428571428571*A3**2.0*x3+2.7537037037*x3**3.0-2.03968253968*x3,\n",
      "4.0*A1*x2**2.0*A3*x3-2.0*A1*x2**2.0*x3+1.25714285714*A1*x2*A3+0.777777777778*A1*x2*x3**2.0-1.91428571429*A1*x2-3.42857142857*A1*A3*x3-3.0*A1*x3**3.0+3.57142857143*A1*x3-4.0*x1*A2*x2*A3*x3+2.0*x1*A2*x2*x3+0.457142857143*x1*A2*A3+1.22222222222*x1*A2*x3**2.0-1.51428571429*x1*A2-0.342857142857*x1*A3**2.0-2.7619047619*x1*A3-6.8950617284*x1*x3**2.0+2.83968253968*x1+4.81814058957*A2*x2*A3**2.0-7.25351473923*A2*x2*A3-2.97380546823e+16*A2*x2*x3**2.0-2.1768707483*A2*x2+3.07664399093*A2*A3**2.0*x3-8.71583266556*A2*A3*x3-8.00639933755e+15*A2*x3**3.0-3.43131400181e+15*A2*x3-3.42857142857*x2**3.0+5.07936507937*x2**2.0*A3**3.0*x3-0.104122740714*x2**2.0*A3**2.0*x3-2.17316553448e+16*x2**2.0*A3*x3+44.0*x2**2.0*x3**3.0+1.37252560072e+16*x2**2.0*x3-1.40975056689*x2*A3**3.0+8.72791502566*x2*A3**2.0-8.69266213791e+15*x2*A3+1.68388557496e+16*x2*x3**2.0+4.91821673592e+15*x2-4.71891804341*A3**3.0*x3-5.85788393887*A3**2.0*x3+5.67119953076e+15*x3**3.0+1.19142847285e+15*x3,\n",
      "A1*x1-1.5*A1*x2**2.0*A3*x3+0.75*A1*x2**2.0*x3-0.471428571429*A1*x2*A3-0.291666666667*A1*x2*x3**2.0+1.21785714286*A1*x2+1.28571428571*A1*A3*x3+1.125*A1*x3**3.0-0.839285714286*A1*x3+1.5*x1*A2*x2*A3*x3-0.75*x1*A2*x2*x3-0.171428571429*x1*A2*A3-0.458333333333*x1*A2*x3**2.0+1.06785714286*x1*A2+0.128571428571*x1*A3**2.0+1.53571428571*x1*A3+2.58564814815*x1*x3**2.0-2.06488095238*x1-1.80680272109*A2*x2*A3**2.0+3.14863945578*A2*x2*A3+1.11517705059e+16*A2*x2*x3**2.0+1.10204081633*A2*x2-1.1537414966*A2*A3**2.0*x3+3.66693349019*A2*A3*x3+3.00239975158e+15*A2*x3**3.0+1.28674275068e+15*A2*x3-0.714285714286*x2**3.0-1.90476190476*x2**2.0*A3**3.0*x3+0.50395830847*x2**2.0*A3**2.0*x3+8.14937075429e+15*x2**2.0*A3*x3-12.0*x2**2.0*x3**3.0-5.14697100271e+15*x2**2.0*x3+0.528656462585*x2*A3**3.0-3.08700322234*x2*A3**2.0+3.25974830172e+15*x2*A3-6.3145709061e+15*x2*x3**2.0-1.84433127597e+15*x2+1.76959426628*A3**3.0*x3+2.39595459738*A3**2.0*x3-2.12669982404e+15*x3**3.0-4.46785677319e+14*x3,\n",
      "x0+x1-0.428571428571*A2*x2*A3-2.00751879699*A2*x2*x3**2.0+0.714285714286*A2*x2-0.398496240602*A2*A3*x3-1.23099415205*A2*x3**3.0+0.659147869674*A2*x3+2.0*x2**3.0-0.464912280702*x2**2.0*A3**2.0*x3-0.181704260652*x2**2.0*A3*x3+0.0560428849903*x2**2.0*x3**3.0+2.33610646988*x2**2.0*x3-0.185964912281*x2*A3**2.0+0.0387078808131*x2*A3+3.0031869798*x2*x3**2.0-0.846922862712*x2-0.199248120301*A3**2.0*x3+2.43823099415*x3**3.0-0.78914299638*x3,\n",
      "A2*x2**2.0-0.920634920635*A2*x2*x3**3.0+1.14285714286*A2*x2*x3+0.142857142857*A2*x3**2.0-0.209523809524*A2+0.326984126984*x2**2.0*A3+0.0564373897707*x2**2.0*x3**2.0-0.663492063492*x2**2.0+0.421768707483*x2*A3*x3+0.301587301587*x2*x3**3.0-0.67044595616*x2*x3+0.273148148148*x3**4.0-0.373677248677*x3**2.0+0.177777777778,\n",
      "1.02857142857*x1*A3*x3+0.5*x1*x3**3.0-0.261904761905*x1*x3-5.40431955284e+15*A2*x2**2.0+4.50359962737e+15*A2*x2*x3**3.0-2.70215977642e+15*A2*x2*x3+8.0*A2*x3**2.0+1.54409130081e+15*A2-0.160714285714*x2**2.0*A3**2.0-9.00719925474e+14*x2**2.0*A3-1.00079991719e+15*x2**2.0*x3**2.0+3.15251973916e+15*x2**2.0+1.65929300292*x2*A3**3.0*x3-6.23531341108*x2*A3**2.0*x3+2.31613695122e+15*x2*A3*x3-7.50599937895e+14*x2*x3**3.0-6.6481708785e+14*x2*x3+0.312048104956*A3**3.0-0.201924198251*A3**2.0-2.15797482145e+16*x3**4.0+1.86845770255e+16*x3**2.0-2.83083405149e+15,\n",
      "-0.2*A3-1.65277777778*x3**4.0+1.31944444444*x3**2.0,\n",
      "\n",
      "A0+A1+A2-0.486111111111*x3**2.0-1.29166666667,\n",
      "x3**4.0-0.857142857143*x3**2.0+0.0857142857143,\n",
      "x2**3.0+1.0*x2**2.0*x3+1.0*x2*x3**2.0-0.857142857143*x2+1.0*x3**3.0-0.857142857143*x3,\n",
      "x1**2.0+x1*x2-26.3214285714*A2-38.0*x2**2.0*x3**2.0-6.375*x2**2.0-192.0*x2*x3**3.0+11.0*x2*x3+4.67516532746e+16*x3**4.0-4.00728456639e+16*x3**2.0+4.00728456639e+15,\n",
      "-1.97368421053*A2*x2-3.94736842105*A2*x3+1.00718810916*x2**3.0+0.0477582846004*x2**2.0*x3+1.96661793372*x2*x3**2.0-0.28764619883*x2+1.96661793372*x3**3.0+1.11038011696*x3,\n",
      "-0.486111111111*A1*x2**2.0*x3**3.0+0.208333333333*A1*x2**2.0*x3+0.0416666666667*A1*x2*x3**2.0-0.255952380952*A1*x2-0.333333333333*A1*x3**3.0+0.285714285714*A1*x3-0.396241830065*x1*A2*x3**2.0-0.33773772667*x1*A2+0.265263418016*x1*x2**2.0*x3**2.0-0.0571686398731*x1*x2**2.0-0.804661321969*x1*x2*x3**3.0+0.339891311734*x1*x2*x3+0.209199213311*x1+1.62668717191e+14*A2**2.0*x3**3.0+6.97151645104e+13*A2**2.0*x3-8.67828146811e+15*A2*x2-2.40051934239e+16*A2*x3+2.09762351827e+16*x2**3.0+7.90750708565e+13*x2**2.0*x3**3.0+1.3559542298e+16*x2**2.0*x3+2.51948442297e+16*x2*x3**2.0-1.54484647284e+16*x2+2.51165222547e+16*x3**3.0-4.6254686537e+15*x3,\n",
      "A1*x1+0.729166666667*A1*x2**2.0*x3**3.0-0.3125*A1*x2**2.0*x3-0.0625*A1*x2*x3**2.0+0.883928571429*A1*x2+0.5*A1*x3**3.0+0.0714285714286*A1*x3+0.594362745098*x1*A2*x3**2.0+1.00660659*x1*A2-0.397895127024*x1*x2**2.0*x3**2.0+0.0857529598097*x1*x2**2.0+1.20699198295*x1*x2*x3**3.0-0.509836967601*x1*x2*x3-0.9596321533*x1-2.44003075786e+14*A2**2.0*x3**3.0-1.04572746766e+14*A2**2.0*x3+1.30174222022e+16*A2*x2+3.60077901359e+16*A2*x3-3.1464352774e+16*x2**3.0-1.18612606285e+14*x2**2.0*x3**3.0-2.0339313447e+16*x2**2.0*x3-3.77922663445e+16*x2*x3**2.0+2.31726970926e+16*x2-3.76747833821e+16*x3**3.0+6.93820298055e+15*x3,\n",
      "x0+x1+0.714285714286*A2*x2+1.42857142857*A2*x3+1.03549382716*x2**3.0+1.38271604938*x2**2.0*x3+0.688271604938*x2*x3**2.0-0.0958994708995*x2+0.688271604938*x3**3.0-0.601851851852*x3,\n",
      "A2*x2**2.0-0.428571428571*A2-0.5*x2**2.0-3.29232804233*x3**4.0+2.82199546485*x3**2.0-0.0202947845805,\n",
      "0.453703703704*x1*x3-5.25419956527e+15*A2*x2**2.0+2.25179981369e+15*A2-8.0*x2**2.0*x3**2.0+2.62709978263e+15*x2**2.0-10.0*x2*x3-3.91284967625e+15*x3**4.0+3.35387115107e+15*x3**2.0-1.71148700125e+15,\n",
      "A3+8.26388888889*x3**4.0-6.59722222222*x3**2.0,\n",
      "0.0739064856712*A2*x3**2.0+0.0316742081448*A2+0.0359267638679*x2**2.0*x3**2.0+0.0153971845148*x2**2.0+1.3718647003*x3**4.0-1.22823445618*x3**2.0+0.0951525054466,\n",
      "\n",
      "A0+A1-0.486111111111*x2**2.0,\n",
      "x2**3.0+1.0*x2**2.0*x3+1.0*x2*x3**2.0-0.857142857143*x2,\n",
      "x1**2.0+x1*x2-38.0*x2**2.0*x3**2.0+6.42013888889*x2**2.0+11.0*x2*x3,\n",
      "A2*x2-0.510308641975*x2**3.0-0.996419753086*x2**2.0*x3-0.996419753086*x2*x3**2.0+0.145740740741*x2,\n",
      "-0.428571428571*A1*x2**2.0*x3-0.0857142857143*A1*x2*x3**2.0+0.526530612245*A1*x2-0.587755102041*A1*x3+0.694774752006*x1*A2+0.117604059168*x1*x2**2.0-0.430352667383*x1-2.02279667709e+16*A2**2.0*x3+1.27669872493e+16*A2*x2-3.98944293282e+16*x2**3.0-5.5933643088e+16*x2**2.0*x3-4.61006036855e+16*x2*x3**2.0+3.0471520524e+16*x2,\n",
      "A1*x1-0.3125*A1*x2**2.0*x3+0.708333333333*A1*x2*x3**2.0+0.896428571429*A1*x2-0.0285714285714*A1*x3+0.887734040985*x1*A2+0.165331985214*x1*x2**2.0-0.9596321533*x1-7.32204145268e+16*A2**2.0*x3+6.95682474696e+15*A2*x2-2.8267872854e+16*x2**3.0-6.72429197232e+16*x2**2.0*x3-3.16496626616e+16*x2*x3**2.0+2.22005314189e+16*x2,\n",
      "x0+x1+0.714285714286*A2*x2+1.03549382716*x2**3.0+0.688271604938*x2**2.0*x3+0.688271604938*x2*x3**2.0-0.0958994708995*x2,\n",
      "1.26717687075,\n",
      "x1*x3+2512.0*x2**2.0*x3**2.0-229.8*x2**2.0-833.142857143*x2*x3-1.86820604367e+16,\n",
      "A3,\n",
      "0.428571428571*A2+0.208333333333*x2**2.0+1.28747165533,\n",
      "\n",
      "[[1.0, 1.0, 0.0, 0.0, 0.0, 0.0, 0.0, 0.0, 0.0], [1.0, 0.0, 0.0, 1.0, 0.0, 0.0, 0.0, 0.0, 0.0], [-0.48611111111110072, 0.0, 0.0, 0.0, 0.0, 0.0, 2.0, 0.0, 0.0]]\n",
      "[]\n",
      "[]\n",
      "[]\n",
      "[]\n",
      "[[1.0, 0.0, 0.0, 0.0, 0.0, 0.0, 3.0, 0.0, 0.0], [1.0000000000000002, 0.0, 0.0, 0.0, 0.0, 0.0, 2.0, 0.0, 1.0], [0.99999999999999978, 0.0, 0.0, 0.0, 0.0, 0.0, 1.0, 0.0, 2.0], [-0.85714285714285643, 0.0, 0.0, 0.0, 0.0, 0.0, 1.0, 0.0, 0.0]]\n",
      "[[1.0, 0.0, 0.0, 0.0, 2.0, 0.0, 0.0, 0.0, 0.0], [1.0, 0.0, 0.0, 0.0, 1.0, 0.0, 1.0, 0.0, 0.0], [-37.999999999997684, 0.0, 0.0, 0.0, 0.0, 0.0, 2.0, 0.0, 2.0], [6.4201388888886646, 0.0, 0.0, 0.0, 0.0, 0.0, 2.0, 0.0, 0.0], [10.999999999999591, 0.0, 0.0, 0.0, 0.0, 0.0, 1.0, 0.0, 1.0]]\n",
      "[[1.0, 0.0, 0.0, 0.0, 0.0, 1.0, 1.0, 0.0, 0.0], [-0.51030864197531356, 0.0, 0.0, 0.0, 0.0, 0.0, 3.0, 0.0, 0.0], [-0.99641975308641784, 0.0, 0.0, 0.0, 0.0, 0.0, 2.0, 0.0, 1.0], [-0.99641975308648312, 0.0, 0.0, 0.0, 0.0, 0.0, 1.0, 0.0, 2.0], [0.14574074074075427, 0.0, 0.0, 0.0, 0.0, 0.0, 1.0, 0.0, 0.0]]\n",
      "[[1.0, 0.0, 0.0, 1.0, 0.0, 0.0, 2.0, 0.0, 1.0], [0.20000000000000195, 0.0, 0.0, 1.0, 0.0, 0.0, 1.0, 0.0, 2.0], [-1.2285714285714318, 0.0, 0.0, 1.0, 0.0, 0.0, 1.0, 0.0, 0.0], [1.3714285714285763, 0.0, 0.0, 1.0, 0.0, 0.0, 0.0, 0.0, 1.0], [-1.6211410880141597, 0.0, 0.0, 0.0, 1.0, 1.0, 0.0, 0.0, 0.0], [-0.27440947139089805, 0.0, 0.0, 0.0, 1.0, 0.0, 2.0, 0.0, 0.0], [1.0041562238930735, 0.0, 0.0, 0.0, 1.0, 0.0, 0.0, 0.0, 0.0], [47198589131985112.0, 0.0, 0.0, 0.0, 0.0, 2.0, 0.0, 0.0, 1.0], [-29789636915067804.0, 0.0, 0.0, 0.0, 0.0, 1.0, 1.0, 0.0, 0.0], [93087001765696560.0, 0.0, 0.0, 0.0, 0.0, 0.0, 3.0, 0.0, 0.0], [1.3051183387190651e+17, 0.0, 0.0, 0.0, 0.0, 0.0, 2.0, 0.0, 1.0], [1.0756807526607494e+17, 0.0, 0.0, 0.0, 0.0, 0.0, 1.0, 0.0, 2.0], [-71100214556083280.0, 0.0, 0.0, 0.0, 0.0, 0.0, 1.0, 0.0, 0.0]]\n",
      "[[1.0, 0.0, 0.0, 1.0, 1.0, 0.0, 0.0, 0.0, 0.0], [-0.31249999999999911, 0.0, 0.0, 1.0, 0.0, 0.0, 2.0, 0.0, 1.0], [0.70833333333333548, 0.0, 0.0, 1.0, 0.0, 0.0, 1.0, 0.0, 2.0], [0.89642857142857146, 0.0, 0.0, 1.0, 0.0, 0.0, 1.0, 0.0, 0.0], [-0.028571428571429025, 0.0, 0.0, 1.0, 0.0, 0.0, 0.0, 0.0, 1.0], [0.88773404098481834, 0.0, 0.0, 0.0, 1.0, 1.0, 0.0, 0.0, 0.0], [0.16533198521449127, 0.0, 0.0, 0.0, 1.0, 0.0, 2.0, 0.0, 0.0], [-0.95963215329991813, 0.0, 0.0, 0.0, 1.0, 0.0, 0.0, 0.0, 0.0], [-73220414526791760.0, 0.0, 0.0, 0.0, 0.0, 2.0, 0.0, 0.0, 1.0], [6956824746964173.0, 0.0, 0.0, 0.0, 0.0, 1.0, 1.0, 0.0, 0.0], [-28267872854039756.0, 0.0, 0.0, 0.0, 0.0, 0.0, 3.0, 0.0, 0.0], [-67242919723232528.0, 0.0, 0.0, 0.0, 0.0, 0.0, 2.0, 0.0, 1.0], [-31649662661589336.0, 0.0, 0.0, 0.0, 0.0, 0.0, 1.0, 0.0, 2.0], [22200531418931176.0, 0.0, 0.0, 0.0, 0.0, 0.0, 1.0, 0.0, 0.0]]\n",
      "[[1.0, 0.0, 1.0, 0.0, 0.0, 0.0, 0.0, 0.0, 0.0], [1.0, 0.0, 0.0, 0.0, 1.0, 0.0, 0.0, 0.0, 0.0], [0.71428571428571419, 0.0, 0.0, 0.0, 0.0, 1.0, 1.0, 0.0, 0.0], [1.0354938271604937, 0.0, 0.0, 0.0, 0.0, 0.0, 3.0, 0.0, 0.0], [0.6882716049382791, 0.0, 0.0, 0.0, 0.0, 0.0, 2.0, 0.0, 1.0], [0.6882716049381844, 0.0, 0.0, 0.0, 0.0, 0.0, 1.0, 0.0, 2.0], [-0.095899470899457606, 0.0, 0.0, 0.0, 0.0, 0.0, 1.0, 0.0, 0.0]]\n",
      "[[1.0, 0.0, 0.0, 0.0, 0.0, 0.0, 0.0, 0.0, 0.0]]\n",
      "[[1.0, 0.0, 0.0, 0.0, 1.0, 0.0, 0.0, 0.0, 1.0], [2511.9999999999973, 0.0, 0.0, 0.0, 0.0, 0.0, 2.0, 0.0, 2.0], [-229.79999999999848, 0.0, 0.0, 0.0, 0.0, 0.0, 2.0, 0.0, 0.0], [-833.14285714285563, 0.0, 0.0, 0.0, 0.0, 0.0, 1.0, 0.0, 1.0], [-18682060436746584.0, 0.0, 0.0, 0.0, 0.0, 0.0, 0.0, 0.0, 0.0]]\n",
      "[[1.0, 0.0, 0.0, 0.0, 0.0, 0.0, 0.0, 1.0, 0.0]]\n",
      "[[1.0, 0.0, 0.0, 0.0, 0.0, 1.0, 0.0, 0.0, 0.0], [0.48611111111109279, 0.0, 0.0, 0.0, 0.0, 0.0, 2.0, 0.0, 0.0], [3.0041005291005156, 0.0, 0.0, 0.0, 0.0, 0.0, 0.0, 0.0, 0.0]]\n",
      "[]\n",
      "A0+A1-0.486111111111*x2**2.0,\n",
      "x2**3.0+1.0*x2**2.0*x3+1.0*x2*x3**2.0-0.857142857143*x2,\n",
      "x1**2.0+x1*x2-38.0*x2**2.0*x3**2.0+6.42013888889*x2**2.0+11.0*x2*x3,\n",
      "A2*x2-0.510308641975*x2**3.0-0.996419753086*x2**2.0*x3-0.996419753086*x2*x3**2.0+0.145740740741*x2,\n",
      "A1*x2**2.0*x3+0.2*A1*x2*x3**2.0-1.22857142857*A1*x2+1.37142857143*A1*x3-1.62114108801*x1*A2-0.274409471391*x1*x2**2.0+1.00415622389*x1+4.7198589132e+16*A2**2.0*x3-2.97896369151e+16*A2*x2+9.30870017657e+16*x2**3.0+1.30511833872e+17*x2**2.0*x3+1.07568075266e+17*x2*x3**2.0-7.11002145561e+16*x2,\n",
      "A1*x1-0.3125*A1*x2**2.0*x3+0.708333333333*A1*x2*x3**2.0+0.896428571429*A1*x2-0.0285714285714*A1*x3+0.887734040985*x1*A2+0.165331985214*x1*x2**2.0-0.9596321533*x1-7.32204145268e+16*A2**2.0*x3+6.95682474696e+15*A2*x2-2.8267872854e+16*x2**3.0-6.72429197232e+16*x2**2.0*x3-3.16496626616e+16*x2*x3**2.0+2.22005314189e+16*x2,\n",
      "x0+x1+0.714285714286*A2*x2+1.03549382716*x2**3.0+0.688271604938*x2**2.0*x3+0.688271604938*x2*x3**2.0-0.0958994708995*x2,\n",
      ",\n",
      "x1*x3+2512.0*x2**2.0*x3**2.0-229.8*x2**2.0-833.142857143*x2*x3-1.86820604367e+16,\n",
      "A3,\n",
      "A2+0.486111111111*x2**2.0+3.0041005291,\n"
     ]
    }
   ],
   "source": [
    "n = 4\n",
    "polynomials = GQ(n)\n",
    "mdeg = 20\n",
    "nvar = n*2\n",
    "M=matC_sparse(polynomials,mdeg,nvar)\n",
    "#print(M)\n",
    "M = run_sparse(M, mdeg,nvar,tol=10**-5,details = True,cal=True)\n",
    "#M.toarray()\n",
    "print_array_sparse(matrix_to_array_sparse(M,mdeg,nvar)) \n",
    "print_all(matrix_to_array_sparse(M,mdeg,nvar),GQ_sym(n),nvar,cal = True)"
   ]
  },
  {
   "cell_type": "code",
   "execution_count": 379,
   "metadata": {
    "collapsed": false
   },
   "outputs": [
    {
     "name": "stdout",
     "output_type": "stream",
     "text": [
      "[-4.4442227675745016e-13, -1.1113332476497817e-13, 1.1102230246251565e-16, 0.0, 0.0, -4.451994328746878e-14]\n"
     ]
    }
   ],
   "source": [
    "A0+A1-0.486111111111*x2**2.0,\n",
    "x2**3.0+1.0*x2**2.0*x3+1.0*x2*x3**2.0-0.857142857143*x2,\n",
    "x1**2.0+x1*x2-38.0*x2**2.0*x3**2.0+6.42013888889*x2**2.0+11.0*x2*x3,\n",
    "A2*x2-0.510308641975*x2**3.0-0.996419753086*x2**2.0*x3-0.996419753086*x2*x3**2.0+0.145740740741*x2,\n",
    "A1*x2**2.0*x3+0.2*A1*x2*x3**2.0-1.22857142857*A1*x2+1.37142857143*A1*x3-1.62114108801*x1*A2-0.274409471391*x1*x2**2.0+1.00415622389*x1+4.7198589132e+16*A2**2.0*x3-2.97896369151e+16*A2*x2+9.30870017657e+16*x2**3.0+1.30511833872e+17*x2**2.0*x3+1.07568075266e+17*x2*x3**2.0-7.11002145561e+16*x2,\n",
    "A1*x1-0.3125*A1*x2**2.0*x3+0.708333333333*A1*x2*x3**2.0+0.896428571429*A1*x2-0.0285714285714*A1*x3+0.887734040985*x1*A2+0.165331985214*x1*x2**2.0-0.9596321533*x1-7.32204145268e+16*A2**2.0*x3+6.95682474696e+15*A2*x2-2.8267872854e+16*x2**3.0-6.72429197232e+16*x2**2.0*x3-3.16496626616e+16*x2*x3**2.0+2.22005314189e+16*x2,\n",
    "x0+x1+0.714285714286*A2*x2+1.03549382716*x2**3.0+0.688271604938*x2**2.0*x3+0.688271604938*x2*x3**2.0-0.0958994708995*x2,\n",
    "x1*x3+2512.0*x2**2.0*x3**2.0-229.8*x2**2.0-833.142857143*x2*x3-1.86820604367e+16,\n",
    "A3,\n",
    "A2+0.486111111111*x2**2.0+3.0041005291\n",
    "\n",
    "Q =[A0-0.555555555556,\n",
    "A2-0.888888888889,\n",
    "x1**2.0-0.6,\n",
    "x0+x1,\n",
    "x2,\n",
    "A1-0.925925925926*x1**2.0]\n",
    "print(Q)"
   ]
  },
  {
   "cell_type": "markdown",
   "metadata": {},
   "source": [
    "# Testing"
   ]
  },
  {
   "cell_type": "markdown",
   "metadata": {},
   "source": [
    "## Generate Gauissian Quaduature "
   ]
  },
  {
   "cell_type": "code",
   "execution_count": 332,
   "metadata": {
    "collapsed": false
   },
   "outputs": [],
   "source": [
    "# nomal Gaussian Quaduature\n",
    "def GQ(n=2):\n",
    "    result = []\n",
    "    for i in range(2*n):\n",
    "        p = []\n",
    "        for j in range(n):\n",
    "            p_s = np.zeros(2*n+1,dtype = int)\n",
    "            p_s[0] = 1\n",
    "            p_s[2*j+1] = 1\n",
    "            p_s[2*j+2] = i\n",
    "            p.append(p_s.tolist())\n",
    "        if i-i/2*2 == 0:\n",
    "            p_s = np.zeros(2*n+1)\n",
    "            p_s[0] = -2./(i+1)\n",
    "            p.append(p_s.tolist())\n",
    "        result.append(p)\n",
    "    return result\n",
    "\n",
    "def GQ_sym(n=2):\n",
    "    result = []\n",
    "    for i in range(2*n):\n",
    "        if i-i/2*2 == 0:\n",
    "            c = \"A%d\"%(i/2)\n",
    "            result.append(c)\n",
    "        else:\n",
    "            c = \"x%d\"%(i/2)\n",
    "            result.append(c)\n",
    "    return result"
   ]
  },
  {
   "cell_type": "markdown",
   "metadata": {},
   "source": [
    "Here we test $p_1=x^2$ and $p_2=xy+y^2$. And get Grobner basis $g_1=x^2, g_2=xy+y^2, g_3 = y^3$."
   ]
  },
  {
   "cell_type": "code",
   "execution_count": 300,
   "metadata": {
    "collapsed": false
   },
   "outputs": [
    {
     "name": "stdout",
     "output_type": "stream",
     "text": [
      "[[1.0, 2.0, 0.0]]\n",
      "[[1.0, 1.0, 1.0], [1.0, 0.0, 2.0]]\n",
      "[[1.0, 0.0, 3.0]]\n"
     ]
    }
   ],
   "source": [
    "p1 = [(1,2,0)]\n",
    "p2 = [(1,1,1),(1,0,2)]\n",
    "polynomials = [p1,p2]\n",
    "mdeg = 5\n",
    "nvar = 2\n",
    "M=matC_sparse(polynomials,mdeg,nvar)\n",
    "#print(M)\n",
    "M = run_sparse(M, mdeg,nvar)\n",
    "#M.toarray()\n",
    "print_array_sparse(matrix_to_array_sparse(M,mdeg,nvar)) \n",
    "\n"
   ]
  },
  {
   "cell_type": "markdown",
   "metadata": {
    "collapsed": true
   },
   "source": [
    "Here we test $p_1=xyz+xy$ and $p_2=x^2y^2z+yz$. And get Grobner basis $g_1=x^2y^2z+yz, g_2=xyz+xy, g_3=x^2y^2-2yz, g_4 = yz^2+yz$."
   ]
  },
  {
   "cell_type": "code",
   "execution_count": 301,
   "metadata": {
    "collapsed": false
   },
   "outputs": [
    {
     "name": "stdout",
     "output_type": "stream",
     "text": [
      "[[1.0, 1.0, 1.0, 1.0], [1.0, 1.0, 1.0, 0.0]]\n",
      "[]\n",
      "[[1.0, 2.0, 2.0, 0.0], [-2.0, 0.0, 1.0, 1.0]]\n",
      "[[1.0, 0.0, 1.0, 2.0], [1.0, 0.0, 1.0, 1.0]]\n"
     ]
    }
   ],
   "source": [
    "p1 = [(1,1,1,1),(1,1,1,0)]\n",
    "p2 = [(2,0,1,1),(1,2,2,1)]\n",
    "polynomials = [p1,p2]\n",
    "mdeg = 5\n",
    "nvar = 3\n",
    "M=matC_sparse(polynomials,mdeg,nvar)\n",
    "#print(M)\n",
    "M = run_sparse(M, mdeg,nvar)\n",
    "#M.toarray()\n",
    "print_array_sparse(matrix_to_array_sparse(M,mdeg,nvar)) "
   ]
  },
  {
   "cell_type": "markdown",
   "metadata": {},
   "source": [
    "# Solving Gaussian Quaduature for $n=2$"
   ]
  },
  {
   "cell_type": "code",
   "execution_count": 302,
   "metadata": {
    "collapsed": false
   },
   "outputs": [
    {
     "name": "stdout",
     "output_type": "stream",
     "text": [
      "[[1.0, 1.0, 0.0, 0.0, 0.0], [-1.0, 0.0, 0.0, 0.0, 0.0]]\n",
      "[]\n",
      "[[1.0, 0.0, 0.0, 0.0, 2.0], [-0.33333333333333331, 0.0, 0.0, 0.0, 0.0]]\n",
      "[]\n",
      "[[1.0, 0.0, 1.0, 0.0, 0.0], [1.0, 0.0, 0.0, 0.0, 1.0]]\n",
      "[[1.0, 0.0, 0.0, 1.0, 0.0], [-3.0, 0.0, 0.0, 0.0, 2.0]]\n",
      "A0-1.00\n",
      "x1^2.0-0.33\n",
      "x0+x1\n",
      "A1-3.00*x1^2.0\n"
     ]
    }
   ],
   "source": [
    "p1= [(1,1,0,0,0),(1,0,0,1,0),(-2,0,0,0,0)]\n",
    "p2= [(1,1,1,0,0),(1,0,0,1,1)]\n",
    "p3= [(1,1,2,0,0),(1,0,0,1,2),(-2.0/3,0,0,0,0)]\n",
    "p4= [(1,1,3,0,0),(1,0,0,1,3)]\n",
    "polynomials = [p1,p2,p3,p4]\n",
    "mdeg = 10\n",
    "nvar = 4\n",
    "M=matC_sparse(polynomials,mdeg,nvar)\n",
    "#print(M)\n",
    "M = run_sparse(M, mdeg,nvar)\n",
    "#M.toarray()\n",
    "print_array_sparse(matrix_to_array_sparse(M,mdeg,nvar)) \n",
    "print_all(matrix_to_array_sparse(M,mdeg,nvar),['A0','x0','A1','x1'],nvar)"
   ]
  },
  {
   "cell_type": "markdown",
   "metadata": {},
   "source": [
    "# Test complexity for different variable degree"
   ]
  },
  {
   "cell_type": "code",
   "execution_count": 303,
   "metadata": {
    "collapsed": false
   },
   "outputs": [
    {
     "name": "stdout",
     "output_type": "stream",
     "text": [
      "A0+A1-2.00\n",
      "A0x0+A1x1\n",
      "A0x0^2.0+A1x1^2.0-0.67\n",
      "A0x0^3.0+A1x1^3.0\n"
     ]
    }
   ],
   "source": [
    "p1= [(1,1,0,0,0),(1,0,0,1,0),(-2,0,0,0,0)]\n",
    "p2= [(1,1,1,0,0),(1,0,0,1,1)]\n",
    "p3= [(1,1,2,0,0),(1,0,0,1,2),(-2.0/3,0,0,0,0)]\n",
    "p4= [(1,1,3,0,0),(1,0,0,1,3)]\n",
    "polynomials = [p1,p2,p3,p4]\n",
    "mdeg = 1000\n",
    "nvar = 4\n",
    "M=matC_sparse(polynomials,mdeg,nvar)\n",
    "print_all(matrix_to_array_sparse(M,mdeg,nvar),['A0','x0','A1','x1'],nvar)"
   ]
  },
  {
   "cell_type": "code",
   "execution_count": 304,
   "metadata": {
    "collapsed": false
   },
   "outputs": [
    {
     "name": "stdout",
     "output_type": "stream",
     "text": [
      "10 loops, best of 3: 129 ms per loop\n"
     ]
    }
   ],
   "source": [
    "%timeit run_sparse(M, mdeg,nvar)"
   ]
  },
  {
   "cell_type": "code",
   "execution_count": 305,
   "metadata": {
    "collapsed": false
   },
   "outputs": [
    {
     "name": "stdout",
     "output_type": "stream",
     "text": [
      "10 loops, best of 3: 121 ms per loop\n"
     ]
    }
   ],
   "source": [
    "mdeg = 10\n",
    "nvar = 4\n",
    "M=matC_sparse(polynomials,mdeg,nvar)\n",
    "%timeit run_sparse(M, mdeg,nvar)"
   ]
  },
  {
   "cell_type": "code",
   "execution_count": 306,
   "metadata": {
    "collapsed": true
   },
   "outputs": [],
   "source": [
    "a = np.array([1,2])"
   ]
  },
  {
   "cell_type": "code",
   "execution_count": 307,
   "metadata": {
    "collapsed": false
   },
   "outputs": [
    {
     "data": {
      "text/plain": [
       "array([1, 2, 1])"
      ]
     },
     "execution_count": 307,
     "metadata": {},
     "output_type": "execute_result"
    }
   ],
   "source": [
    "np.append(a,1)"
   ]
  }
 ],
 "metadata": {
  "anaconda-cloud": {},
  "kernelspec": {
   "display_name": "Python [Root]",
   "language": "python",
   "name": "Python [Root]"
  },
  "language_info": {
   "codemirror_mode": {
    "name": "ipython",
    "version": 2
   },
   "file_extension": ".py",
   "mimetype": "text/x-python",
   "name": "python",
   "nbconvert_exporter": "python",
   "pygments_lexer": "ipython2",
   "version": "2.7.11"
  }
 },
 "nbformat": 4,
 "nbformat_minor": 1
}
